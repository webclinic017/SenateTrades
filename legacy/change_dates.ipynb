{
 "cells": [
  {
   "cell_type": "code",
   "execution_count": 5,
   "metadata": {},
   "outputs": [],
   "source": [
    "import pandas as pd \n",
    "from requests_html import HTMLSession\n",
    "from lxml import html \n",
    "from datetime import date,datetime"
   ]
  },
  {
   "cell_type": "code",
   "execution_count": 14,
   "metadata": {},
   "outputs": [
    {
     "name": "stdout",
     "output_type": "stream",
     "text": [
      "True\n"
     ]
    }
   ],
   "source": [
    "today = date.today()\n",
    "today_sub = '2022-04-08'\n",
    "today_sub_dt = datetime.strptime(\n",
    "    today_sub, '%Y-%m-%d'\n",
    ").date()"
   ]
  },
  {
   "cell_type": "code",
   "execution_count": 3,
   "metadata": {},
   "outputs": [],
   "source": [
    "def fetchSession(url):\n",
    "    session = HTMLSession()\n",
    "    r = session.get(url)\n",
    "    return r\n",
    "\n",
    "def getTrades(r):\n",
    "    table = r.html.find('table')[0]\n",
    "    rows = table.find('tr')\n",
    "    return rows[1:]\n",
    "\n",
    "def arr_to_dict(lst):\n",
    "    it = iter(lst)\n",
    "    res_dict = dict(zip(it,it))\n",
    "    return res_dict \n",
    "\n",
    "def value_to_ints(value):\n",
    "    bad_chars = [\n",
    "        ',','$','-'\n",
    "    ]\n",
    "    for c in bad_chars:\n",
    "        value = value.replace(c,'')\n",
    "    low, high = [\n",
    "        int(x) for x in (value.split('  ', 1))\n",
    "    ]\n",
    "    return [low,high]"
   ]
  },
  {
   "cell_type": "code",
   "execution_count": 26,
   "metadata": {},
   "outputs": [],
   "source": [
    "r = fetchSession('https://sec.report/Senate-Stock-Disclosures')\n",
    "trades = getTrades(r)\n",
    "n = len(trades)\n",
    "all_trades = []\n",
    "l1_head = [\n",
    "    'trade date', 'file date', 'trade', 'senator'\n",
    "]\n",
    "l2_head = [\n",
    "    'trade type', 'value'\n",
    "]"
   ]
  },
  {
   "cell_type": "code",
   "execution_count": 30,
   "metadata": {},
   "outputs": [
    {
     "name": "stdout",
     "output_type": "stream",
     "text": [
      "{'trade date': '2022-03-29', 'file date': '2022-04-08', 'trade': 'Nov 22 CBT Soybeans', 'senator': 'Thomas H Tuberville [Tuberville, Tommy]', 'trade type': 'Purchase', 'value': [1001, 15000]}\n"
     ]
    }
   ],
   "source": [
    "info = []\n",
    "l1_elements = trades[0].find('td')\n",
    "l2_elements = trades[1].find('td')[:-1]\n",
    "file_date, trade_date = l1_elements[0].text.split('\\n')\n",
    "trade = l1_elements[1].text\n",
    "senator = l1_elements[2].text\n",
    "l1_cleaned = [\n",
    "    trade_date,file_date,trade,senator\n",
    "]\n",
    "for h,e in zip(l1_head, l1_cleaned):\n",
    "    info.append(h)\n",
    "    info.append(e)\n",
    "for h,e in zip(l2_head, l2_elements):\n",
    "    info.append(h)\n",
    "    info.append(e.text)\n",
    "info[9] = info[9].split('\\n',1)[0]\n",
    "info[11] = value_to_ints(info[11])\n",
    "info = arr_to_dict(info)\n",
    "print(info)"
   ]
  },
  {
   "cell_type": "code",
   "execution_count": null,
   "metadata": {},
   "outputs": [],
   "source": [
    "for i in range(0,n,2):\n",
    "    trade = []\n",
    "    l1_elements = trades[i].find('td')\n",
    "    l2_elements = trades[i+1].find('td')[:-1]\n",
    "    for h,e in zip(l1_head, l1_elements):\n",
    "        trade.append(h)\n",
    "        trade.append(e.text)\n",
    "    for h,e in zip(l2_head, l2_elements):\n",
    "        trade.append(h)\n",
    "        trade.append(e.text)"
   ]
  }
 ],
 "metadata": {
  "interpreter": {
   "hash": "953dcbbcda697a7411822c4a3e6fce342850cb4e21d1ef3e2d71fa3ba11fc2f4"
  },
  "kernelspec": {
   "display_name": "Python 3.9.1 64-bit",
   "language": "python",
   "name": "python3"
  },
  "language_info": {
   "codemirror_mode": {
    "name": "ipython",
    "version": 3
   },
   "file_extension": ".py",
   "mimetype": "text/x-python",
   "name": "python",
   "nbconvert_exporter": "python",
   "pygments_lexer": "ipython3",
   "version": "3.9.1"
  },
  "orig_nbformat": 4
 },
 "nbformat": 4,
 "nbformat_minor": 2
}
