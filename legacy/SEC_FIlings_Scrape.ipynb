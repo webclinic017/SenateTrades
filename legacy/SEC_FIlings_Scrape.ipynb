{
 "cells": [
  {
   "cell_type": "code",
   "execution_count": 2,
   "metadata": {},
   "outputs": [],
   "source": [
    "import pandas as pd \n",
    "from requests_html import HTMLSession\n",
    "import os\n",
    "import requests\n",
    "from lxml import html \n",
    "import csv\n",
    "from datetime import date"
   ]
  },
  {
   "cell_type": "code",
   "execution_count": 3,
   "metadata": {},
   "outputs": [
    {
     "name": "stdout",
     "output_type": "stream",
     "text": [
      "<Response [200]>\n"
     ]
    }
   ],
   "source": [
    "today = date.today()\n",
    "# most recent trading day used for testing \n",
    "today_sub = '2022-04-08'\n",
    "session = HTMLSession()\n",
    "url = 'https://sec.report/Senate-Stock-Disclosures'\n",
    "r = session.get(url)\n",
    "print(r)"
   ]
  },
  {
   "cell_type": "code",
   "execution_count": 4,
   "metadata": {},
   "outputs": [],
   "source": [
    "table = r.html.find('table')[0]\n",
    "rows = table.find('tr')\n",
    "trades = rows[1:]\n",
    "n = len(trades)"
   ]
  },
  {
   "cell_type": "code",
   "execution_count": 5,
   "metadata": {},
   "outputs": [],
   "source": [
    "def arr_to_dict(lst):\n",
    "    it = iter(lst)\n",
    "    res_dict = dict(zip(it,it))\n",
    "    return res_dict \n",
    "def value_to_ints(value):\n",
    "    bad_chars = [\n",
    "        ',','$','-'\n",
    "    ]\n",
    "    for c in bad_chars:\n",
    "        value = value.replace(c,'')\n",
    "    low, high = [\n",
    "        int(x) for x in (value.split('  ', 1))\n",
    "    ]\n",
    "    return [low,high]"
   ]
  },
  {
   "cell_type": "code",
   "execution_count": 11,
   "metadata": {},
   "outputs": [],
   "source": [
    "all_trades = []\n",
    "l1_head = [\n",
    "    'file date', 'trade', 'senator'\n",
    "]\n",
    "l2_head = [\n",
    "    'trade type', 'value'\n",
    "]\n",
    "current = True\n",
    "while current:\n",
    "    for i in range(0,n,2):\n",
    "        trade = []\n",
    "        l1_elements = trades[i].find('td')\n",
    "        l2_elements = trades[i+1].find('td')[:-1]\n",
    "        for h,e in zip(l1_head, l1_elements):\n",
    "            trade.append(h)\n",
    "            trade.append(e.text)\n",
    "        for h,e in zip(l2_head, l2_elements):\n",
    "            trade.append(h)\n",
    "            trade.append(e.text)\n",
    "        trade[1] = trade[1][:10]\n",
    "        # today_sub used #\n",
    "        if str(today) != trade[1]:\n",
    "            current = False\n",
    "            break\n",
    "        trade[7] = trade[7].split('\\n', 1)[0]\n",
    "        trade[9] = value_to_ints(trade[9])\n",
    "        trade = arr_to_dict(trade)\n",
    "        all_trades.append(trade)"
   ]
  },
  {
   "cell_type": "code",
   "execution_count": 12,
   "metadata": {},
   "outputs": [
    {
     "name": "stdout",
     "output_type": "stream",
     "text": [
      "[{'file date': '2022-04-13', 'trade': 'Del Taco Restaurants, Inc. - Common Stock [TACO]', 'senator': 'William F Hagerty, IV [Hagerty, Bill]', 'trade type': 'Sale (Partial)', 'value': [15001, 50000]}]\n"
     ]
    }
   ],
   "source": [
    "# scans for trades with value over certain amount (???)\n",
    "print(all_trades)"
   ]
  },
  {
   "cell_type": "markdown",
   "metadata": {},
   "source": [
    "# To do \n",
    "\n",
    "- decide on filter metric for determning high-value trades (just buys?)\n",
    "- set up email (delivery method?) to send high-value trades from this address to me (and others?)\n",
    "- create script to run program at certain times (twice a day? noon and at market close?)\n",
    "- monitor senate disclosure site (publish on trades file date? always within a window of file date? publish at certain time?)\n",
    "- search ticker in google and send top news article links with notification? mkt watch link using ticker?\n",
    "- filter out commodity/debt trades"
   ]
  }
 ],
 "metadata": {
  "interpreter": {
   "hash": "953dcbbcda697a7411822c4a3e6fce342850cb4e21d1ef3e2d71fa3ba11fc2f4"
  },
  "kernelspec": {
   "display_name": "Python 3.9.1 64-bit",
   "language": "python",
   "name": "python3"
  },
  "language_info": {
   "codemirror_mode": {
    "name": "ipython",
    "version": 3
   },
   "file_extension": ".py",
   "mimetype": "text/x-python",
   "name": "python",
   "nbconvert_exporter": "python",
   "pygments_lexer": "ipython3",
   "version": "3.9.1"
  },
  "orig_nbformat": 4
 },
 "nbformat": 4,
 "nbformat_minor": 2
}
