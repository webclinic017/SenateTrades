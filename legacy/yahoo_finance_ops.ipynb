{
 "cells": [
  {
   "cell_type": "code",
   "execution_count": 6,
   "metadata": {},
   "outputs": [],
   "source": [
    "import pandas as pd \n",
    "from requests_html import HTMLSession\n",
    "import os\n",
    "import requests\n",
    "from lxml import html \n",
    "import csv\n",
    "from datetime import date,datetime\n",
    "import re \n",
    "from bs4 import BeautifulSoup\n",
    "import nums_from_string"
   ]
  },
  {
   "cell_type": "code",
   "execution_count": 7,
   "metadata": {},
   "outputs": [],
   "source": [
    "def fetchSession(url):\n",
    "    session = HTMLSession()\n",
    "    r = session.get(url)\n",
    "    return r\n",
    "\n",
    "def getTrades(r):\n",
    "    table = r.html.find('table')[0]\n",
    "    rows = table.find('tr')\n",
    "    return rows[1:]"
   ]
  },
  {
   "cell_type": "code",
   "execution_count": 8,
   "metadata": {},
   "outputs": [],
   "source": [
    "def getHTML(url):\n",
    "    r = fetchSession(url)\n",
    "    h = r.text\n",
    "    doc = BeautifulSoup(h, 'html.parser')\n",
    "    return doc\n",
    "\n",
    "def parseToMillions(value_string):\n",
    "    unit = value_string[-1:]\n",
    "    number = nums_from_string.get_nums(value_string)[0]\n",
    "    #keep in units of millions\n",
    "    if unit == 'B':\n",
    "        number = number * 1000\n",
    "    elif unit == 'T':\n",
    "        number = number * 1000000\n",
    "    return number"
   ]
  },
  {
   "cell_type": "code",
   "execution_count": 9,
   "metadata": {},
   "outputs": [],
   "source": [
    "# first row of second table on yahoo finance site \n",
    "def getFirstRowEntry(ticker):\n",
    "    url = 'https://finance.yahoo.com/quote/{}/'.format(ticker)\n",
    "    soup = getHTML(url)\n",
    "    quote_summary = soup.find(id='quote-summary')\n",
    "    if quote_summary is None:\n",
    "        return -1\n",
    "    tables = quote_summary.find_all('table')\n",
    "    if len(tables) == 0:\n",
    "        return -1\n",
    "    # right side table\n",
    "    mc_table = tables[1]\n",
    "    # get all rows\n",
    "    mc_rows = mc_table.find_all('td')\n",
    "    # entire row \n",
    "    mc_string = str(mc_rows[1])\n",
    "    return mc_string"
   ]
  },
  {
   "cell_type": "code",
   "execution_count": 10,
   "metadata": {},
   "outputs": [],
   "source": [
    "def isStock(row_one):\n",
    "    flag = 'data-test=\"(.*)-value'\n",
    "    marker = re.search(\n",
    "        flag, row_one\n",
    "    ).group(1)\n",
    "    if marker == 'MARKET_CAP':\n",
    "        return 1\n",
    "    elif marker == 'NET_ASSETS':\n",
    "        return 0\n",
    "    # N/A\n",
    "    else:\n",
    "        return -1"
   ]
  },
  {
   "cell_type": "code",
   "execution_count": 14,
   "metadata": {},
   "outputs": [],
   "source": [
    "def getNAVCAP(row_one):\n",
    "    value = re.search('>(.*)<', row_one).group(1)\n",
    "    if value == 'N/A':\n",
    "        return -1\n",
    "    return round(parseToMillions(value),2)"
   ]
  },
  {
   "cell_type": "code",
   "execution_count": 16,
   "metadata": {},
   "outputs": [
    {
     "name": "stdout",
     "output_type": "stream",
     "text": [
      "1\n",
      "0\n",
      "2722000.0\n",
      "169450.0\n"
     ]
    }
   ],
   "source": [
    "aapl_row = getFirstRowEntry('AAPL')\n",
    "vug_row = getFirstRowEntry('VUG')\n",
    "print(isStock(aapl_row))\n",
    "print(isStock(vug_row))\n",
    "print(getNAVCAP(aapl_row))\n",
    "print(getNAVCAP(vug_row))"
   ]
  },
  {
   "cell_type": "code",
   "execution_count": 17,
   "metadata": {},
   "outputs": [],
   "source": [
    "def isSmallCapStock(ticker):\n",
    "    row_output = getFirstRowEntry(ticker)\n",
    "    if isStock(row_output) == 1:\n",
    "            mkt_cap = getNAVCAP(row_output)\n",
    "            if mkt_cap < 2000 and mkt_cap > 0:\n",
    "                return True\n",
    "    return False"
   ]
  },
  {
   "cell_type": "code",
   "execution_count": 21,
   "metadata": {},
   "outputs": [
    {
     "name": "stdout",
     "output_type": "stream",
     "text": [
      "True\n"
     ]
    }
   ],
   "source": [
    "print(isSmallCapStock('ECOM'))"
   ]
  }
 ],
 "metadata": {
  "interpreter": {
   "hash": "953dcbbcda697a7411822c4a3e6fce342850cb4e21d1ef3e2d71fa3ba11fc2f4"
  },
  "kernelspec": {
   "display_name": "Python 3.9.1 64-bit",
   "language": "python",
   "name": "python3"
  },
  "language_info": {
   "codemirror_mode": {
    "name": "ipython",
    "version": 3
   },
   "file_extension": ".py",
   "mimetype": "text/x-python",
   "name": "python",
   "nbconvert_exporter": "python",
   "pygments_lexer": "ipython3",
   "version": "3.9.1"
  },
  "orig_nbformat": 4
 },
 "nbformat": 4,
 "nbformat_minor": 2
}
