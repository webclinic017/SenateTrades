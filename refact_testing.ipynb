{
 "cells": [
  {
   "cell_type": "code",
   "execution_count": 137,
   "metadata": {},
   "outputs": [],
   "source": [
    "from requests_html import HTMLSession\n",
    "from lxml import html \n",
    "from datetime import date,datetime\n",
    "import smtplib, ssl\n",
    "from email.mime.text import MIMEText\n",
    "from email.mime.multipart import MIMEMultipart\n",
    "import sys\n",
    "import re \n",
    "from bs4 import BeautifulSoup\n",
    "import nums_from_string"
   ]
  },
  {
   "cell_type": "markdown",
   "metadata": {},
   "source": [
    "## Helper Methods"
   ]
  },
  {
   "cell_type": "code",
   "execution_count": 138,
   "metadata": {},
   "outputs": [],
   "source": [
    "def fetchSession(url):\n",
    "    session = HTMLSession()\n",
    "    r = session.get(url)\n",
    "    return r\n",
    "\n",
    "def getTrades(r):\n",
    "    table = r.html.find('table')[0]\n",
    "    rows = table.find('tr')\n",
    "    return rows[1:]\n",
    "\n",
    "def value_to_ints(value):\n",
    "    bad_chars = [\n",
    "        ',','$','-'\n",
    "    ]\n",
    "    for c in bad_chars:\n",
    "        value = value.replace(c,'')\n",
    "    low, high = [\n",
    "        int(x) for x in (value.split('  ', 1))\n",
    "    ]\n",
    "    return [low,high]"
   ]
  },
  {
   "cell_type": "code",
   "execution_count": 139,
   "metadata": {},
   "outputs": [],
   "source": [
    "def getHTML(url):\n",
    "    r = fetchSession(url)\n",
    "    h = r.text\n",
    "    doc = BeautifulSoup(h, 'html.parser')\n",
    "    return doc\n",
    "\n",
    "def getTicker(trade_):\n",
    "    try:\n",
    "        return re.findall('\\[(.*?)\\]', trade_)[0]\n",
    "    except IndexError:\n",
    "        return ''"
   ]
  },
  {
   "cell_type": "code",
   "execution_count": 140,
   "metadata": {},
   "outputs": [],
   "source": [
    "def getFirstRowEntry(ticker):\n",
    "    url = 'https://finance.yahoo.com/quote/{}/'.format(ticker)\n",
    "    soup = getHTML(url)\n",
    "    quote_summary = soup.find(id='quote-summary')\n",
    "    if quote_summary is None:\n",
    "        return ''\n",
    "    tables = quote_summary.find_all('table')\n",
    "    if len(tables) == 0:\n",
    "        return ''\n",
    "    # right side table\n",
    "    mc_table = tables[1]\n",
    "    # get all rows\n",
    "    mc_rows = mc_table.find_all('td')\n",
    "    # entire row \n",
    "    mc_string = str(mc_rows[1])\n",
    "    return mc_string\n",
    "\n",
    "def isStock(row_one):\n",
    "    flag = 'data-test=\"(.*)-value'\n",
    "    seach = re.search(\n",
    "        flag, row_one\n",
    "    )\n",
    "    if seach is None:\n",
    "        return -1\n",
    "    marker = seach.group(1)\n",
    "    if marker == 'MARKET_CAP':\n",
    "        return 1\n",
    "    elif marker == 'NET_ASSETS':\n",
    "        return 0\n",
    "    # N/A\n",
    "    else:\n",
    "        return -1\n",
    "\n",
    "def parseToMillions(value_string):\n",
    "    unit = value_string[-1:]\n",
    "    number = nums_from_string.get_nums(value_string)[0]\n",
    "    #keep in units of millions\n",
    "    if unit == 'B':\n",
    "        number = number * 1000\n",
    "    elif unit == 'T':\n",
    "        number = number * 1000000\n",
    "    return number\n",
    "\n",
    "def getNAVCAP(row_one):\n",
    "    value = re.search('>(.*)<', row_one).group(1)\n",
    "    if value == 'N/A':\n",
    "        return -1\n",
    "    return round(parseToMillions(value),2)\n",
    "\n",
    "def isSmallCapStock(row_one):\n",
    "    if isStock(row_one) == 1:\n",
    "            mkt_cap = getNAVCAP(row_one)\n",
    "            if mkt_cap < 2000 and mkt_cap > 0:\n",
    "                return True\n",
    "    return False"
   ]
  },
  {
   "cell_type": "code",
   "execution_count": 166,
   "metadata": {},
   "outputs": [],
   "source": [
    "def writeToFile(trades):\n",
    "    with open('data/daily_trades.txt', 'w') as f:\n",
    "        for t in trades:\n",
    "            for (key,item) in t.items():\n",
    "                if key == 'Yahoo!':\n",
    "                    f.write(\n",
    "                        '%s\\n' % (\n",
    "                        item\n",
    "                        )\n",
    "                    )\n",
    "                else:\n",
    "                    f.write(\n",
    "                        '%s : %s\\n' % (\n",
    "                        key,item\n",
    "                        )\n",
    "                    )\n",
    "            f.write('\\n')\n",
    "\n",
    "def sendEmail():\n",
    "    port = 465\n",
    "    send_email = 'ders.mailbot@gmail.com'\n",
    "    receive_email = 'andersseline15@gmail.com'\n",
    "    # encrypt \n",
    "    password = 'Mailbot15'\n",
    "\n",
    "    with open('data/daily_trades.txt', 'r') as f:\n",
    "        data = f.read()\n",
    "\n",
    "    # if the length of the string from the file is not 0, then there was a \n",
    "    # (major) trade executed today\n",
    "    if len(data) != 0:\n",
    "        print('major trade found.')\n",
    "        message = MIMEMultipart('alternative')\n",
    "        message['Subject'] = 'Trade Alert'\n",
    "        message['From'] = 'SenateStockWatch'\n",
    "        message['To'] = send_email # change post testing\n",
    "        message['Bcc'] = receive_email\n",
    "        body = MIMEText(data, 'plain')\n",
    "        message.attach(body)\n",
    "\n",
    "        context = ssl.create_default_context()\n",
    "        with smtplib.SMTP_SSL('smtp.gmail.com', port, context=context) as server:\n",
    "            server.login(send_email, password)\n",
    "            server.sendmail(\n",
    "                send_email, send_email, message.as_string()\n",
    "            )\n",
    "            print('mail sent.')\n",
    "    else:\n",
    "        print('no major trades.')"
   ]
  },
  {
   "cell_type": "markdown",
   "metadata": {},
   "source": [
    "## Testing"
   ]
  },
  {
   "cell_type": "markdown",
   "metadata": {},
   "source": [
    "### Method to scrape trades with mkt cap and purchase logic all together"
   ]
  },
  {
   "cell_type": "code",
   "execution_count": 142,
   "metadata": {},
   "outputs": [],
   "source": [
    "def scrapeImportantTrades(today=datetime.today().date(), onlyToday=False):\n",
    "    r = fetchSession('https://sec.report/Senate-Stock-Disclosures')\n",
    "    # if website is down\n",
    "    try:\n",
    "        trades = getTrades(r)\n",
    "    except IndexError:\n",
    "        print('website may be down. quitting.')\n",
    "        sys.exit(1)\n",
    "\n",
    "    n = len(trades)\n",
    "    all_trades = []\n",
    "\n",
    "    for i in range(0,n,2):\n",
    "        imp_trade = False\n",
    "        l1_elements = trades[i].find('td')\n",
    "        l2_elements = trades[i+1].find('td')[:-1]\n",
    "\n",
    "        # ensure trade is a purchase, otherwise contniue to next trade\n",
    "        trade_type = l2_elements[0].text.split('\\n', 1)[0]\n",
    "        if trade_type != 'Purchase':\n",
    "            continue\n",
    "\n",
    "        file_date, trade_date = l1_elements[0].text.split('\\n')\n",
    "        if file_date != today and onlyToday:\n",
    "            break\n",
    "        trade = l1_elements[1].text\n",
    "        senator = l1_elements[2].text\n",
    "        value = value_to_ints(l2_elements[1].text)\n",
    "        \n",
    "        ticker = getTicker(trade)\n",
    "        if ticker != '':\n",
    "            row_one = getFirstRowEntry(ticker)\n",
    "            mkt_cap = getNAVCAP(row_one)\n",
    "            small_mktCap = mkt_cap < 2000 and mkt_cap > 0\n",
    "            medium_mktCap = mkt_cap >= 2000 and mkt_cap <= 10000\n",
    "            large_mktCap = mkt_cap > 10000\n",
    "            # any small caps, medium purchase medium caps, large purchase large cap\n",
    "            if isStock(row_one) and small_mktCap:\n",
    "                imp_trade = True\n",
    "                cap_string = 'small'\n",
    "            elif isStock(row_one) and medium_mktCap and value[0] >= 50000:\n",
    "                imp_trade = True\n",
    "                cap_string = 'medium'\n",
    "            elif isStock(row_one) and large_mktCap and value[0] >= 100000:\n",
    "                imp_trade = True\n",
    "                cap_string = 'large'\n",
    "\n",
    "            if imp_trade:\n",
    "                url = 'https://finance.yahoo.com/quote/{}/'.format(ticker)\n",
    "                trade_dict = {\n",
    "                    'trade date' : trade_date,\n",
    "                    'file date' : file_date,\n",
    "                    'senator' : senator,\n",
    "                    'trade' : trade,\n",
    "                    'trade type' : trade_type,\n",
    "                    'value' : value,\n",
    "                    'mkt cap' : cap_string,\n",
    "                    'yahoo finance' : url\n",
    "                }\n",
    "                all_trades.append(trade_dict)\n",
    "    return all_trades"
   ]
  },
  {
   "cell_type": "code",
   "execution_count": 143,
   "metadata": {},
   "outputs": [],
   "source": [
    "important_trades_all = scrapeImportantTrades()"
   ]
  },
  {
   "cell_type": "code",
   "execution_count": 148,
   "metadata": {},
   "outputs": [
    {
     "name": "stdout",
     "output_type": "stream",
     "text": [
      "trade date : 2022-03-30\n",
      "file date : 2022-04-08\n",
      "senator : Thomas H Tuberville [Tuberville, Tommy]\n",
      "trade : Limestone Bancorp, Inc. - Common Stock [LMST]\n",
      "trade type : Purchase\n",
      "value : [1001, 15000]\n",
      "mkt cap : small\n",
      "yahoo finance : https://finance.yahoo.com/quote/LMST/\n",
      "\n",
      "\n",
      "trade date : 2022-03-30\n",
      "file date : 2022-04-08\n",
      "senator : Thomas H Tuberville [Tuberville, Tommy]\n",
      "trade : First Guaranty Bancshares, Inc. - Common Stock [FGBI]\n",
      "trade type : Purchase\n",
      "value : [1001, 15000]\n",
      "mkt cap : small\n",
      "yahoo finance : https://finance.yahoo.com/quote/FGBI/\n",
      "\n",
      "\n"
     ]
    }
   ],
   "source": [
    "for t in important_trades_all[0:2]:\n",
    "    for key,value in t.items():\n",
    "        print(key, ':', value)\n",
    "    print('\\n')"
   ]
  },
  {
   "cell_type": "code",
   "execution_count": 149,
   "metadata": {},
   "outputs": [
    {
     "name": "stdout",
     "output_type": "stream",
     "text": [
      "no important trades today.\n"
     ]
    }
   ],
   "source": [
    "important_trades_today = scrapeImportantTrades(onlyToday=True)\n",
    "if len(important_trades_today) != 0:\n",
    "    print(important_trades_today)\n",
    "else:\n",
    "    print('no important trades today.')"
   ]
  },
  {
   "cell_type": "markdown",
   "metadata": {},
   "source": [
    "## Email Appearance"
   ]
  },
  {
   "cell_type": "code",
   "execution_count": 175,
   "metadata": {},
   "outputs": [],
   "source": [
    "def cleanText(trades_list):\n",
    "    trades_for_txt = []\n",
    "    for t in trades_list:\n",
    "        trade_date = str(t['trade date']) + ' (' + str((\n",
    "                datetime.today().date() - datetime.strptime(\n",
    "                    t['trade date'], '%Y-%m-%d'\n",
    "                ).date()\n",
    "            )).split(',')[0] + ' ago)'\n",
    "\n",
    "        value_string = '$' + (\n",
    "            \"{:,}\".format(t['value'][0])\n",
    "        ) + ' to $' + (\n",
    "            \"{:,}\".format(t['value'][1])\n",
    "        )\n",
    "\n",
    "        if t['mkt cap'] == 'small':\n",
    "            mkt_cap_string = 'Small Cap (Under $2B)'\n",
    "        elif t['mkt cap'] == 'medium':\n",
    "            mkt_cap_string = 'Medium Cap ($2B to $10B)'\n",
    "        else:\n",
    "            mkt_cap_string = 'Large Cap (Over $10B)'\n",
    "\n",
    "        trades_for_txt.append(\n",
    "            {\n",
    "                'Trade Date' : trade_date,\n",
    "                'File Date' : t['file date'],\n",
    "                'Senator' : t['senator'],\n",
    "                'Equity' : t['trade'],\n",
    "                'Trade Value' : value_string,\n",
    "                'Market Cap' : mkt_cap_string,\n",
    "                'Yahoo!' : t['yahoo finance']\n",
    "            }\n",
    "        )\n",
    "    return trades_for_txt"
   ]
  },
  {
   "cell_type": "code",
   "execution_count": 176,
   "metadata": {},
   "outputs": [
    {
     "name": "stdout",
     "output_type": "stream",
     "text": [
      "Trade Date : 2022-03-30 (22 days ago)\n",
      "File Date : 2022-04-08\n",
      "Senator : Thomas H Tuberville [Tuberville, Tommy]\n",
      "Equity : Limestone Bancorp, Inc. - Common Stock [LMST]\n",
      "Trade Value : $1,001 to $15,000\n",
      "Market Cap : Small Cap (Under $2B)\n",
      "https://finance.yahoo.com/quote/LMST/\n"
     ]
    }
   ],
   "source": [
    "cleaned_trades = cleanText(important_trades_all)\n",
    "for key,value in cleaned_trades[0].items():\n",
    "    if key == 'Yahoo!':\n",
    "        print(value)\n",
    "        continue\n",
    "    print(key, ':', value)"
   ]
  },
  {
   "cell_type": "code",
   "execution_count": 177,
   "metadata": {},
   "outputs": [],
   "source": [
    "writeToFile(cleaned_trades)"
   ]
  },
  {
   "cell_type": "code",
   "execution_count": 178,
   "metadata": {},
   "outputs": [
    {
     "name": "stdout",
     "output_type": "stream",
     "text": [
      "major trade found.\n",
      "mail sent.\n"
     ]
    }
   ],
   "source": [
    "sendEmail()"
   ]
  },
  {
   "cell_type": "markdown",
   "metadata": {},
   "source": [
    "## Getting Links to Google News Articles"
   ]
  },
  {
   "cell_type": "code",
   "execution_count": 194,
   "metadata": {},
   "outputs": [],
   "source": [
    "# takes trade line and converts to url formatting\n",
    "def cleanURLQuery(trade):\n",
    "    return trade.replace(' ', '%20').replace(',', '').replace('[','%5B').replace(']','%5D')"
   ]
  },
  {
   "cell_type": "code",
   "execution_count": 195,
   "metadata": {},
   "outputs": [],
   "source": [
    "urls = []\n",
    "# ... limestone%20bancorp%20inc.%20-%20common%20stock%20%5Blmst%5 ... \n",
    "for t in important_trades_all:\n",
    "    urls.append(\n",
    "        'https://news.google.com/search?q={}&hl=en-US&gl=US&ceid=US%3Aen'.format(\n",
    "            cleanURLQuery(t['trade'])\n",
    "        )\n",
    "    )"
   ]
  },
  {
   "cell_type": "code",
   "execution_count": 218,
   "metadata": {},
   "outputs": [
    {
     "data": {
      "text/plain": [
       "[<main class=\"HKt8rc CGNRMc\" jslog=\"94187; 3:W251bGwsbnVsbCxudWxsLG51bGwsbnVsbCxudWxsLDE0MSxudWxsLG51bGwsbnVsbCwzN10=\" jsname=\"fjw8sb\"><c-wiz c-wiz=\"\" class=\"FffXzd\" data-n-ca-it=\"Limestone Bancorp Inc. - Common Stock [LMST]\" data-n-et=\"406\" data-n-ham=\"true\" data-n-q=\"Limestone Bancorp Inc. - Common Stock [LMST]\" data-node-index=\"0;0\" data-p='%.@.\"Limestone Bancorp Inc. - Common Stock [LMST]\",[[\"en-US\",\"US\",[\"SPORTS_FULL_COVERAGE\",\"WEB_TEST_1_0_0\"],null,[],1,1,\"US:en\"],\"en-US\",\"US\",true,[2,4,28],1,true,\"442274222\",false,false],1]' jsaction=\"rcuQ6b:npT2md;\" jscontroller=\"o2EnYc\" jsdata=\"deferred-i2\" jsmodel=\"hc6Ubd GITtrd hT8rr\" jsrenderer=\"vBVNjc\" view=\"\"><div class=\"lBwEZb BL5WZb xP6mwf\" data-n-et=\"200\" data-n-ham=\"true\" jscontroller=\"SpTAFc\" jsdata=\"tbf4if;ui|124+97e5c89c-bca0-4f25-8cff-331887764f2d,ui|124+48ac1620-64d0-4573-b91b-9cdf41d52d30;3\" jsmodel=\"dPwZPd hT8rr\" jsname=\"esK7Lc\"><div class=\"NiLAwe y6IFtc R7GTQ keNKEd j7vNaf\" jslog=\"93789; 3:W251bGwsbnVsbCxudWxsLG51bGwsIiIsbnVsbCwxNDEsbnVsbCxudWxsLG51bGwsMzcsbnVsbCxudWxsLFtbW251bGwsIkxpbWVzdG9uZSBCYW5jb3JwIEluYy4gLSBDb21tb24gU3RvY2sgW0xNU1RdIl1dLDFdLG51bGwsMl0=; track:vis; index:0\"><div class=\"xrnccd\"><article class=\"MQsxIb xTewfe R7GTQ keNKEd j7vNaf Cc0Z5d EjqUne\" data-kind=\"13\" data-n-cvid=\"i4\" data-n-et=\"107\" data-n-ham=\"true\" data-n-vlb=\"0\" jsaction=\";rcuQ6b:npT2md; click:KjsqPd;\" jscontroller=\"HyhIue\" jsdata=\"oM6qxc;CBMigwFodHRwczovL3N0b2NraG91c2UuY29tL25ld3MvcHJlc3MtcmVsZWFzZXMvMjAyMi8wNC8yMC9saW1lc3RvbmUtYmFuY29ycC1yZXBvcnRzLW5ldC1pbmNvbWUtb2YtMy02LW1pbGxpb24tb3ItMC00Ny1wZXItZGlsdXRlZC1zaGFyZdIBAA;4\" jslog=\"85008; 3:W251bGwsbnVsbCxudWxsLG51bGwsIiIsbnVsbCwxNDEsbnVsbCxudWxsLG51bGwsMzcsbnVsbCxudWxsLFtbW251bGwsIkxpbWVzdG9uZSBCYW5jb3JwIEluYy4gLSBDb21tb24gU3RvY2sgW0xNU1RdIl1dLDFdLG51bGwsMl0=; track:vis; index:0\" jsmodel=\"a4N6Ae hT8rr\" ve-visible=\"false\"><a aria-hidden=\"true\" class=\"VDXfz\" href=\"./articles/CBMigwFodHRwczovL3N0b2NraG91c2UuY29tL25ld3MvcHJlc3MtcmVsZWFzZXMvMjAyMi8wNC8yMC9saW1lc3RvbmUtYmFuY29ycC1yZXBvcnRzLW5ldC1pbmNvbWUtb2YtMy02LW1pbGxpb24tb3ItMC00Ny1wZXItZGlsdXRlZC1zaGFyZdIBAA?hl=en-US&amp;gl=US&amp;ceid=US%3Aen\" jslog=\"95014; 5:W251bGwsbnVsbCxudWxsLG51bGwsbnVsbCxudWxsLG51bGwsbnVsbCwiaHR0cHM6Ly9zdG9ja2hvdXNlLmNvbS9uZXdzL3ByZXNzLXJlbGVhc2VzLzIwMjIvMDQvMjAvbGltZXN0b25lLWJhbmNvcnAtcmVwb3J0cy1uZXQtaW5jb21lLW9mLTMtNi1taWxsaW9uLW9yLTAtNDctcGVyLWRpbHV0ZWQtc2hhcmUiXQ==; track:click,vis\" jsname=\"hXwDdf\" tabindex=\"-1\" target=\"_blank\"></a><h3 class=\"ipQwMb ekueJc RD0gLb\"><a class=\"DY5T1d RZIKme\" href=\"./articles/CBMigwFodHRwczovL3N0b2NraG91c2UuY29tL25ld3MvcHJlc3MtcmVsZWFzZXMvMjAyMi8wNC8yMC9saW1lc3RvbmUtYmFuY29ycC1yZXBvcnRzLW5ldC1pbmNvbWUtb2YtMy02LW1pbGxpb24tb3ItMC00Ny1wZXItZGlsdXRlZC1zaGFyZdIBAA?hl=en-US&amp;gl=US&amp;ceid=US%3Aen\">2022-04-20 | NDAQ:LMST | Press Release | Limestone Bancorp Inc.</a></h3><div class=\"QmrVtf RD0gLb kybdz\"><div class=\"SVJrMe\" jsname=\"Hn1wIf\"><svg class=\"N3ElHc eLNT1d uQIVzc NMm5M\" focusable=\"false\" height=\"18\" viewbox=\"0 0 24 24\" width=\"18\"><path d=\"M0 0h24v24H0V0z\" fill=\"none\"></path><path d=\"M21.58 7.19c-.23-.86-.91-1.54-1.77-1.77C18.25 5 12 5 12 5s-6.25 0-7.81.42c-.86.23-1.54.91-1.77 1.77C2 8.75 2 12 2 12s0 3.25.42 4.81c.23.86.91 1.54 1.77 1.77C5.75 19 12 19 12 19s6.25 0 7.81-.42c.86-.23 1.54-.91 1.77-1.77C22 15.25 22 12 22 12s0-3.25-.42-4.81zM10 15V9l5.2 3-5.2 3z\"></path></svg><a class=\"wEwyrc AVN2gc uQIVzc Sksgp\" data-n-tid=\"9\">Stockhouse</a><time class=\"WW6dff uQIVzc Sksgp\" datetime=\"2022-04-20T20:17:48Z\">Yesterday</time></div><menu class=\"fmkQje gXqRq\"><div class=\"OGsJDe L8PZAb R71ogd\" data-n-ca-at=\"2\" data-n-et=\"1000\" data-n-ssice=\"false\" data-n-st=\"bookmark\" data-n-suwu=\"false\" jsaction=\"rcuQ6b:npT2md;JIbuQc:h5M12e;eEPUnd:h5M12e;YohPuc:CE7Jad;qW1nqe:kjc9zd;\" jscontroller=\"pQWkX\" jsdata=\"oM6qxc;CBMigwFodHRwczovL3N0b2NraG91c2UuY29tL25ld3MvcHJlc3MtcmVsZWFzZXMvMjAyMi8wNC8yMC9saW1lc3RvbmUtYmFuY29ycC1yZXBvcnRzLW5ldC1pbmNvbWUtb2YtMy02LW1pbGxpb24tb3ItMC00Ny1wZXItZGlsdXRlZC1zaGFyZdIBAA;4\" jsmodel=\"BZ12ub\" jsname=\"ms4Zd\"><div aria-disabled=\"false\" aria-label=\"Follow\" class=\"U26fgb YOnsCc waNn5b ZqhUjb ztUP4e uUmIDd cd29Sd V3dfMc w0hkKb M9Bg4d\" data-n-et=\"1000\" jsaction=\"click:cOuCgd; mousedown:UX7yZ; mouseup:lbsD7e; mouseenter:tfO1Yc; mouseleave:JywGue; focus:AHmuwe; blur:O22p3e; contextmenu:mg9Pef;touchstart:p6p2H; touchmove:FwuNnf; touchend:yfqBxc(preventMouseEvents=true|preventDefault=true); touchcancel:JMtRjd;;OuuAFc:UauMyf;gSufsc:BS8cLb;RyWlBb:tC9Erd;UTnG9:aDaYxb;nUyoxf:El6wk;\" jscontroller=\"zbPkme\" jsname=\"itaskb\" jsshadow=\"\" role=\"button\" tabindex=\"0\"><div class=\"XI1L0d zSBur\" jsname=\"ksKsZd\"></div><span aria-hidden=\"true\" class=\"DPvwYc ChwdAb Xd067b fAk9Qc\" jsname=\"BC5job\">bookmark_border</span></div></div><span class=\"L8PZAb uG2FLd\" data-n-ca-at=\"8\" data-n-et=\"1000\" jsaction=\"JIbuQc:RNDhHe;\" jscontroller=\"ZHduwf\" jsdata=\"oM6qxc;CBMigwFodHRwczovL3N0b2NraG91c2UuY29tL25ld3MvcHJlc3MtcmVsZWFzZXMvMjAyMi8wNC8yMC9saW1lc3RvbmUtYmFuY29ycC1yZXBvcnRzLW5ldC1pbmNvbWUtb2YtMy02LW1pbGxpb24tb3ItMC00Ny1wZXItZGlsdXRlZC1zaGFyZdIBAA;4\" jslog=\"93393; 3:W251bGwsbnVsbCxudWxsLG51bGwsIiIsbnVsbCwxNDEsbnVsbCxudWxsLG51bGwsMzcsbnVsbCxudWxsLFtbW251bGwsIkxpbWVzdG9uZSBCYW5jb3JwIEluYy4gLSBDb21tb24gU3RvY2sgW0xNU1RdIl1dLDFdLG51bGwsMl0=\" jsmodel=\"tOLjce hECoeb\"><div aria-disabled=\"false\" aria-label=\"Share\" class=\"U26fgb YOnsCc waNn5b ZqhUjb ztUP4e uUmIDd cd29Sd V3dfMc w0hkKb M9Bg4d\" data-n-et=\"1000\" data-tooltip=\"Share\" data-tooltip-horizontal-offset=\"0\" data-tooltip-vertical-offset=\"-12\" jsaction=\"click:cOuCgd; mousedown:UX7yZ; mouseup:lbsD7e; mouseenter:tfO1Yc; mouseleave:JywGue; focus:AHmuwe; blur:O22p3e; contextmenu:mg9Pef;touchstart:p6p2H; touchmove:FwuNnf; touchend:yfqBxc(preventMouseEvents=true|preventDefault=true); touchcancel:JMtRjd;;OuuAFc:UauMyf;gSufsc:BS8cLb;RyWlBb:tC9Erd;UTnG9:aDaYxb;nUyoxf:El6wk;\" jscontroller=\"zbPkme\" jsname=\"itaskb\" jsshadow=\"\" role=\"button\" tabindex=\"0\"><div class=\"XI1L0d zSBur\" jsname=\"ksKsZd\"></div><span aria-hidden=\"true\" class=\"DPvwYc ChwdAb Xd067b fAk9Qc\" jsname=\"BC5job\">share</span></div></span><span class=\"L8PZAb GB1Zid\" data-n-prms=\"[false,false,false,null,false,false,false,false,null,false,false]\" jsaction=\"rcuQ6b:npT2md;aWRkAb:u0WEMd;h4C2te:Oy8cwd;\" jscontroller=\"jSvZHb\" jsdata=\"oM6qxc;CBMigwFodHRwczovL3N0b2NraG91c2UuY29tL25ld3MvcHJlc3MtcmVsZWFzZXMvMjAyMi8wNC8yMC9saW1lc3RvbmUtYmFuY29ycC1yZXBvcnRzLW5ldC1pbmNvbWUtb2YtMy02LW1pbGxpb24tb3ItMC00Ny1wZXItZGlsdXRlZC1zaGFyZdIBAA;4\" jslog=\"109017\" jsmodel=\"WDTLsd BZ12ub\"><div aria-disabled=\"false\" aria-expanded=\"false\" aria-haspopup=\"true\" aria-label=\"More\" class=\"U26fgb YOnsCc waNn5b ZqhUjb ztUP4e uUmIDd gL67me cd29Sd V3dfMc w0hkKb M9Bg4d\" data-dynamic=\"true\" data-tooltip=\"More\" data-tooltip-horizontal-offset=\"0\" data-tooltip-vertical-offset=\"-12\" jsaction=\"click:cOuCgd; mousedown:UX7yZ; mouseup:lbsD7e; mouseenter:tfO1Yc; mouseleave:JywGue; focus:AHmuwe; blur:O22p3e; contextmenu:mg9Pef;touchstart:p6p2H; touchmove:FwuNnf; touchend:yfqBxc(preventMouseEvents=true|preventDefault=true); touchcancel:JMtRjd;;keydown:I481le;OuuAFc:UauMyf;gSufsc:BS8cLb;RyWlBb:tC9Erd;UTnG9:aDaYxb;nUyoxf:El6wk;\" jscontroller=\"S9Bhuc\" jsname=\"itaskb\" jsshadow=\"\" role=\"button\" tabindex=\"0\"><div class=\"XI1L0d zSBur\" jsname=\"ksKsZd\"></div><span aria-hidden=\"true\" class=\"DPvwYc ChwdAb Xd067b fAk9Qc\" jsname=\"BC5job\">more_vert</span></div></span></menu></div></article></div></div><div class=\"NiLAwe y6IFtc R7GTQ keNKEd j7vNaf nID9nc\" jslog=\"93789; 3:W251bGwsbnVsbCxudWxsLG51bGwsIiIsbnVsbCwxNDEsbnVsbCxudWxsLG51bGwsMzcsbnVsbCxudWxsLFtbW251bGwsIkxpbWVzdG9uZSBCYW5jb3JwIEluYy4gLSBDb21tb24gU3RvY2sgW0xNU1RdIl1dLDFdLG51bGwsMl0=; track:vis; index:1\"><a aria-labelledby=\"i5\" href=\"./articles/CBMiVWh0dHBzOi8vZmluYW5jZS55YWhvby5jb20vbmV3cy96YWNrcy1jb20tZmVhdHVyZWQtaGlnaGxpZ2h0cy1iYW5jZmlyc3QtMTI0MDEyNjUyLmh0bWzSAV1odHRwczovL2ZpbmFuY2UueWFob28uY29tL2FtcGh0bWwvbmV3cy96YWNrcy1jb20tZmVhdHVyZWQtaGlnaGxpZ2h0cy1iYW5jZmlyc3QtMTI0MDEyNjUyLmh0bWw?hl=en-US&amp;gl=US&amp;ceid=US%3Aen\" tabindex=\"-1\" target=\"_blank\"><figure class=\"AZtY5d fvuwob d7hoq\" jsaction=\"error:HLDri\" jscontroller=\"dAR81\"><img alt=\"\" aria-label=\"Image\" class=\"tvs3Id QwxBBf\" id=\"i5\" jslog=\"131347\" loading=\"lazy\" src=\"https://lh3.googleusercontent.com/proxy/Re5nnWwOwURZCCExhET2QjNPROOt5zJAwK1otSuIrQt3Sw-P626vTv-Jrcv1dTxlFxRwWtGDdVYxh8Z3-jxJd3QOCss3piNxcEYNcKAtdqffUPu5pbz_iiz7zLxOO9SDBfBJb4TIVdXQZF__nMWi9zZnJ9dPUZKL2E7TetA7iU30RU9yCgLXErZsmhhc9FeEn7PFXkceGa-Ri08s8qjdoN_IDuLQTPNm8oSRS3WAb3pedSAHMW-IYgrLcX9ndbwaIaSXj-Te0jjomlKNMtn6RgRbmKPoRxtp76ReO82NGPqmA5TZKwDTor-lQPEfacdnxhmX0xdO0AgQPu-5OYxZ-gfvwvyXsebRTflZ-zVd-GO2ZrA9KTjfAjBwnicws_oYoNFLKOoD2A=s0-w100-h100-dcARCGVigG\" srcset=\"https://lh3.googleusercontent.com/proxy/Re5nnWwOwURZCCExhET2QjNPROOt5zJAwK1otSuIrQt3Sw-P626vTv-Jrcv1dTxlFxRwWtGDdVYxh8Z3-jxJd3QOCss3piNxcEYNcKAtdqffUPu5pbz_iiz7zLxOO9SDBfBJb4TIVdXQZF__nMWi9zZnJ9dPUZKL2E7TetA7iU30RU9yCgLXErZsmhhc9FeEn7PFXkceGa-Ri08s8qjdoN_IDuLQTPNm8oSRS3WAb3pedSAHMW-IYgrLcX9ndbwaIaSXj-Te0jjomlKNMtn6RgRbmKPoRxtp76ReO82NGPqmA5TZKwDTor-lQPEfacdnxhmX0xdO0AgQPu-5OYxZ-gfvwvyXsebRTflZ-zVd-GO2ZrA9KTjfAjBwnicws_oYoNFLKOoD2A=s0-w100-h100-dcARCGVigG 1x, https://lh3.googleusercontent.com/proxy/Re5nnWwOwURZCCExhET2QjNPROOt5zJAwK1otSuIrQt3Sw-P626vTv-Jrcv1dTxlFxRwWtGDdVYxh8Z3-jxJd3QOCss3piNxcEYNcKAtdqffUPu5pbz_iiz7zLxOO9SDBfBJb4TIVdXQZF__nMWi9zZnJ9dPUZKL2E7TetA7iU30RU9yCgLXErZsmhhc9FeEn7PFXkceGa-Ri08s8qjdoN_IDuLQTPNm8oSRS3WAb3pedSAHMW-IYgrLcX9ndbwaIaSXj-Te0jjomlKNMtn6RgRbmKPoRxtp76ReO82NGPqmA5TZKwDTor-lQPEfacdnxhmX0xdO0AgQPu-5OYxZ-gfvwvyXsebRTflZ-zVd-GO2ZrA9KTjfAjBwnicws_oYoNFLKOoD2A=s0-w200-h200-dcARCGVigG 2x\"/></figure></a><div class=\"xrnccd\"><article class=\"MQsxIb xTewfe R7GTQ keNKEd j7vNaf Cc0Z5d EjqUne\" data-kind=\"13\" data-n-cvid=\"i6\" data-n-et=\"107\" data-n-ham=\"true\" data-n-vlb=\"0\" jsaction=\";rcuQ6b:npT2md; click:KjsqPd;\" jscontroller=\"HyhIue\" jsdata=\"oM6qxc;CBMiVWh0dHBzOi8vZmluYW5jZS55YWhvby5jb20vbmV3cy96YWNrcy1jb20tZmVhdHVyZWQtaGlnaGxpZ2h0cy1iYW5jZmlyc3QtMTI0MDEyNjUyLmh0bWzSAV1odHRwczovL2ZpbmFuY2UueWFob28uY29tL2FtcGh0bWwvbmV3cy96YWNrcy1jb20tZmVhdHVyZWQtaGlnaGxpZ2h0cy1iYW5jZmlyc3QtMTI0MDEyNjUyLmh0bWw;5\" jslog=\"85008; 3:W251bGwsbnVsbCxudWxsLG51bGwsIiIsbnVsbCwxNDEsbnVsbCxudWxsLG51bGwsMzcsbnVsbCxudWxsLFtbW251bGwsIkxpbWVzdG9uZSBCYW5jb3JwIEluYy4gLSBDb21tb24gU3RvY2sgW0xNU1RdIl1dLDFdLG51bGwsMl0=; track:vis; index:0\" jsmodel=\"a4N6Ae hT8rr\" ve-visible=\"false\"><a aria-hidden=\"true\" class=\"VDXfz\" href=\"./articles/CBMiVWh0dHBzOi8vZmluYW5jZS55YWhvby5jb20vbmV3cy96YWNrcy1jb20tZmVhdHVyZWQtaGlnaGxpZ2h0cy1iYW5jZmlyc3QtMTI0MDEyNjUyLmh0bWzSAV1odHRwczovL2ZpbmFuY2UueWFob28uY29tL2FtcGh0bWwvbmV3cy96YWNrcy1jb20tZmVhdHVyZWQtaGlnaGxpZ2h0cy1iYW5jZmlyc3QtMTI0MDEyNjUyLmh0bWw?hl=en-US&amp;gl=US&amp;ceid=US%3Aen\" jslog=\"95014; 5:W251bGwsbnVsbCxudWxsLG51bGwsbnVsbCxudWxsLG51bGwsbnVsbCwiaHR0cHM6Ly9maW5hbmNlLnlhaG9vLmNvbS9uZXdzL3phY2tzLWNvbS1mZWF0dXJlZC1oaWdobGlnaHRzLWJhbmNmaXJzdC0xMjQwMTI2NTIuaHRtbCJd; track:click,vis\" jsname=\"hXwDdf\" tabindex=\"-1\" target=\"_blank\"></a><h3 class=\"ipQwMb ekueJc RD0gLb\"><a class=\"DY5T1d RZIKme\" href=\"./articles/CBMiVWh0dHBzOi8vZmluYW5jZS55YWhvby5jb20vbmV3cy96YWNrcy1jb20tZmVhdHVyZWQtaGlnaGxpZ2h0cy1iYW5jZmlyc3QtMTI0MDEyNjUyLmh0bWzSAV1odHRwczovL2ZpbmFuY2UueWFob28uY29tL2FtcGh0bWwvbmV3cy96YWNrcy1jb20tZmVhdHVyZWQtaGlnaGxpZ2h0cy1iYW5jZmlyc3QtMTI0MDEyNjUyLmh0bWw?hl=en-US&amp;gl=US&amp;ceid=US%3Aen\">Zacks.com featured highlights include: BancFirst Corp., Fulton Financial Corp., Limestone Bancorp, Inc. and Cowen Inc.</a></h3><div class=\"QmrVtf RD0gLb kybdz\"><div class=\"SVJrMe\" jsname=\"Hn1wIf\"><svg class=\"N3ElHc eLNT1d uQIVzc NMm5M\" focusable=\"false\" height=\"18\" viewbox=\"0 0 24 24\" width=\"18\"><path d=\"M0 0h24v24H0V0z\" fill=\"none\"></path><path d=\"M21.58 7.19c-.23-.86-.91-1.54-1.77-1.77C18.25 5 12 5 12 5s-6.25 0-7.81.42c-.86.23-1.54.91-1.77 1.77C2 8.75 2 12 2 12s0 3.25.42 4.81c.23.86.91 1.54 1.77 1.77C5.75 19 12 19 12 19s6.25 0 7.81-.42c.86-.23 1.54-.91 1.77-1.77C22 15.25 22 12 22 12s0-3.25-.42-4.81zM10 15V9l5.2 3-5.2 3z\"></path></svg><a class=\"wEwyrc AVN2gc uQIVzc Sksgp\" data-n-tid=\"9\">Yahoo Finance</a><time class=\"WW6dff uQIVzc Sksgp\" datetime=\"2022-01-26T08:00:00Z\">Jan 26</time></div><menu class=\"fmkQje gXqRq\"><div class=\"OGsJDe L8PZAb R71ogd\" data-n-ca-at=\"2\" data-n-et=\"1000\" data-n-ssice=\"false\" data-n-st=\"bookmark\" data-n-suwu=\"false\" jsaction=\"rcuQ6b:npT2md;JIbuQc:h5M12e;eEPUnd:h5M12e;YohPuc:CE7Jad;qW1nqe:kjc9zd;\" jscontroller=\"pQWkX\" jsdata=\"oM6qxc;CBMiVWh0dHBzOi8vZmluYW5jZS55YWhvby5jb20vbmV3cy96YWNrcy1jb20tZmVhdHVyZWQtaGlnaGxpZ2h0cy1iYW5jZmlyc3QtMTI0MDEyNjUyLmh0bWzSAV1odHRwczovL2ZpbmFuY2UueWFob28uY29tL2FtcGh0bWwvbmV3cy96YWNrcy1jb20tZmVhdHVyZWQtaGlnaGxpZ2h0cy1iYW5jZmlyc3QtMTI0MDEyNjUyLmh0bWw;5\" jsmodel=\"BZ12ub\" jsname=\"ms4Zd\"><div aria-disabled=\"false\" aria-label=\"Follow\" class=\"U26fgb YOnsCc waNn5b ZqhUjb ztUP4e uUmIDd cd29Sd V3dfMc w0hkKb M9Bg4d\" data-n-et=\"1000\" jsaction=\"click:cOuCgd; mousedown:UX7yZ; mouseup:lbsD7e; mouseenter:tfO1Yc; mouseleave:JywGue; focus:AHmuwe; blur:O22p3e; contextmenu:mg9Pef;touchstart:p6p2H; touchmove:FwuNnf; touchend:yfqBxc(preventMouseEvents=true|preventDefault=true); touchcancel:JMtRjd;;OuuAFc:UauMyf;gSufsc:BS8cLb;RyWlBb:tC9Erd;UTnG9:aDaYxb;nUyoxf:El6wk;\" jscontroller=\"zbPkme\" jsname=\"itaskb\" jsshadow=\"\" role=\"button\" tabindex=\"0\"><div class=\"XI1L0d zSBur\" jsname=\"ksKsZd\"></div><span aria-hidden=\"true\" class=\"DPvwYc ChwdAb Xd067b fAk9Qc\" jsname=\"BC5job\">bookmark_border</span></div></div><span class=\"L8PZAb uG2FLd\" data-n-ca-at=\"8\" data-n-et=\"1000\" jsaction=\"JIbuQc:RNDhHe;\" jscontroller=\"ZHduwf\" jsdata=\"oM6qxc;CBMiVWh0dHBzOi8vZmluYW5jZS55YWhvby5jb20vbmV3cy96YWNrcy1jb20tZmVhdHVyZWQtaGlnaGxpZ2h0cy1iYW5jZmlyc3QtMTI0MDEyNjUyLmh0bWzSAV1odHRwczovL2ZpbmFuY2UueWFob28uY29tL2FtcGh0bWwvbmV3cy96YWNrcy1jb20tZmVhdHVyZWQtaGlnaGxpZ2h0cy1iYW5jZmlyc3QtMTI0MDEyNjUyLmh0bWw;5\" jslog=\"93393; 3:W251bGwsbnVsbCxudWxsLG51bGwsIiIsbnVsbCwxNDEsbnVsbCxudWxsLG51bGwsMzcsbnVsbCxudWxsLFtbW251bGwsIkxpbWVzdG9uZSBCYW5jb3JwIEluYy4gLSBDb21tb24gU3RvY2sgW0xNU1RdIl1dLDFdLG51bGwsMl0=\" jsmodel=\"tOLjce hECoeb\"><div aria-disabled=\"false\" aria-label=\"Share\" class=\"U26fgb YOnsCc waNn5b ZqhUjb ztUP4e uUmIDd cd29Sd V3dfMc w0hkKb M9Bg4d\" data-n-et=\"1000\" data-tooltip=\"Share\" data-tooltip-horizontal-offset=\"0\" data-tooltip-vertical-offset=\"-12\" jsaction=\"click:cOuCgd; mousedown:UX7yZ; mouseup:lbsD7e; mouseenter:tfO1Yc; mouseleave:JywGue; focus:AHmuwe; blur:O22p3e; contextmenu:mg9Pef;touchstart:p6p2H; touchmove:FwuNnf; touchend:yfqBxc(preventMouseEvents=true|preventDefault=true); touchcancel:JMtRjd;;OuuAFc:UauMyf;gSufsc:BS8cLb;RyWlBb:tC9Erd;UTnG9:aDaYxb;nUyoxf:El6wk;\" jscontroller=\"zbPkme\" jsname=\"itaskb\" jsshadow=\"\" role=\"button\" tabindex=\"0\"><div class=\"XI1L0d zSBur\" jsname=\"ksKsZd\"></div><span aria-hidden=\"true\" class=\"DPvwYc ChwdAb Xd067b fAk9Qc\" jsname=\"BC5job\">share</span></div></span><span class=\"L8PZAb GB1Zid\" data-n-prms=\"[false,false,false,null,false,false,false,false,null,false,false]\" jsaction=\"rcuQ6b:npT2md;aWRkAb:u0WEMd;h4C2te:Oy8cwd;\" jscontroller=\"jSvZHb\" jsdata=\"oM6qxc;CBMiVWh0dHBzOi8vZmluYW5jZS55YWhvby5jb20vbmV3cy96YWNrcy1jb20tZmVhdHVyZWQtaGlnaGxpZ2h0cy1iYW5jZmlyc3QtMTI0MDEyNjUyLmh0bWzSAV1odHRwczovL2ZpbmFuY2UueWFob28uY29tL2FtcGh0bWwvbmV3cy96YWNrcy1jb20tZmVhdHVyZWQtaGlnaGxpZ2h0cy1iYW5jZmlyc3QtMTI0MDEyNjUyLmh0bWw;5\" jslog=\"109017\" jsmodel=\"WDTLsd BZ12ub\"><div aria-disabled=\"false\" aria-expanded=\"false\" aria-haspopup=\"true\" aria-label=\"More\" class=\"U26fgb YOnsCc waNn5b ZqhUjb ztUP4e uUmIDd gL67me cd29Sd V3dfMc w0hkKb M9Bg4d\" data-dynamic=\"true\" data-tooltip=\"More\" data-tooltip-horizontal-offset=\"0\" data-tooltip-vertical-offset=\"-12\" jsaction=\"click:cOuCgd; mousedown:UX7yZ; mouseup:lbsD7e; mouseenter:tfO1Yc; mouseleave:JywGue; focus:AHmuwe; blur:O22p3e; contextmenu:mg9Pef;touchstart:p6p2H; touchmove:FwuNnf; touchend:yfqBxc(preventMouseEvents=true|preventDefault=true); touchcancel:JMtRjd;;keydown:I481le;OuuAFc:UauMyf;gSufsc:BS8cLb;RyWlBb:tC9Erd;UTnG9:aDaYxb;nUyoxf:El6wk;\" jscontroller=\"S9Bhuc\" jsname=\"itaskb\" jsshadow=\"\" role=\"button\" tabindex=\"0\"><div class=\"XI1L0d zSBur\" jsname=\"ksKsZd\"></div><span aria-hidden=\"true\" class=\"DPvwYc ChwdAb Xd067b fAk9Qc\" jsname=\"BC5job\">more_vert</span></div></span></menu></div></article></div></div><div class=\"NiLAwe y6IFtc R7GTQ keNKEd j7vNaf nID9nc\" jslog=\"93789; 3:W251bGwsbnVsbCxudWxsLG51bGwsIiIsbnVsbCwxNDEsbnVsbCxudWxsLG51bGwsMzcsbnVsbCxudWxsLFtbW251bGwsIkxpbWVzdG9uZSBCYW5jb3JwIEluYy4gLSBDb21tb24gU3RvY2sgW0xNU1RdIl1dLDFdLG51bGwsMl0=; track:vis; index:2\"><a aria-labelledby=\"i7\" href=\"./articles/CBMic2h0dHBzOi8vd3d3LmJ1c2luZXNzd2lyZS5jb20vbmV3cy9ob21lLzIwMTgwNjE4MDA1MTI4L2VuL1BvcnRlci1CYW5jb3JwLUluYy4tQ2hhbmdlcy1OYW1lLXRvLUxpbWVzdG9uZS1CYW5jb3JwLUluYy7SAQA?hl=en-US&amp;gl=US&amp;ceid=US%3Aen\" tabindex=\"-1\" target=\"_blank\"><figure class=\"AZtY5d fvuwob MbMxpc d7hoq\" jsaction=\"error:HLDri\" jscontroller=\"dAR81\"><img alt=\"\" aria-label=\"Image\" class=\"tvs3Id QwxBBf\" id=\"i7\" jslog=\"131347\" loading=\"lazy\" src=\"https://lh3.googleusercontent.com/proxy/E16IILvI3b9j4Xyu1gGbqMzh6pnNG2eR0xiTUW5NlXV2DmX8N8JVZiVVSfL3nU3FPrHakVMofcrvMGB_XI3BhgjYkW8OASFlmfZmzoNj1PDVFxp49JQ2Z-ycIvxWvfA3KkIVUbaVOx4fcUwKtCFe=s0-w100-h100-dcnaOUa7UG\" srcset=\"https://lh3.googleusercontent.com/proxy/E16IILvI3b9j4Xyu1gGbqMzh6pnNG2eR0xiTUW5NlXV2DmX8N8JVZiVVSfL3nU3FPrHakVMofcrvMGB_XI3BhgjYkW8OASFlmfZmzoNj1PDVFxp49JQ2Z-ycIvxWvfA3KkIVUbaVOx4fcUwKtCFe=s0-w100-h100-dcnaOUa7UG 1x, https://lh3.googleusercontent.com/proxy/E16IILvI3b9j4Xyu1gGbqMzh6pnNG2eR0xiTUW5NlXV2DmX8N8JVZiVVSfL3nU3FPrHakVMofcrvMGB_XI3BhgjYkW8OASFlmfZmzoNj1PDVFxp49JQ2Z-ycIvxWvfA3KkIVUbaVOx4fcUwKtCFe=s0-w200-h200-dcnaOUa7UG 2x\"/></figure></a><div class=\"xrnccd\"><article class=\"MQsxIb xTewfe R7GTQ keNKEd j7vNaf Cc0Z5d EjqUne\" data-kind=\"13\" data-n-cvid=\"i8\" data-n-et=\"107\" data-n-ham=\"true\" data-n-vlb=\"0\" jsaction=\";rcuQ6b:npT2md; click:KjsqPd;\" jscontroller=\"HyhIue\" jsdata=\"oM6qxc;CBMic2h0dHBzOi8vd3d3LmJ1c2luZXNzd2lyZS5jb20vbmV3cy9ob21lLzIwMTgwNjE4MDA1MTI4L2VuL1BvcnRlci1CYW5jb3JwLUluYy4tQ2hhbmdlcy1OYW1lLXRvLUxpbWVzdG9uZS1CYW5jb3JwLUluYy7SAQA;6\" jslog=\"85008; 3:W251bGwsbnVsbCxudWxsLG51bGwsIiIsbnVsbCwxNDEsbnVsbCxudWxsLG51bGwsMzcsbnVsbCxudWxsLFtbW251bGwsIkxpbWVzdG9uZSBCYW5jb3JwIEluYy4gLSBDb21tb24gU3RvY2sgW0xNU1RdIl1dLDFdLG51bGwsMl0=; track:vis; index:0\" jsmodel=\"a4N6Ae hT8rr\" ve-visible=\"false\"><a aria-hidden=\"true\" class=\"VDXfz\" href=\"./articles/CBMic2h0dHBzOi8vd3d3LmJ1c2luZXNzd2lyZS5jb20vbmV3cy9ob21lLzIwMTgwNjE4MDA1MTI4L2VuL1BvcnRlci1CYW5jb3JwLUluYy4tQ2hhbmdlcy1OYW1lLXRvLUxpbWVzdG9uZS1CYW5jb3JwLUluYy7SAQA?hl=en-US&amp;gl=US&amp;ceid=US%3Aen\" jslog=\"95014; 5:W251bGwsbnVsbCxudWxsLG51bGwsbnVsbCxudWxsLG51bGwsbnVsbCwiaHR0cHM6Ly93d3cuYnVzaW5lc3N3aXJlLmNvbS9uZXdzL2hvbWUvMjAxODA2MTgwMDUxMjgvZW4vUG9ydGVyLUJhbmNvcnAtSW5jLi1DaGFuZ2VzLU5hbWUtdG8tTGltZXN0b25lLUJhbmNvcnAtSW5jLiJd; track:click,vis\" jsname=\"hXwDdf\" tabindex=\"-1\" target=\"_blank\"></a><h3 class=\"ipQwMb ekueJc RD0gLb\"><a class=\"DY5T1d RZIKme\" href=\"./articles/CBMic2h0dHBzOi8vd3d3LmJ1c2luZXNzd2lyZS5jb20vbmV3cy9ob21lLzIwMTgwNjE4MDA1MTI4L2VuL1BvcnRlci1CYW5jb3JwLUluYy4tQ2hhbmdlcy1OYW1lLXRvLUxpbWVzdG9uZS1CYW5jb3JwLUluYy7SAQA?hl=en-US&amp;gl=US&amp;ceid=US%3Aen\">Porter Bancorp, Inc. Changes Name to Limestone Bancorp, Inc.</a></h3><div class=\"QmrVtf RD0gLb kybdz\"><div class=\"SVJrMe\" jsname=\"Hn1wIf\"><svg class=\"N3ElHc eLNT1d uQIVzc NMm5M\" focusable=\"false\" height=\"18\" viewbox=\"0 0 24 24\" width=\"18\"><path d=\"M0 0h24v24H0V0z\" fill=\"none\"></path><path d=\"M21.58 7.19c-.23-.86-.91-1.54-1.77-1.77C18.25 5 12 5 12 5s-6.25 0-7.81.42c-.86.23-1.54.91-1.77 1.77C2 8.75 2 12 2 12s0 3.25.42 4.81c.23.86.91 1.54 1.77 1.77C5.75 19 12 19 12 19s6.25 0 7.81-.42c.86-.23 1.54-.91 1.77-1.77C22 15.25 22 12 22 12s0-3.25-.42-4.81zM10 15V9l5.2 3-5.2 3z\"></path></svg><a class=\"wEwyrc AVN2gc uQIVzc Sksgp\" data-n-tid=\"9\">Business Wire</a></div><menu class=\"fmkQje gXqRq\"><div class=\"OGsJDe L8PZAb R71ogd\" data-n-ca-at=\"2\" data-n-et=\"1000\" data-n-ssice=\"false\" data-n-st=\"bookmark\" data-n-suwu=\"false\" jsaction=\"rcuQ6b:npT2md;JIbuQc:h5M12e;eEPUnd:h5M12e;YohPuc:CE7Jad;qW1nqe:kjc9zd;\" jscontroller=\"pQWkX\" jsdata=\"oM6qxc;CBMic2h0dHBzOi8vd3d3LmJ1c2luZXNzd2lyZS5jb20vbmV3cy9ob21lLzIwMTgwNjE4MDA1MTI4L2VuL1BvcnRlci1CYW5jb3JwLUluYy4tQ2hhbmdlcy1OYW1lLXRvLUxpbWVzdG9uZS1CYW5jb3JwLUluYy7SAQA;6\" jsmodel=\"BZ12ub\" jsname=\"ms4Zd\"><div aria-disabled=\"false\" aria-label=\"Follow\" class=\"U26fgb YOnsCc waNn5b ZqhUjb ztUP4e uUmIDd cd29Sd V3dfMc w0hkKb M9Bg4d\" data-n-et=\"1000\" jsaction=\"click:cOuCgd; mousedown:UX7yZ; mouseup:lbsD7e; mouseenter:tfO1Yc; mouseleave:JywGue; focus:AHmuwe; blur:O22p3e; contextmenu:mg9Pef;touchstart:p6p2H; touchmove:FwuNnf; touchend:yfqBxc(preventMouseEvents=true|preventDefault=true); touchcancel:JMtRjd;;OuuAFc:UauMyf;gSufsc:BS8cLb;RyWlBb:tC9Erd;UTnG9:aDaYxb;nUyoxf:El6wk;\" jscontroller=\"zbPkme\" jsname=\"itaskb\" jsshadow=\"\" role=\"button\" tabindex=\"0\"><div class=\"XI1L0d zSBur\" jsname=\"ksKsZd\"></div><span aria-hidden=\"true\" class=\"DPvwYc ChwdAb Xd067b fAk9Qc\" jsname=\"BC5job\">bookmark_border</span></div></div><span class=\"L8PZAb uG2FLd\" data-n-ca-at=\"8\" data-n-et=\"1000\" jsaction=\"JIbuQc:RNDhHe;\" jscontroller=\"ZHduwf\" jsdata=\"oM6qxc;CBMic2h0dHBzOi8vd3d3LmJ1c2luZXNzd2lyZS5jb20vbmV3cy9ob21lLzIwMTgwNjE4MDA1MTI4L2VuL1BvcnRlci1CYW5jb3JwLUluYy4tQ2hhbmdlcy1OYW1lLXRvLUxpbWVzdG9uZS1CYW5jb3JwLUluYy7SAQA;6\" jslog=\"93393; 3:W251bGwsbnVsbCxudWxsLG51bGwsIiIsbnVsbCwxNDEsbnVsbCxudWxsLG51bGwsMzcsbnVsbCxudWxsLFtbW251bGwsIkxpbWVzdG9uZSBCYW5jb3JwIEluYy4gLSBDb21tb24gU3RvY2sgW0xNU1RdIl1dLDFdLG51bGwsMl0=\" jsmodel=\"tOLjce hECoeb\"><div aria-disabled=\"false\" aria-label=\"Share\" class=\"U26fgb YOnsCc waNn5b ZqhUjb ztUP4e uUmIDd cd29Sd V3dfMc w0hkKb M9Bg4d\" data-n-et=\"1000\" data-tooltip=\"Share\" data-tooltip-horizontal-offset=\"0\" data-tooltip-vertical-offset=\"-12\" jsaction=\"click:cOuCgd; mousedown:UX7yZ; mouseup:lbsD7e; mouseenter:tfO1Yc; mouseleave:JywGue; focus:AHmuwe; blur:O22p3e; contextmenu:mg9Pef;touchstart:p6p2H; touchmove:FwuNnf; touchend:yfqBxc(preventMouseEvents=true|preventDefault=true); touchcancel:JMtRjd;;OuuAFc:UauMyf;gSufsc:BS8cLb;RyWlBb:tC9Erd;UTnG9:aDaYxb;nUyoxf:El6wk;\" jscontroller=\"zbPkme\" jsname=\"itaskb\" jsshadow=\"\" role=\"button\" tabindex=\"0\"><div class=\"XI1L0d zSBur\" jsname=\"ksKsZd\"></div><span aria-hidden=\"true\" class=\"DPvwYc ChwdAb Xd067b fAk9Qc\" jsname=\"BC5job\">share</span></div></span><span class=\"L8PZAb GB1Zid\" data-n-prms=\"[false,false,false,null,false,false,false,false,null,false,false]\" jsaction=\"rcuQ6b:npT2md;aWRkAb:u0WEMd;h4C2te:Oy8cwd;\" jscontroller=\"jSvZHb\" jsdata=\"oM6qxc;CBMic2h0dHBzOi8vd3d3LmJ1c2luZXNzd2lyZS5jb20vbmV3cy9ob21lLzIwMTgwNjE4MDA1MTI4L2VuL1BvcnRlci1CYW5jb3JwLUluYy4tQ2hhbmdlcy1OYW1lLXRvLUxpbWVzdG9uZS1CYW5jb3JwLUluYy7SAQA;6\" jslog=\"109017\" jsmodel=\"WDTLsd BZ12ub\"><div aria-disabled=\"false\" aria-expanded=\"false\" aria-haspopup=\"true\" aria-label=\"More\" class=\"U26fgb YOnsCc waNn5b ZqhUjb ztUP4e uUmIDd gL67me cd29Sd V3dfMc w0hkKb M9Bg4d\" data-dynamic=\"true\" data-tooltip=\"More\" data-tooltip-horizontal-offset=\"0\" data-tooltip-vertical-offset=\"-12\" jsaction=\"click:cOuCgd; mousedown:UX7yZ; mouseup:lbsD7e; mouseenter:tfO1Yc; mouseleave:JywGue; focus:AHmuwe; blur:O22p3e; contextmenu:mg9Pef;touchstart:p6p2H; touchmove:FwuNnf; touchend:yfqBxc(preventMouseEvents=true|preventDefault=true); touchcancel:JMtRjd;;keydown:I481le;OuuAFc:UauMyf;gSufsc:BS8cLb;RyWlBb:tC9Erd;UTnG9:aDaYxb;nUyoxf:El6wk;\" jscontroller=\"S9Bhuc\" jsname=\"itaskb\" jsshadow=\"\" role=\"button\" tabindex=\"0\"><div class=\"XI1L0d zSBur\" jsname=\"ksKsZd\"></div><span aria-hidden=\"true\" class=\"DPvwYc ChwdAb Xd067b fAk9Qc\" jsname=\"BC5job\">more_vert</span></div></span></menu></div></article></div></div><div class=\"NiLAwe y6IFtc R7GTQ keNKEd j7vNaf\" jslog=\"93789; 3:W251bGwsbnVsbCxudWxsLG51bGwsIiIsbnVsbCwxNDEsbnVsbCxudWxsLG51bGwsMzcsbnVsbCxudWxsLFtbW251bGwsIkxpbWVzdG9uZSBCYW5jb3JwIEluYy4gLSBDb21tb24gU3RvY2sgW0xNU1RdIl1dLDFdLG51bGwsMl0=; track:vis; index:3\"><div class=\"xrnccd\"><article class=\"MQsxIb xTewfe R7GTQ keNKEd j7vNaf Cc0Z5d EjqUne\" data-kind=\"13\" data-n-cvid=\"i10\" data-n-et=\"107\" data-n-ham=\"true\" data-n-vlb=\"0\" jsaction=\";rcuQ6b:npT2md; click:KjsqPd;\" jscontroller=\"HyhIue\" jsdata=\"oM6qxc;CBMiLmh0dHBzOi8vd3d3Lm1hcmtldGJlYXQuY29tL3N0b2Nrcy9OQVNEQVEvTE1TVC_SAQA;7\" jslog=\"85008; 3:W251bGwsbnVsbCxudWxsLG51bGwsIiIsbnVsbCwxNDEsbnVsbCxudWxsLG51bGwsMzcsbnVsbCxudWxsLFtbW251bGwsIkxpbWVzdG9uZSBCYW5jb3JwIEluYy4gLSBDb21tb24gU3RvY2sgW0xNU1RdIl1dLDFdLG51bGwsMl0=; track:vis; index:0\" jsmodel=\"a4N6Ae hT8rr\" ve-visible=\"false\"><a aria-hidden=\"true\" class=\"VDXfz\" href=\"./articles/CBMiLmh0dHBzOi8vd3d3Lm1hcmtldGJlYXQuY29tL3N0b2Nrcy9OQVNEQVEvTE1TVC_SAQA?hl=en-US&amp;gl=US&amp;ceid=US%3Aen\" jslog=\"95014; 5:W251bGwsbnVsbCxudWxsLG51bGwsbnVsbCxudWxsLG51bGwsbnVsbCwiaHR0cHM6Ly93d3cubWFya2V0YmVhdC5jb20vc3RvY2tzL05BU0RBUS9MTVNULyJd; track:click,vis\" jsname=\"hXwDdf\" tabindex=\"-1\" target=\"_blank\"></a><h3 class=\"ipQwMb ekueJc RD0gLb\"><a class=\"DY5T1d RZIKme\" href=\"./articles/CBMiLmh0dHBzOi8vd3d3Lm1hcmtldGJlYXQuY29tL3N0b2Nrcy9OQVNEQVEvTE1TVC_SAQA?hl=en-US&amp;gl=US&amp;ceid=US%3Aen\">Limestone Bancorp Stock Forecast, Price &amp; News (NASDAQ:LMST)</a></h3><div class=\"QmrVtf RD0gLb kybdz\"><div class=\"SVJrMe\" jsname=\"Hn1wIf\"><svg class=\"N3ElHc eLNT1d uQIVzc NMm5M\" focusable=\"false\" height=\"18\" viewbox=\"0 0 24 24\" width=\"18\"><path d=\"M0 0h24v24H0V0z\" fill=\"none\"></path><path d=\"M21.58 7.19c-.23-.86-.91-1.54-1.77-1.77C18.25 5 12 5 12 5s-6.25 0-7.81.42c-.86.23-1.54.91-1.77 1.77C2 8.75 2 12 2 12s0 3.25.42 4.81c.23.86.91 1.54 1.77 1.77C5.75 19 12 19 12 19s6.25 0 7.81-.42c.86-.23 1.54-.91 1.77-1.77C22 15.25 22 12 22 12s0-3.25-.42-4.81zM10 15V9l5.2 3-5.2 3z\"></path></svg><a class=\"wEwyrc AVN2gc uQIVzc Sksgp\" data-n-tid=\"9\">MarketBeat</a></div><menu class=\"fmkQje gXqRq\"><div class=\"OGsJDe L8PZAb R71ogd\" data-n-ca-at=\"2\" data-n-et=\"1000\" data-n-ssice=\"false\" data-n-st=\"bookmark\" data-n-suwu=\"false\" jsaction=\"rcuQ6b:npT2md;JIbuQc:h5M12e;eEPUnd:h5M12e;YohPuc:CE7Jad;qW1nqe:kjc9zd;\" jscontroller=\"pQWkX\" jsdata=\"oM6qxc;CBMiLmh0dHBzOi8vd3d3Lm1hcmtldGJlYXQuY29tL3N0b2Nrcy9OQVNEQVEvTE1TVC_SAQA;7\" jsmodel=\"BZ12ub\" jsname=\"ms4Zd\"><div aria-disabled=\"false\" aria-label=\"Follow\" class=\"U26fgb YOnsCc waNn5b ZqhUjb ztUP4e uUmIDd cd29Sd V3dfMc w0hkKb M9Bg4d\" data-n-et=\"1000\" jsaction=\"click:cOuCgd; mousedown:UX7yZ; mouseup:lbsD7e; mouseenter:tfO1Yc; mouseleave:JywGue; focus:AHmuwe; blur:O22p3e; contextmenu:mg9Pef;touchstart:p6p2H; touchmove:FwuNnf; touchend:yfqBxc(preventMouseEvents=true|preventDefault=true); touchcancel:JMtRjd;;OuuAFc:UauMyf;gSufsc:BS8cLb;RyWlBb:tC9Erd;UTnG9:aDaYxb;nUyoxf:El6wk;\" jscontroller=\"zbPkme\" jsname=\"itaskb\" jsshadow=\"\" role=\"button\" tabindex=\"0\"><div class=\"XI1L0d zSBur\" jsname=\"ksKsZd\"></div><span aria-hidden=\"true\" class=\"DPvwYc ChwdAb Xd067b fAk9Qc\" jsname=\"BC5job\">bookmark_border</span></div></div><span class=\"L8PZAb uG2FLd\" data-n-ca-at=\"8\" data-n-et=\"1000\" jsaction=\"JIbuQc:RNDhHe;\" jscontroller=\"ZHduwf\" jsdata=\"oM6qxc;CBMiLmh0dHBzOi8vd3d3Lm1hcmtldGJlYXQuY29tL3N0b2Nrcy9OQVNEQVEvTE1TVC_SAQA;7\" jslog=\"93393; 3:W251bGwsbnVsbCxudWxsLG51bGwsIiIsbnVsbCwxNDEsbnVsbCxudWxsLG51bGwsMzcsbnVsbCxudWxsLFtbW251bGwsIkxpbWVzdG9uZSBCYW5jb3JwIEluYy4gLSBDb21tb24gU3RvY2sgW0xNU1RdIl1dLDFdLG51bGwsMl0=\" jsmodel=\"tOLjce hECoeb\"><div aria-disabled=\"false\" aria-label=\"Share\" class=\"U26fgb YOnsCc waNn5b ZqhUjb ztUP4e uUmIDd cd29Sd V3dfMc w0hkKb M9Bg4d\" data-n-et=\"1000\" data-tooltip=\"Share\" data-tooltip-horizontal-offset=\"0\" data-tooltip-vertical-offset=\"-12\" jsaction=\"click:cOuCgd; mousedown:UX7yZ; mouseup:lbsD7e; mouseenter:tfO1Yc; mouseleave:JywGue; focus:AHmuwe; blur:O22p3e; contextmenu:mg9Pef;touchstart:p6p2H; touchmove:FwuNnf; touchend:yfqBxc(preventMouseEvents=true|preventDefault=true); touchcancel:JMtRjd;;OuuAFc:UauMyf;gSufsc:BS8cLb;RyWlBb:tC9Erd;UTnG9:aDaYxb;nUyoxf:El6wk;\" jscontroller=\"zbPkme\" jsname=\"itaskb\" jsshadow=\"\" role=\"button\" tabindex=\"0\"><div class=\"XI1L0d zSBur\" jsname=\"ksKsZd\"></div><span aria-hidden=\"true\" class=\"DPvwYc ChwdAb Xd067b fAk9Qc\" jsname=\"BC5job\">share</span></div></span><span class=\"L8PZAb GB1Zid\" data-n-prms=\"[false,false,false,null,false,false,false,false,null,false,false]\" jsaction=\"rcuQ6b:npT2md;aWRkAb:u0WEMd;h4C2te:Oy8cwd;\" jscontroller=\"jSvZHb\" jsdata=\"oM6qxc;CBMiLmh0dHBzOi8vd3d3Lm1hcmtldGJlYXQuY29tL3N0b2Nrcy9OQVNEQVEvTE1TVC_SAQA;7\" jslog=\"109017\" jsmodel=\"WDTLsd BZ12ub\"><div aria-disabled=\"false\" aria-expanded=\"false\" aria-haspopup=\"true\" aria-label=\"More\" class=\"U26fgb YOnsCc waNn5b ZqhUjb ztUP4e uUmIDd gL67me cd29Sd V3dfMc w0hkKb M9Bg4d\" data-dynamic=\"true\" data-tooltip=\"More\" data-tooltip-horizontal-offset=\"0\" data-tooltip-vertical-offset=\"-12\" jsaction=\"click:cOuCgd; mousedown:UX7yZ; mouseup:lbsD7e; mouseenter:tfO1Yc; mouseleave:JywGue; focus:AHmuwe; blur:O22p3e; contextmenu:mg9Pef;touchstart:p6p2H; touchmove:FwuNnf; touchend:yfqBxc(preventMouseEvents=true|preventDefault=true); touchcancel:JMtRjd;;keydown:I481le;OuuAFc:UauMyf;gSufsc:BS8cLb;RyWlBb:tC9Erd;UTnG9:aDaYxb;nUyoxf:El6wk;\" jscontroller=\"S9Bhuc\" jsname=\"itaskb\" jsshadow=\"\" role=\"button\" tabindex=\"0\"><div class=\"XI1L0d zSBur\" jsname=\"ksKsZd\"></div><span aria-hidden=\"true\" class=\"DPvwYc ChwdAb Xd067b fAk9Qc\" jsname=\"BC5job\">more_vert</span></div></span></menu></div></article></div></div><div class=\"NiLAwe y6IFtc R7GTQ keNKEd j7vNaf nID9nc\" jslog=\"93789; 3:W251bGwsbnVsbCxudWxsLG51bGwsIiIsbnVsbCwxNDEsbnVsbCxudWxsLG51bGwsMzcsbnVsbCxudWxsLFtbW251bGwsIkxpbWVzdG9uZSBCYW5jb3JwIEluYy4gLSBDb21tb24gU3RvY2sgW0xNU1RdIl1dLDFdLG51bGwsMl0=; track:vis; index:4\"><a aria-labelledby=\"i11\" href=\"./articles/CBMiUmh0dHBzOi8vZmluYW5jZS55YWhvby5jb20vbmV3cy9saW1lc3RvbmUtYmFuY29ycC1yZXBvcnRzLW5ldC1pbmNvbWUtMjEwNTAwNTEyLmh0bWzSAVpodHRwczovL2ZpbmFuY2UueWFob28uY29tL2FtcGh0bWwvbmV3cy9saW1lc3RvbmUtYmFuY29ycC1yZXBvcnRzLW5ldC1pbmNvbWUtMjEwNTAwNTEyLmh0bWw?hl=en-US&amp;gl=US&amp;ceid=US%3Aen\" tabindex=\"-1\" target=\"_blank\"><figure class=\"AZtY5d fvuwob d7hoq\" jsaction=\"error:HLDri\" jscontroller=\"dAR81\"><img alt=\"\" aria-label=\"Image\" class=\"tvs3Id QwxBBf\" id=\"i11\" jslog=\"131347\" loading=\"lazy\" src=\"https://lh3.googleusercontent.com/proxy/y8AZF9ihHa9O-Lc7iEz1izL3qwOY77ouSRlI0rvwH8nX-pmaHh5_CZPm0kx28YUmrJaRcl6EB1ut6hANwFb-3AliS07VfnaCFBd72QOWSQRez21Nibk-uYackAL9F_0OoLSRwVd9_NEQPFx1THF6BZZHyopgoK-iHVzA9xeoQF5veW_CWFn6qNSnUwXHr_Wxk4UfD_BOI_Q4eP2HEgE4lyE0STWh8dZYKTg8kYz85H4KQmbpkrLjCfVIVEEpPtKxpbEMH45u5HAq633WBH4fCzKibTqVKvIINGchOwgtTAcLGLI0tjxq0YSrjY6P0w6yLyhI2AX0Sfwqt7zUdebMmxogyu_TMSjD2HLo6gs2elP3_JufoHG84VsUoXlhnhMRqBJaCjpbrhg63UPWQewd=s0-w100-h100-dcgVEI\" srcset=\"https://lh3.googleusercontent.com/proxy/y8AZF9ihHa9O-Lc7iEz1izL3qwOY77ouSRlI0rvwH8nX-pmaHh5_CZPm0kx28YUmrJaRcl6EB1ut6hANwFb-3AliS07VfnaCFBd72QOWSQRez21Nibk-uYackAL9F_0OoLSRwVd9_NEQPFx1THF6BZZHyopgoK-iHVzA9xeoQF5veW_CWFn6qNSnUwXHr_Wxk4UfD_BOI_Q4eP2HEgE4lyE0STWh8dZYKTg8kYz85H4KQmbpkrLjCfVIVEEpPtKxpbEMH45u5HAq633WBH4fCzKibTqVKvIINGchOwgtTAcLGLI0tjxq0YSrjY6P0w6yLyhI2AX0Sfwqt7zUdebMmxogyu_TMSjD2HLo6gs2elP3_JufoHG84VsUoXlhnhMRqBJaCjpbrhg63UPWQewd=s0-w100-h100-dcgVEI 1x, https://lh3.googleusercontent.com/proxy/y8AZF9ihHa9O-Lc7iEz1izL3qwOY77ouSRlI0rvwH8nX-pmaHh5_CZPm0kx28YUmrJaRcl6EB1ut6hANwFb-3AliS07VfnaCFBd72QOWSQRez21Nibk-uYackAL9F_0OoLSRwVd9_NEQPFx1THF6BZZHyopgoK-iHVzA9xeoQF5veW_CWFn6qNSnUwXHr_Wxk4UfD_BOI_Q4eP2HEgE4lyE0STWh8dZYKTg8kYz85H4KQmbpkrLjCfVIVEEpPtKxpbEMH45u5HAq633WBH4fCzKibTqVKvIINGchOwgtTAcLGLI0tjxq0YSrjY6P0w6yLyhI2AX0Sfwqt7zUdebMmxogyu_TMSjD2HLo6gs2elP3_JufoHG84VsUoXlhnhMRqBJaCjpbrhg63UPWQewd=s0-w200-h200-dcgVEI 2x\"/></figure></a><div class=\"xrnccd\"><article class=\"MQsxIb xTewfe R7GTQ keNKEd j7vNaf Cc0Z5d EjqUne\" data-kind=\"13\" data-n-cvid=\"i12\" data-n-et=\"107\" data-n-ham=\"true\" data-n-vlb=\"0\" jsaction=\";rcuQ6b:npT2md; click:KjsqPd;\" jscontroller=\"HyhIue\" jsdata=\"oM6qxc;CBMiUmh0dHBzOi8vZmluYW5jZS55YWhvby5jb20vbmV3cy9saW1lc3RvbmUtYmFuY29ycC1yZXBvcnRzLW5ldC1pbmNvbWUtMjEwNTAwNTEyLmh0bWzSAVpodHRwczovL2ZpbmFuY2UueWFob28uY29tL2FtcGh0bWwvbmV3cy9saW1lc3RvbmUtYmFuY29ycC1yZXBvcnRzLW5ldC1pbmNvbWUtMjEwNTAwNTEyLmh0bWw;8\" jslog=\"85008; 3:W251bGwsbnVsbCxudWxsLG51bGwsIiIsbnVsbCwxNDEsbnVsbCxudWxsLG51bGwsMzcsbnVsbCxudWxsLFtbW251bGwsIkxpbWVzdG9uZSBCYW5jb3JwIEluYy4gLSBDb21tb24gU3RvY2sgW0xNU1RdIl1dLDFdLG51bGwsMl0=; track:vis; index:0\" jsmodel=\"a4N6Ae hT8rr\" ve-visible=\"false\"><a aria-hidden=\"true\" class=\"VDXfz\" href=\"./articles/CBMiUmh0dHBzOi8vZmluYW5jZS55YWhvby5jb20vbmV3cy9saW1lc3RvbmUtYmFuY29ycC1yZXBvcnRzLW5ldC1pbmNvbWUtMjEwNTAwNTEyLmh0bWzSAVpodHRwczovL2ZpbmFuY2UueWFob28uY29tL2FtcGh0bWwvbmV3cy9saW1lc3RvbmUtYmFuY29ycC1yZXBvcnRzLW5ldC1pbmNvbWUtMjEwNTAwNTEyLmh0bWw?hl=en-US&amp;gl=US&amp;ceid=US%3Aen\" jslog=\"95014; 5:W251bGwsbnVsbCxudWxsLG51bGwsbnVsbCxudWxsLG51bGwsbnVsbCwiaHR0cHM6Ly9maW5hbmNlLnlhaG9vLmNvbS9uZXdzL2xpbWVzdG9uZS1iYW5jb3JwLXJlcG9ydHMtbmV0LWluY29tZS0yMTA1MDA1MTIuaHRtbCJd; track:click,vis\" jsname=\"hXwDdf\" tabindex=\"-1\" target=\"_blank\"></a><h3 class=\"ipQwMb ekueJc RD0gLb\"><a class=\"DY5T1d RZIKme\" href=\"./articles/CBMiUmh0dHBzOi8vZmluYW5jZS55YWhvby5jb20vbmV3cy9saW1lc3RvbmUtYmFuY29ycC1yZXBvcnRzLW5ldC1pbmNvbWUtMjEwNTAwNTEyLmh0bWzSAVpodHRwczovL2ZpbmFuY2UueWFob28uY29tL2FtcGh0bWwvbmV3cy9saW1lc3RvbmUtYmFuY29ycC1yZXBvcnRzLW5ldC1pbmNvbWUtMjEwNTAwNTEyLmh0bWw?hl=en-US&amp;gl=US&amp;ceid=US%3Aen\">Limestone Bancorp Reports Net Income of $3.4 Million, or $0.45 Per Diluted Share, for the 4th Quarter of 2021 and $14.9 Million, or $1.96 Per Diluted Share, for the Twelve Months Ended December 31, 2021</a></h3><div class=\"QmrVtf RD0gLb kybdz\"><div class=\"SVJrMe\" jsname=\"Hn1wIf\"><svg class=\"N3ElHc eLNT1d uQIVzc NMm5M\" focusable=\"false\" height=\"18\" viewbox=\"0 0 24 24\" width=\"18\"><path d=\"M0 0h24v24H0V0z\" fill=\"none\"></path><path d=\"M21.58 7.19c-.23-.86-.91-1.54-1.77-1.77C18.25 5 12 5 12 5s-6.25 0-7.81.42c-.86.23-1.54.91-1.77 1.77C2 8.75 2 12 2 12s0 3.25.42 4.81c.23.86.91 1.54 1.77 1.77C5.75 19 12 19 12 19s6.25 0 7.81-.42c.86-.23 1.54-.91 1.77-1.77C22 15.25 22 12 22 12s0-3.25-.42-4.81zM10 15V9l5.2 3-5.2 3z\"></path></svg><a class=\"wEwyrc AVN2gc uQIVzc Sksgp\" data-n-tid=\"9\">Yahoo Finance</a><time class=\"WW6dff uQIVzc Sksgp\" datetime=\"2022-01-19T08:00:00Z\">Jan 19</time></div><menu class=\"fmkQje gXqRq\"><div class=\"OGsJDe L8PZAb R71ogd\" data-n-ca-at=\"2\" data-n-et=\"1000\" data-n-ssice=\"false\" data-n-st=\"bookmark\" data-n-suwu=\"false\" jsaction=\"rcuQ6b:npT2md;JIbuQc:h5M12e;eEPUnd:h5M12e;YohPuc:CE7Jad;qW1nqe:kjc9zd;\" jscontroller=\"pQWkX\" jsdata=\"oM6qxc;CBMiUmh0dHBzOi8vZmluYW5jZS55YWhvby5jb20vbmV3cy9saW1lc3RvbmUtYmFuY29ycC1yZXBvcnRzLW5ldC1pbmNvbWUtMjEwNTAwNTEyLmh0bWzSAVpodHRwczovL2ZpbmFuY2UueWFob28uY29tL2FtcGh0bWwvbmV3cy9saW1lc3RvbmUtYmFuY29ycC1yZXBvcnRzLW5ldC1pbmNvbWUtMjEwNTAwNTEyLmh0bWw;8\" jsmodel=\"BZ12ub\" jsname=\"ms4Zd\"><div aria-disabled=\"false\" aria-label=\"Follow\" class=\"U26fgb YOnsCc waNn5b ZqhUjb ztUP4e uUmIDd cd29Sd V3dfMc w0hkKb M9Bg4d\" data-n-et=\"1000\" jsaction=\"click:cOuCgd; mousedown:UX7yZ; mouseup:lbsD7e; mouseenter:tfO1Yc; mouseleave:JywGue; focus:AHmuwe; blur:O22p3e; contextmenu:mg9Pef;touchstart:p6p2H; touchmove:FwuNnf; touchend:yfqBxc(preventMouseEvents=true|preventDefault=true); touchcancel:JMtRjd;;OuuAFc:UauMyf;gSufsc:BS8cLb;RyWlBb:tC9Erd;UTnG9:aDaYxb;nUyoxf:El6wk;\" jscontroller=\"zbPkme\" jsname=\"itaskb\" jsshadow=\"\" role=\"button\" tabindex=\"0\"><div class=\"XI1L0d zSBur\" jsname=\"ksKsZd\"></div><span aria-hidden=\"true\" class=\"DPvwYc ChwdAb Xd067b fAk9Qc\" jsname=\"BC5job\">bookmark_border</span></div></div><span class=\"L8PZAb uG2FLd\" data-n-ca-at=\"8\" data-n-et=\"1000\" jsaction=\"JIbuQc:RNDhHe;\" jscontroller=\"ZHduwf\" jsdata=\"oM6qxc;CBMiUmh0dHBzOi8vZmluYW5jZS55YWhvby5jb20vbmV3cy9saW1lc3RvbmUtYmFuY29ycC1yZXBvcnRzLW5ldC1pbmNvbWUtMjEwNTAwNTEyLmh0bWzSAVpodHRwczovL2ZpbmFuY2UueWFob28uY29tL2FtcGh0bWwvbmV3cy9saW1lc3RvbmUtYmFuY29ycC1yZXBvcnRzLW5ldC1pbmNvbWUtMjEwNTAwNTEyLmh0bWw;8\" jslog=\"93393; 3:W251bGwsbnVsbCxudWxsLG51bGwsIiIsbnVsbCwxNDEsbnVsbCxudWxsLG51bGwsMzcsbnVsbCxudWxsLFtbW251bGwsIkxpbWVzdG9uZSBCYW5jb3JwIEluYy4gLSBDb21tb24gU3RvY2sgW0xNU1RdIl1dLDFdLG51bGwsMl0=\" jsmodel=\"tOLjce hECoeb\"><div aria-disabled=\"false\" aria-label=\"Share\" class=\"U26fgb YOnsCc waNn5b ZqhUjb ztUP4e uUmIDd cd29Sd V3dfMc w0hkKb M9Bg4d\" data-n-et=\"1000\" data-tooltip=\"Share\" data-tooltip-horizontal-offset=\"0\" data-tooltip-vertical-offset=\"-12\" jsaction=\"click:cOuCgd; mousedown:UX7yZ; mouseup:lbsD7e; mouseenter:tfO1Yc; mouseleave:JywGue; focus:AHmuwe; blur:O22p3e; contextmenu:mg9Pef;touchstart:p6p2H; touchmove:FwuNnf; touchend:yfqBxc(preventMouseEvents=true|preventDefault=true); touchcancel:JMtRjd;;OuuAFc:UauMyf;gSufsc:BS8cLb;RyWlBb:tC9Erd;UTnG9:aDaYxb;nUyoxf:El6wk;\" jscontroller=\"zbPkme\" jsname=\"itaskb\" jsshadow=\"\" role=\"button\" tabindex=\"0\"><div class=\"XI1L0d zSBur\" jsname=\"ksKsZd\"></div><span aria-hidden=\"true\" class=\"DPvwYc ChwdAb Xd067b fAk9Qc\" jsname=\"BC5job\">share</span></div></span><span class=\"L8PZAb GB1Zid\" data-n-prms=\"[false,false,false,null,false,false,false,false,null,false,false]\" jsaction=\"rcuQ6b:npT2md;aWRkAb:u0WEMd;h4C2te:Oy8cwd;\" jscontroller=\"jSvZHb\" jsdata=\"oM6qxc;CBMiUmh0dHBzOi8vZmluYW5jZS55YWhvby5jb20vbmV3cy9saW1lc3RvbmUtYmFuY29ycC1yZXBvcnRzLW5ldC1pbmNvbWUtMjEwNTAwNTEyLmh0bWzSAVpodHRwczovL2ZpbmFuY2UueWFob28uY29tL2FtcGh0bWwvbmV3cy9saW1lc3RvbmUtYmFuY29ycC1yZXBvcnRzLW5ldC1pbmNvbWUtMjEwNTAwNTEyLmh0bWw;8\" jslog=\"109017\" jsmodel=\"WDTLsd BZ12ub\"><div aria-disabled=\"false\" aria-expanded=\"false\" aria-haspopup=\"true\" aria-label=\"More\" class=\"U26fgb YOnsCc waNn5b ZqhUjb ztUP4e uUmIDd gL67me cd29Sd V3dfMc w0hkKb M9Bg4d\" data-dynamic=\"true\" data-tooltip=\"More\" data-tooltip-horizontal-offset=\"0\" data-tooltip-vertical-offset=\"-12\" jsaction=\"click:cOuCgd; mousedown:UX7yZ; mouseup:lbsD7e; mouseenter:tfO1Yc; mouseleave:JywGue; focus:AHmuwe; blur:O22p3e; contextmenu:mg9Pef;touchstart:p6p2H; touchmove:FwuNnf; touchend:yfqBxc(preventMouseEvents=true|preventDefault=true); touchcancel:JMtRjd;;keydown:I481le;OuuAFc:UauMyf;gSufsc:BS8cLb;RyWlBb:tC9Erd;UTnG9:aDaYxb;nUyoxf:El6wk;\" jscontroller=\"S9Bhuc\" jsname=\"itaskb\" jsshadow=\"\" role=\"button\" tabindex=\"0\"><div class=\"XI1L0d zSBur\" jsname=\"ksKsZd\"></div><span aria-hidden=\"true\" class=\"DPvwYc ChwdAb Xd067b fAk9Qc\" jsname=\"BC5job\">more_vert</span></div></span></menu></div></article></div></div><div class=\"NiLAwe y6IFtc R7GTQ keNKEd j7vNaf nID9nc\" jslog=\"93789; 3:W251bGwsbnVsbCxudWxsLG51bGwsIiIsbnVsbCwxNDEsbnVsbCxudWxsLG51bGwsMzcsbnVsbCxudWxsLFtbW251bGwsIkxpbWVzdG9uZSBCYW5jb3JwIEluYy4gLSBDb21tb24gU3RvY2sgW0xNU1RdIl1dLDFdLG51bGwsMl0=; track:vis; index:5\"><a aria-labelledby=\"i13\" href=\"./articles/CBMieWh0dHBzOi8vd3d3LmJ1c2luZXNzd2lyZS5jb20vbmV3cy9ob21lLzIwMTkxMTE4MDA1NDUzL2VuL0xpbWVzdG9uZS1CYW5rLUNvbXBsZXRlcy1BY3F1aXNpdGlvbi1vZi00LUJyYW5jaC1CYW5raW5nLUNlbnRlcnPSAQA?hl=en-US&amp;gl=US&amp;ceid=US%3Aen\" tabindex=\"-1\" target=\"_blank\"><figure class=\"AZtY5d fvuwob MbMxpc d7hoq\" jsaction=\"error:HLDri\" jscontroller=\"dAR81\"><img alt=\"\" aria-label=\"Image\" class=\"tvs3Id QwxBBf\" id=\"i13\" jslog=\"131347\" loading=\"lazy\" src=\"https://lh3.googleusercontent.com/proxy/i86dqVA35YoTmtGNgGVc9dBSfu9iLBhqsinWmh_y2_uLefiXMIe_xXRbfs4Zr9jpk20226iTAiMLCfj8q22hkOhO4MocxddmeiqT-HIsDH_MnmCCLZO2570ObxwoKc2uRiYM8Xa5MPsJrDahapoj4PzQansV=s0-w100-h100-dcATQK\" srcset=\"https://lh3.googleusercontent.com/proxy/i86dqVA35YoTmtGNgGVc9dBSfu9iLBhqsinWmh_y2_uLefiXMIe_xXRbfs4Zr9jpk20226iTAiMLCfj8q22hkOhO4MocxddmeiqT-HIsDH_MnmCCLZO2570ObxwoKc2uRiYM8Xa5MPsJrDahapoj4PzQansV=s0-w100-h100-dcATQK 1x, https://lh3.googleusercontent.com/proxy/i86dqVA35YoTmtGNgGVc9dBSfu9iLBhqsinWmh_y2_uLefiXMIe_xXRbfs4Zr9jpk20226iTAiMLCfj8q22hkOhO4MocxddmeiqT-HIsDH_MnmCCLZO2570ObxwoKc2uRiYM8Xa5MPsJrDahapoj4PzQansV=s0-w200-h200-dcATQK 2x\"/></figure></a><div class=\"xrnccd\"><article class=\"MQsxIb xTewfe R7GTQ keNKEd j7vNaf Cc0Z5d EjqUne\" data-kind=\"13\" data-n-cvid=\"i14\" data-n-et=\"107\" data-n-ham=\"true\" data-n-vlb=\"0\" jsaction=\";rcuQ6b:npT2md; click:KjsqPd;\" jscontroller=\"HyhIue\" jsdata=\"oM6qxc;CBMieWh0dHBzOi8vd3d3LmJ1c2luZXNzd2lyZS5jb20vbmV3cy9ob21lLzIwMTkxMTE4MDA1NDUzL2VuL0xpbWVzdG9uZS1CYW5rLUNvbXBsZXRlcy1BY3F1aXNpdGlvbi1vZi00LUJyYW5jaC1CYW5raW5nLUNlbnRlcnPSAQA;9\" jslog=\"85008; 3:W251bGwsbnVsbCxudWxsLG51bGwsIiIsbnVsbCwxNDEsbnVsbCxudWxsLG51bGwsMzcsbnVsbCxudWxsLFtbW251bGwsIkxpbWVzdG9uZSBCYW5jb3JwIEluYy4gLSBDb21tb24gU3RvY2sgW0xNU1RdIl1dLDFdLG51bGwsMl0=; track:vis; index:0\" jsmodel=\"a4N6Ae hT8rr\" ve-visible=\"false\"><a aria-hidden=\"true\" class=\"VDXfz\" href=\"./articles/CBMieWh0dHBzOi8vd3d3LmJ1c2luZXNzd2lyZS5jb20vbmV3cy9ob21lLzIwMTkxMTE4MDA1NDUzL2VuL0xpbWVzdG9uZS1CYW5rLUNvbXBsZXRlcy1BY3F1aXNpdGlvbi1vZi00LUJyYW5jaC1CYW5raW5nLUNlbnRlcnPSAQA?hl=en-US&amp;gl=US&amp;ceid=US%3Aen\" jslog=\"95014; 5:W251bGwsbnVsbCxudWxsLG51bGwsbnVsbCxudWxsLG51bGwsbnVsbCwiaHR0cHM6Ly93d3cuYnVzaW5lc3N3aXJlLmNvbS9uZXdzL2hvbWUvMjAxOTExMTgwMDU0NTMvZW4vTGltZXN0b25lLUJhbmstQ29tcGxldGVzLUFjcXVpc2l0aW9uLW9mLTQtQnJhbmNoLUJhbmtpbmctQ2VudGVycyJd; track:click,vis\" jsname=\"hXwDdf\" tabindex=\"-1\" target=\"_blank\"></a><h3 class=\"ipQwMb ekueJc RD0gLb\"><a class=\"DY5T1d RZIKme\" href=\"./articles/CBMieWh0dHBzOi8vd3d3LmJ1c2luZXNzd2lyZS5jb20vbmV3cy9ob21lLzIwMTkxMTE4MDA1NDUzL2VuL0xpbWVzdG9uZS1CYW5rLUNvbXBsZXRlcy1BY3F1aXNpdGlvbi1vZi00LUJyYW5jaC1CYW5raW5nLUNlbnRlcnPSAQA?hl=en-US&amp;gl=US&amp;ceid=US%3Aen\">Limestone Bank Completes Acquisition of 4 Branch Banking Centers</a></h3><div class=\"QmrVtf RD0gLb kybdz\"><div class=\"SVJrMe\" jsname=\"Hn1wIf\"><svg class=\"N3ElHc eLNT1d uQIVzc NMm5M\" focusable=\"false\" height=\"18\" viewbox=\"0 0 24 24\" width=\"18\"><path d=\"M0 0h24v24H0V0z\" fill=\"none\"></path><path d=\"M21.58 7.19c-.23-.86-.91-1.54-1.77-1.77C18.25 5 12 5 12 5s-6.25 0-7.81.42c-.86.23-1.54.91-1.77 1.77C2 8.75 2 12 2 12s0 3.25.42 4.81c.23.86.91 1.54 1.77 1.77C5.75 19 12 19 12 19s6.25 0 7.81-.42c.86-.23 1.54-.91 1.77-1.77C22 15.25 22 12 22 12s0-3.25-.42-4.81zM10 15V9l5.2 3-5.2 3z\"></path></svg><a class=\"wEwyrc AVN2gc uQIVzc Sksgp\" data-n-tid=\"9\">Business Wire</a></div><menu class=\"fmkQje gXqRq\"><div class=\"OGsJDe L8PZAb R71ogd\" data-n-ca-at=\"2\" data-n-et=\"1000\" data-n-ssice=\"false\" data-n-st=\"bookmark\" data-n-suwu=\"false\" jsaction=\"rcuQ6b:npT2md;JIbuQc:h5M12e;eEPUnd:h5M12e;YohPuc:CE7Jad;qW1nqe:kjc9zd;\" jscontroller=\"pQWkX\" jsdata=\"oM6qxc;CBMieWh0dHBzOi8vd3d3LmJ1c2luZXNzd2lyZS5jb20vbmV3cy9ob21lLzIwMTkxMTE4MDA1NDUzL2VuL0xpbWVzdG9uZS1CYW5rLUNvbXBsZXRlcy1BY3F1aXNpdGlvbi1vZi00LUJyYW5jaC1CYW5raW5nLUNlbnRlcnPSAQA;9\" jsmodel=\"BZ12ub\" jsname=\"ms4Zd\"><div aria-disabled=\"false\" aria-label=\"Follow\" class=\"U26fgb YOnsCc waNn5b ZqhUjb ztUP4e uUmIDd cd29Sd V3dfMc w0hkKb M9Bg4d\" data-n-et=\"1000\" jsaction=\"click:cOuCgd; mousedown:UX7yZ; mouseup:lbsD7e; mouseenter:tfO1Yc; mouseleave:JywGue; focus:AHmuwe; blur:O22p3e; contextmenu:mg9Pef;touchstart:p6p2H; touchmove:FwuNnf; touchend:yfqBxc(preventMouseEvents=true|preventDefault=true); touchcancel:JMtRjd;;OuuAFc:UauMyf;gSufsc:BS8cLb;RyWlBb:tC9Erd;UTnG9:aDaYxb;nUyoxf:El6wk;\" jscontroller=\"zbPkme\" jsname=\"itaskb\" jsshadow=\"\" role=\"button\" tabindex=\"0\"><div class=\"XI1L0d zSBur\" jsname=\"ksKsZd\"></div><span aria-hidden=\"true\" class=\"DPvwYc ChwdAb Xd067b fAk9Qc\" jsname=\"BC5job\">bookmark_border</span></div></div><span class=\"L8PZAb uG2FLd\" data-n-ca-at=\"8\" data-n-et=\"1000\" jsaction=\"JIbuQc:RNDhHe;\" jscontroller=\"ZHduwf\" jsdata=\"oM6qxc;CBMieWh0dHBzOi8vd3d3LmJ1c2luZXNzd2lyZS5jb20vbmV3cy9ob21lLzIwMTkxMTE4MDA1NDUzL2VuL0xpbWVzdG9uZS1CYW5rLUNvbXBsZXRlcy1BY3F1aXNpdGlvbi1vZi00LUJyYW5jaC1CYW5raW5nLUNlbnRlcnPSAQA;9\" jslog=\"93393; 3:W251bGwsbnVsbCxudWxsLG51bGwsIiIsbnVsbCwxNDEsbnVsbCxudWxsLG51bGwsMzcsbnVsbCxudWxsLFtbW251bGwsIkxpbWVzdG9uZSBCYW5jb3JwIEluYy4gLSBDb21tb24gU3RvY2sgW0xNU1RdIl1dLDFdLG51bGwsMl0=\" jsmodel=\"tOLjce hECoeb\"><div aria-disabled=\"false\" aria-label=\"Share\" class=\"U26fgb YOnsCc waNn5b ZqhUjb ztUP4e uUmIDd cd29Sd V3dfMc w0hkKb M9Bg4d\" data-n-et=\"1000\" data-tooltip=\"Share\" data-tooltip-horizontal-offset=\"0\" data-tooltip-vertical-offset=\"-12\" jsaction=\"click:cOuCgd; mousedown:UX7yZ; mouseup:lbsD7e; mouseenter:tfO1Yc; mouseleave:JywGue; focus:AHmuwe; blur:O22p3e; contextmenu:mg9Pef;touchstart:p6p2H; touchmove:FwuNnf; touchend:yfqBxc(preventMouseEvents=true|preventDefault=true); touchcancel:JMtRjd;;OuuAFc:UauMyf;gSufsc:BS8cLb;RyWlBb:tC9Erd;UTnG9:aDaYxb;nUyoxf:El6wk;\" jscontroller=\"zbPkme\" jsname=\"itaskb\" jsshadow=\"\" role=\"button\" tabindex=\"0\"><div class=\"XI1L0d zSBur\" jsname=\"ksKsZd\"></div><span aria-hidden=\"true\" class=\"DPvwYc ChwdAb Xd067b fAk9Qc\" jsname=\"BC5job\">share</span></div></span><span class=\"L8PZAb GB1Zid\" data-n-prms=\"[false,false,false,null,false,false,false,false,null,false,false]\" jsaction=\"rcuQ6b:npT2md;aWRkAb:u0WEMd;h4C2te:Oy8cwd;\" jscontroller=\"jSvZHb\" jsdata=\"oM6qxc;CBMieWh0dHBzOi8vd3d3LmJ1c2luZXNzd2lyZS5jb20vbmV3cy9ob21lLzIwMTkxMTE4MDA1NDUzL2VuL0xpbWVzdG9uZS1CYW5rLUNvbXBsZXRlcy1BY3F1aXNpdGlvbi1vZi00LUJyYW5jaC1CYW5raW5nLUNlbnRlcnPSAQA;9\" jslog=\"109017\" jsmodel=\"WDTLsd BZ12ub\"><div aria-disabled=\"false\" aria-expanded=\"false\" aria-haspopup=\"true\" aria-label=\"More\" class=\"U26fgb YOnsCc waNn5b ZqhUjb ztUP4e uUmIDd gL67me cd29Sd V3dfMc w0hkKb M9Bg4d\" data-dynamic=\"true\" data-tooltip=\"More\" data-tooltip-horizontal-offset=\"0\" data-tooltip-vertical-offset=\"-12\" jsaction=\"click:cOuCgd; mousedown:UX7yZ; mouseup:lbsD7e; mouseenter:tfO1Yc; mouseleave:JywGue; focus:AHmuwe; blur:O22p3e; contextmenu:mg9Pef;touchstart:p6p2H; touchmove:FwuNnf; touchend:yfqBxc(preventMouseEvents=true|preventDefault=true); touchcancel:JMtRjd;;keydown:I481le;OuuAFc:UauMyf;gSufsc:BS8cLb;RyWlBb:tC9Erd;UTnG9:aDaYxb;nUyoxf:El6wk;\" jscontroller=\"S9Bhuc\" jsname=\"itaskb\" jsshadow=\"\" role=\"button\" tabindex=\"0\"><div class=\"XI1L0d zSBur\" jsname=\"ksKsZd\"></div><span aria-hidden=\"true\" class=\"DPvwYc ChwdAb Xd067b fAk9Qc\" jsname=\"BC5job\">more_vert</span></div></span></menu></div></article></div></div><div class=\"NiLAwe y6IFtc R7GTQ keNKEd j7vNaf nID9nc\" jslog=\"93789; 3:W251bGwsbnVsbCxudWxsLG51bGwsIiIsbnVsbCwxNDEsbnVsbCxudWxsLG51bGwsMzcsbnVsbCxudWxsLFtbW251bGwsIkxpbWVzdG9uZSBCYW5jb3JwIEluYy4gLSBDb21tb24gU3RvY2sgW0xNU1RdIl1dLDFdLG51bGwsMl0=; track:vis; index:6\"><a aria-labelledby=\"i15\" href=\"./articles/CBMia2h0dHBzOi8vd3d3LmJ1c2luZXNzd2lyZS5jb20vbmV3cy9ob21lLzIwMTkwNzI1MDA1MDc5L2VuL0xpbWVzdG9uZS1CYW5rLXRvLUFjcXVpcmUtNC1CcmFuY2gtQmFua2luZy1DZW50ZXJz0gEA?hl=en-US&amp;gl=US&amp;ceid=US%3Aen\" tabindex=\"-1\" target=\"_blank\"><figure class=\"AZtY5d fvuwob MbMxpc d7hoq\" jsaction=\"error:HLDri\" jscontroller=\"dAR81\"><img alt=\"\" aria-label=\"Image\" class=\"tvs3Id QwxBBf\" id=\"i15\" jslog=\"131347\" loading=\"lazy\" src=\"https://lh3.googleusercontent.com/proxy/kYKsJSQBTDjNFPHNQZEdAfMopy8EAHw3McxugijphTTilGfTWQ2NGfNES8Qy1cqCCyXC9blj8P7cIZrSckN7tYviRcK6-LRWB48XqMS3Zr37YnUBYjnZQElA2ZmMIg3uXUc-7jTOBc3ba4-Y=s0-w100-h100-dcCSQO\" srcset=\"https://lh3.googleusercontent.com/proxy/kYKsJSQBTDjNFPHNQZEdAfMopy8EAHw3McxugijphTTilGfTWQ2NGfNES8Qy1cqCCyXC9blj8P7cIZrSckN7tYviRcK6-LRWB48XqMS3Zr37YnUBYjnZQElA2ZmMIg3uXUc-7jTOBc3ba4-Y=s0-w100-h100-dcCSQO 1x, https://lh3.googleusercontent.com/proxy/kYKsJSQBTDjNFPHNQZEdAfMopy8EAHw3McxugijphTTilGfTWQ2NGfNES8Qy1cqCCyXC9blj8P7cIZrSckN7tYviRcK6-LRWB48XqMS3Zr37YnUBYjnZQElA2ZmMIg3uXUc-7jTOBc3ba4-Y=s0-w200-h200-dcCSQO 2x\"/></figure></a><div class=\"xrnccd\"><article class=\"MQsxIb xTewfe R7GTQ keNKEd j7vNaf Cc0Z5d EjqUne\" data-kind=\"13\" data-n-cvid=\"i16\" data-n-et=\"107\" data-n-ham=\"true\" data-n-vlb=\"0\" jsaction=\";rcuQ6b:npT2md; click:KjsqPd;\" jscontroller=\"HyhIue\" jsdata=\"oM6qxc;CBMia2h0dHBzOi8vd3d3LmJ1c2luZXNzd2lyZS5jb20vbmV3cy9ob21lLzIwMTkwNzI1MDA1MDc5L2VuL0xpbWVzdG9uZS1CYW5rLXRvLUFjcXVpcmUtNC1CcmFuY2gtQmFua2luZy1DZW50ZXJz0gEA;10\" jslog=\"85008; 3:W251bGwsbnVsbCxudWxsLG51bGwsIiIsbnVsbCwxNDEsbnVsbCxudWxsLG51bGwsMzcsbnVsbCxudWxsLFtbW251bGwsIkxpbWVzdG9uZSBCYW5jb3JwIEluYy4gLSBDb21tb24gU3RvY2sgW0xNU1RdIl1dLDFdLG51bGwsMl0=; track:vis; index:0\" jsmodel=\"a4N6Ae hT8rr\" ve-visible=\"false\"><a aria-hidden=\"true\" class=\"VDXfz\" href=\"./articles/CBMia2h0dHBzOi8vd3d3LmJ1c2luZXNzd2lyZS5jb20vbmV3cy9ob21lLzIwMTkwNzI1MDA1MDc5L2VuL0xpbWVzdG9uZS1CYW5rLXRvLUFjcXVpcmUtNC1CcmFuY2gtQmFua2luZy1DZW50ZXJz0gEA?hl=en-US&amp;gl=US&amp;ceid=US%3Aen\" jslog=\"95014; 5:W251bGwsbnVsbCxudWxsLG51bGwsbnVsbCxudWxsLG51bGwsbnVsbCwiaHR0cHM6Ly93d3cuYnVzaW5lc3N3aXJlLmNvbS9uZXdzL2hvbWUvMjAxOTA3MjUwMDUwNzkvZW4vTGltZXN0b25lLUJhbmstdG8tQWNxdWlyZS00LUJyYW5jaC1CYW5raW5nLUNlbnRlcnMiXQ==; track:click,vis\" jsname=\"hXwDdf\" tabindex=\"-1\" target=\"_blank\"></a><h3 class=\"ipQwMb ekueJc RD0gLb\"><a class=\"DY5T1d RZIKme\" href=\"./articles/CBMia2h0dHBzOi8vd3d3LmJ1c2luZXNzd2lyZS5jb20vbmV3cy9ob21lLzIwMTkwNzI1MDA1MDc5L2VuL0xpbWVzdG9uZS1CYW5rLXRvLUFjcXVpcmUtNC1CcmFuY2gtQmFua2luZy1DZW50ZXJz0gEA?hl=en-US&amp;gl=US&amp;ceid=US%3Aen\">Limestone Bank to Acquire 4 Branch Banking Centers</a></h3><div class=\"QmrVtf RD0gLb kybdz\"><div class=\"SVJrMe\" jsname=\"Hn1wIf\"><svg class=\"N3ElHc eLNT1d uQIVzc NMm5M\" focusable=\"false\" height=\"18\" viewbox=\"0 0 24 24\" width=\"18\"><path d=\"M0 0h24v24H0V0z\" fill=\"none\"></path><path d=\"M21.58 7.19c-.23-.86-.91-1.54-1.77-1.77C18.25 5 12 5 12 5s-6.25 0-7.81.42c-.86.23-1.54.91-1.77 1.77C2 8.75 2 12 2 12s0 3.25.42 4.81c.23.86.91 1.54 1.77 1.77C5.75 19 12 19 12 19s6.25 0 7.81-.42c.86-.23 1.54-.91 1.77-1.77C22 15.25 22 12 22 12s0-3.25-.42-4.81zM10 15V9l5.2 3-5.2 3z\"></path></svg><a class=\"wEwyrc AVN2gc uQIVzc Sksgp\" data-n-tid=\"9\">Business Wire</a></div><menu class=\"fmkQje gXqRq\"><div class=\"OGsJDe L8PZAb R71ogd\" data-n-ca-at=\"2\" data-n-et=\"1000\" data-n-ssice=\"false\" data-n-st=\"bookmark\" data-n-suwu=\"false\" jsaction=\"rcuQ6b:npT2md;JIbuQc:h5M12e;eEPUnd:h5M12e;YohPuc:CE7Jad;qW1nqe:kjc9zd;\" jscontroller=\"pQWkX\" jsdata=\"oM6qxc;CBMia2h0dHBzOi8vd3d3LmJ1c2luZXNzd2lyZS5jb20vbmV3cy9ob21lLzIwMTkwNzI1MDA1MDc5L2VuL0xpbWVzdG9uZS1CYW5rLXRvLUFjcXVpcmUtNC1CcmFuY2gtQmFua2luZy1DZW50ZXJz0gEA;10\" jsmodel=\"BZ12ub\" jsname=\"ms4Zd\"><div aria-disabled=\"false\" aria-label=\"Follow\" class=\"U26fgb YOnsCc waNn5b ZqhUjb ztUP4e uUmIDd cd29Sd V3dfMc w0hkKb M9Bg4d\" data-n-et=\"1000\" jsaction=\"click:cOuCgd; mousedown:UX7yZ; mouseup:lbsD7e; mouseenter:tfO1Yc; mouseleave:JywGue; focus:AHmuwe; blur:O22p3e; contextmenu:mg9Pef;touchstart:p6p2H; touchmove:FwuNnf; touchend:yfqBxc(preventMouseEvents=true|preventDefault=true); touchcancel:JMtRjd;;OuuAFc:UauMyf;gSufsc:BS8cLb;RyWlBb:tC9Erd;UTnG9:aDaYxb;nUyoxf:El6wk;\" jscontroller=\"zbPkme\" jsname=\"itaskb\" jsshadow=\"\" role=\"button\" tabindex=\"0\"><div class=\"XI1L0d zSBur\" jsname=\"ksKsZd\"></div><span aria-hidden=\"true\" class=\"DPvwYc ChwdAb Xd067b fAk9Qc\" jsname=\"BC5job\">bookmark_border</span></div></div><span class=\"L8PZAb uG2FLd\" data-n-ca-at=\"8\" data-n-et=\"1000\" jsaction=\"JIbuQc:RNDhHe;\" jscontroller=\"ZHduwf\" jsdata=\"oM6qxc;CBMia2h0dHBzOi8vd3d3LmJ1c2luZXNzd2lyZS5jb20vbmV3cy9ob21lLzIwMTkwNzI1MDA1MDc5L2VuL0xpbWVzdG9uZS1CYW5rLXRvLUFjcXVpcmUtNC1CcmFuY2gtQmFua2luZy1DZW50ZXJz0gEA;10\" jslog=\"93393; 3:W251bGwsbnVsbCxudWxsLG51bGwsIiIsbnVsbCwxNDEsbnVsbCxudWxsLG51bGwsMzcsbnVsbCxudWxsLFtbW251bGwsIkxpbWVzdG9uZSBCYW5jb3JwIEluYy4gLSBDb21tb24gU3RvY2sgW0xNU1RdIl1dLDFdLG51bGwsMl0=\" jsmodel=\"tOLjce hECoeb\"><div aria-disabled=\"false\" aria-label=\"Share\" class=\"U26fgb YOnsCc waNn5b ZqhUjb ztUP4e uUmIDd cd29Sd V3dfMc w0hkKb M9Bg4d\" data-n-et=\"1000\" data-tooltip=\"Share\" data-tooltip-horizontal-offset=\"0\" data-tooltip-vertical-offset=\"-12\" jsaction=\"click:cOuCgd; mousedown:UX7yZ; mouseup:lbsD7e; mouseenter:tfO1Yc; mouseleave:JywGue; focus:AHmuwe; blur:O22p3e; contextmenu:mg9Pef;touchstart:p6p2H; touchmove:FwuNnf; touchend:yfqBxc(preventMouseEvents=true|preventDefault=true); touchcancel:JMtRjd;;OuuAFc:UauMyf;gSufsc:BS8cLb;RyWlBb:tC9Erd;UTnG9:aDaYxb;nUyoxf:El6wk;\" jscontroller=\"zbPkme\" jsname=\"itaskb\" jsshadow=\"\" role=\"button\" tabindex=\"0\"><div class=\"XI1L0d zSBur\" jsname=\"ksKsZd\"></div><span aria-hidden=\"true\" class=\"DPvwYc ChwdAb Xd067b fAk9Qc\" jsname=\"BC5job\">share</span></div></span><span class=\"L8PZAb GB1Zid\" data-n-prms=\"[false,false,false,null,false,false,false,false,null,false,false]\" jsaction=\"rcuQ6b:npT2md;aWRkAb:u0WEMd;h4C2te:Oy8cwd;\" jscontroller=\"jSvZHb\" jsdata=\"oM6qxc;CBMia2h0dHBzOi8vd3d3LmJ1c2luZXNzd2lyZS5jb20vbmV3cy9ob21lLzIwMTkwNzI1MDA1MDc5L2VuL0xpbWVzdG9uZS1CYW5rLXRvLUFjcXVpcmUtNC1CcmFuY2gtQmFua2luZy1DZW50ZXJz0gEA;10\" jslog=\"109017\" jsmodel=\"WDTLsd BZ12ub\"><div aria-disabled=\"false\" aria-expanded=\"false\" aria-haspopup=\"true\" aria-label=\"More\" class=\"U26fgb YOnsCc waNn5b ZqhUjb ztUP4e uUmIDd gL67me cd29Sd V3dfMc w0hkKb M9Bg4d\" data-dynamic=\"true\" data-tooltip=\"More\" data-tooltip-horizontal-offset=\"0\" data-tooltip-vertical-offset=\"-12\" jsaction=\"click:cOuCgd; mousedown:UX7yZ; mouseup:lbsD7e; mouseenter:tfO1Yc; mouseleave:JywGue; focus:AHmuwe; blur:O22p3e; contextmenu:mg9Pef;touchstart:p6p2H; touchmove:FwuNnf; touchend:yfqBxc(preventMouseEvents=true|preventDefault=true); touchcancel:JMtRjd;;keydown:I481le;OuuAFc:UauMyf;gSufsc:BS8cLb;RyWlBb:tC9Erd;UTnG9:aDaYxb;nUyoxf:El6wk;\" jscontroller=\"S9Bhuc\" jsname=\"itaskb\" jsshadow=\"\" role=\"button\" tabindex=\"0\"><div class=\"XI1L0d zSBur\" jsname=\"ksKsZd\"></div><span aria-hidden=\"true\" class=\"DPvwYc ChwdAb Xd067b fAk9Qc\" jsname=\"BC5job\">more_vert</span></div></span></menu></div></article></div></div><div class=\"NiLAwe y6IFtc R7GTQ keNKEd j7vNaf nID9nc\" jslog=\"93789; 3:W251bGwsbnVsbCxudWxsLG51bGwsIiIsbnVsbCwxNDEsbnVsbCxudWxsLG51bGwsMzcsbnVsbCxudWxsLFtbW251bGwsIkxpbWVzdG9uZSBCYW5jb3JwIEluYy4gLSBDb21tb24gU3RvY2sgW0xNU1RdIl1dLDFdLG51bGwsMl0=; track:vis; index:7\"><a aria-labelledby=\"i17\" href=\"./articles/CBMihQFodHRwczovL3d3dy5idXNpbmVzc3dpcmUuY29tL25ld3MvaG9tZS8yMDIxMDIyNDAwNjAxNS9lbi9MaW1lc3RvbmUtQmFuay1Kb2lucy1FZmZvcnQtdG8tRnVuZC1Ob3J0b24tSGVhbHRoY2FyZS1TcG9ydHMtTGVhcm5pbmctQ2VudGVy0gEA?hl=en-US&amp;gl=US&amp;ceid=US%3Aen\" tabindex=\"-1\" target=\"_blank\"><figure class=\"AZtY5d fvuwob MbMxpc d7hoq\" jsaction=\"error:HLDri\" jscontroller=\"dAR81\"><img alt=\"\" aria-label=\"Image\" class=\"tvs3Id QwxBBf\" id=\"i17\" jslog=\"131347\" loading=\"lazy\" src=\"https://lh3.googleusercontent.com/proxy/-zhVFTKPp6sUunYXN-0uHupkjCfd80ZidxXuUbxhh6s6-QJHE6aq_CSMXVkVjDW0MI6EtJl8QD0G41DamEJ5Y-TaO0ZhDDlzZ93sTks39FRJf2_IBlNkJgedNvvHqX56YOyQv_Vrl9fGns9tLdpDgFAZ-6weN_Pt=s0-w100-h100-dcnZSWizUH\" srcset=\"https://lh3.googleusercontent.com/proxy/-zhVFTKPp6sUunYXN-0uHupkjCfd80ZidxXuUbxhh6s6-QJHE6aq_CSMXVkVjDW0MI6EtJl8QD0G41DamEJ5Y-TaO0ZhDDlzZ93sTks39FRJf2_IBlNkJgedNvvHqX56YOyQv_Vrl9fGns9tLdpDgFAZ-6weN_Pt=s0-w100-h100-dcnZSWizUH 1x, https://lh3.googleusercontent.com/proxy/-zhVFTKPp6sUunYXN-0uHupkjCfd80ZidxXuUbxhh6s6-QJHE6aq_CSMXVkVjDW0MI6EtJl8QD0G41DamEJ5Y-TaO0ZhDDlzZ93sTks39FRJf2_IBlNkJgedNvvHqX56YOyQv_Vrl9fGns9tLdpDgFAZ-6weN_Pt=s0-w200-h200-dcnZSWizUH 2x\"/></figure></a><div class=\"xrnccd\"><article class=\"MQsxIb xTewfe R7GTQ keNKEd j7vNaf Cc0Z5d EjqUne\" data-kind=\"13\" data-n-cvid=\"i18\" data-n-et=\"107\" data-n-ham=\"true\" data-n-vlb=\"0\" jsaction=\";rcuQ6b:npT2md; click:KjsqPd;\" jscontroller=\"HyhIue\" jsdata=\"oM6qxc;CBMihQFodHRwczovL3d3dy5idXNpbmVzc3dpcmUuY29tL25ld3MvaG9tZS8yMDIxMDIyNDAwNjAxNS9lbi9MaW1lc3RvbmUtQmFuay1Kb2lucy1FZmZvcnQtdG8tRnVuZC1Ob3J0b24tSGVhbHRoY2FyZS1TcG9ydHMtTGVhcm5pbmctQ2VudGVy0gEA;11\" jslog=\"85008; 3:W251bGwsbnVsbCxudWxsLG51bGwsIiIsbnVsbCwxNDEsbnVsbCxudWxsLG51bGwsMzcsbnVsbCxudWxsLFtbW251bGwsIkxpbWVzdG9uZSBCYW5jb3JwIEluYy4gLSBDb21tb24gU3RvY2sgW0xNU1RdIl1dLDFdLG51bGwsMl0=; track:vis; index:0\" jsmodel=\"a4N6Ae hT8rr\" ve-visible=\"false\"><a aria-hidden=\"true\" class=\"VDXfz\" href=\"./articles/CBMihQFodHRwczovL3d3dy5idXNpbmVzc3dpcmUuY29tL25ld3MvaG9tZS8yMDIxMDIyNDAwNjAxNS9lbi9MaW1lc3RvbmUtQmFuay1Kb2lucy1FZmZvcnQtdG8tRnVuZC1Ob3J0b24tSGVhbHRoY2FyZS1TcG9ydHMtTGVhcm5pbmctQ2VudGVy0gEA?hl=en-US&amp;gl=US&amp;ceid=US%3Aen\" jslog=\"95014; 5:W251bGwsbnVsbCxudWxsLG51bGwsbnVsbCxudWxsLG51bGwsbnVsbCwiaHR0cHM6Ly93d3cuYnVzaW5lc3N3aXJlLmNvbS9uZXdzL2hvbWUvMjAyMTAyMjQwMDYwMTUvZW4vTGltZXN0b25lLUJhbmstSm9pbnMtRWZmb3J0LXRvLUZ1bmQtTm9ydG9uLUhlYWx0aGNhcmUtU3BvcnRzLUxlYXJuaW5nLUNlbnRlciJd; track:click,vis\" jsname=\"hXwDdf\" tabindex=\"-1\" target=\"_blank\"></a><h3 class=\"ipQwMb ekueJc RD0gLb\"><a class=\"DY5T1d RZIKme\" href=\"./articles/CBMihQFodHRwczovL3d3dy5idXNpbmVzc3dpcmUuY29tL25ld3MvaG9tZS8yMDIxMDIyNDAwNjAxNS9lbi9MaW1lc3RvbmUtQmFuay1Kb2lucy1FZmZvcnQtdG8tRnVuZC1Ob3J0b24tSGVhbHRoY2FyZS1TcG9ydHMtTGVhcm5pbmctQ2VudGVy0gEA?hl=en-US&amp;gl=US&amp;ceid=US%3Aen\">Limestone Bank Joins Effort to Fund Norton Healthcare Sports &amp; Learning Center</a></h3><div class=\"QmrVtf RD0gLb kybdz\"><div class=\"SVJrMe\" jsname=\"Hn1wIf\"><svg class=\"N3ElHc eLNT1d uQIVzc NMm5M\" focusable=\"false\" height=\"18\" viewbox=\"0 0 24 24\" width=\"18\"><path d=\"M0 0h24v24H0V0z\" fill=\"none\"></path><path d=\"M21.58 7.19c-.23-.86-.91-1.54-1.77-1.77C18.25 5 12 5 12 5s-6.25 0-7.81.42c-.86.23-1.54.91-1.77 1.77C2 8.75 2 12 2 12s0 3.25.42 4.81c.23.86.91 1.54 1.77 1.77C5.75 19 12 19 12 19s6.25 0 7.81-.42c.86-.23 1.54-.91 1.77-1.77C22 15.25 22 12 22 12s0-3.25-.42-4.81zM10 15V9l5.2 3-5.2 3z\"></path></svg><a class=\"wEwyrc AVN2gc uQIVzc Sksgp\" data-n-tid=\"9\">Business Wire</a></div><menu class=\"fmkQje gXqRq\"><div class=\"OGsJDe L8PZAb R71ogd\" data-n-ca-at=\"2\" data-n-et=\"1000\" data-n-ssice=\"false\" data-n-st=\"bookmark\" data-n-suwu=\"false\" jsaction=\"rcuQ6b:npT2md;JIbuQc:h5M12e;eEPUnd:h5M12e;YohPuc:CE7Jad;qW1nqe:kjc9zd;\" jscontroller=\"pQWkX\" jsdata=\"oM6qxc;CBMihQFodHRwczovL3d3dy5idXNpbmVzc3dpcmUuY29tL25ld3MvaG9tZS8yMDIxMDIyNDAwNjAxNS9lbi9MaW1lc3RvbmUtQmFuay1Kb2lucy1FZmZvcnQtdG8tRnVuZC1Ob3J0b24tSGVhbHRoY2FyZS1TcG9ydHMtTGVhcm5pbmctQ2VudGVy0gEA;11\" jsmodel=\"BZ12ub\" jsname=\"ms4Zd\"><div aria-disabled=\"false\" aria-label=\"Follow\" class=\"U26fgb YOnsCc waNn5b ZqhUjb ztUP4e uUmIDd cd29Sd V3dfMc w0hkKb M9Bg4d\" data-n-et=\"1000\" jsaction=\"click:cOuCgd; mousedown:UX7yZ; mouseup:lbsD7e; mouseenter:tfO1Yc; mouseleave:JywGue; focus:AHmuwe; blur:O22p3e; contextmenu:mg9Pef;touchstart:p6p2H; touchmove:FwuNnf; touchend:yfqBxc(preventMouseEvents=true|preventDefault=true); touchcancel:JMtRjd;;OuuAFc:UauMyf;gSufsc:BS8cLb;RyWlBb:tC9Erd;UTnG9:aDaYxb;nUyoxf:El6wk;\" jscontroller=\"zbPkme\" jsname=\"itaskb\" jsshadow=\"\" role=\"button\" tabindex=\"0\"><div class=\"XI1L0d zSBur\" jsname=\"ksKsZd\"></div><span aria-hidden=\"true\" class=\"DPvwYc ChwdAb Xd067b fAk9Qc\" jsname=\"BC5job\">bookmark_border</span></div></div><span class=\"L8PZAb uG2FLd\" data-n-ca-at=\"8\" data-n-et=\"1000\" jsaction=\"JIbuQc:RNDhHe;\" jscontroller=\"ZHduwf\" jsdata=\"oM6qxc;CBMihQFodHRwczovL3d3dy5idXNpbmVzc3dpcmUuY29tL25ld3MvaG9tZS8yMDIxMDIyNDAwNjAxNS9lbi9MaW1lc3RvbmUtQmFuay1Kb2lucy1FZmZvcnQtdG8tRnVuZC1Ob3J0b24tSGVhbHRoY2FyZS1TcG9ydHMtTGVhcm5pbmctQ2VudGVy0gEA;11\" jslog=\"93393; 3:W251bGwsbnVsbCxudWxsLG51bGwsIiIsbnVsbCwxNDEsbnVsbCxudWxsLG51bGwsMzcsbnVsbCxudWxsLFtbW251bGwsIkxpbWVzdG9uZSBCYW5jb3JwIEluYy4gLSBDb21tb24gU3RvY2sgW0xNU1RdIl1dLDFdLG51bGwsMl0=\" jsmodel=\"tOLjce hECoeb\"><div aria-disabled=\"false\" aria-label=\"Share\" class=\"U26fgb YOnsCc waNn5b ZqhUjb ztUP4e uUmIDd cd29Sd V3dfMc w0hkKb M9Bg4d\" data-n-et=\"1000\" data-tooltip=\"Share\" data-tooltip-horizontal-offset=\"0\" data-tooltip-vertical-offset=\"-12\" jsaction=\"click:cOuCgd; mousedown:UX7yZ; mouseup:lbsD7e; mouseenter:tfO1Yc; mouseleave:JywGue; focus:AHmuwe; blur:O22p3e; contextmenu:mg9Pef;touchstart:p6p2H; touchmove:FwuNnf; touchend:yfqBxc(preventMouseEvents=true|preventDefault=true); touchcancel:JMtRjd;;OuuAFc:UauMyf;gSufsc:BS8cLb;RyWlBb:tC9Erd;UTnG9:aDaYxb;nUyoxf:El6wk;\" jscontroller=\"zbPkme\" jsname=\"itaskb\" jsshadow=\"\" role=\"button\" tabindex=\"0\"><div class=\"XI1L0d zSBur\" jsname=\"ksKsZd\"></div><span aria-hidden=\"true\" class=\"DPvwYc ChwdAb Xd067b fAk9Qc\" jsname=\"BC5job\">share</span></div></span><span class=\"L8PZAb GB1Zid\" data-n-prms=\"[false,false,false,null,false,false,false,false,null,false,false]\" jsaction=\"rcuQ6b:npT2md;aWRkAb:u0WEMd;h4C2te:Oy8cwd;\" jscontroller=\"jSvZHb\" jsdata=\"oM6qxc;CBMihQFodHRwczovL3d3dy5idXNpbmVzc3dpcmUuY29tL25ld3MvaG9tZS8yMDIxMDIyNDAwNjAxNS9lbi9MaW1lc3RvbmUtQmFuay1Kb2lucy1FZmZvcnQtdG8tRnVuZC1Ob3J0b24tSGVhbHRoY2FyZS1TcG9ydHMtTGVhcm5pbmctQ2VudGVy0gEA;11\" jslog=\"109017\" jsmodel=\"WDTLsd BZ12ub\"><div aria-disabled=\"false\" aria-expanded=\"false\" aria-haspopup=\"true\" aria-label=\"More\" class=\"U26fgb YOnsCc waNn5b ZqhUjb ztUP4e uUmIDd gL67me cd29Sd V3dfMc w0hkKb M9Bg4d\" data-dynamic=\"true\" data-tooltip=\"More\" data-tooltip-horizontal-offset=\"0\" data-tooltip-vertical-offset=\"-12\" jsaction=\"click:cOuCgd; mousedown:UX7yZ; mouseup:lbsD7e; mouseenter:tfO1Yc; mouseleave:JywGue; focus:AHmuwe; blur:O22p3e; contextmenu:mg9Pef;touchstart:p6p2H; touchmove:FwuNnf; touchend:yfqBxc(preventMouseEvents=true|preventDefault=true); touchcancel:JMtRjd;;keydown:I481le;OuuAFc:UauMyf;gSufsc:BS8cLb;RyWlBb:tC9Erd;UTnG9:aDaYxb;nUyoxf:El6wk;\" jscontroller=\"S9Bhuc\" jsname=\"itaskb\" jsshadow=\"\" role=\"button\" tabindex=\"0\"><div class=\"XI1L0d zSBur\" jsname=\"ksKsZd\"></div><span aria-hidden=\"true\" class=\"DPvwYc ChwdAb Xd067b fAk9Qc\" jsname=\"BC5job\">more_vert</span></div></span></menu></div></article></div></div></div><div class=\"fH5nXc\" jsname=\"Hzufd\"><div class=\"MH4CV\" jsaction=\"ZYIfFd:QdqIqe\"><div class=\"EmVfjc CxE4Ze eLNT1d\" data-loadingmessage=\"Loading…\" jsaction=\"animationend:kWijWc;dyRcpb:dyRcpb\" jscontroller=\"qAKInc\" jsname=\"aZ2wEe\"><div aria-live=\"assertive\" class=\"Cg7hO\" jsname=\"vyyg5\"></div><div class=\"xu46lf\" jsname=\"Hxlbvc\"><div class=\"ir3uv uWlRce co39ub\"><div class=\"xq3j6 ERcjC\"><div class=\"X6jHbb GOJTSe\"></div></div><div class=\"HBnAAc\"><div class=\"X6jHbb GOJTSe\"></div></div><div class=\"xq3j6 dj3yTd\"><div class=\"X6jHbb GOJTSe\"></div></div></div><div class=\"ir3uv GFoASc Cn087\"><div class=\"xq3j6 ERcjC\"><div class=\"X6jHbb GOJTSe\"></div></div><div class=\"HBnAAc\"><div class=\"X6jHbb GOJTSe\"></div></div><div class=\"xq3j6 dj3yTd\"><div class=\"X6jHbb GOJTSe\"></div></div></div><div class=\"ir3uv WpeOqd hfsr6b\"><div class=\"xq3j6 ERcjC\"><div class=\"X6jHbb GOJTSe\"></div></div><div class=\"HBnAAc\"><div class=\"X6jHbb GOJTSe\"></div></div><div class=\"xq3j6 dj3yTd\"><div class=\"X6jHbb GOJTSe\"></div></div></div><div class=\"ir3uv rHV3jf EjXFBf\"><div class=\"xq3j6 ERcjC\"><div class=\"X6jHbb GOJTSe\"></div></div><div class=\"HBnAAc\"><div class=\"X6jHbb GOJTSe\"></div></div><div class=\"xq3j6 dj3yTd\"><div class=\"X6jHbb GOJTSe\"></div></div></div></div></div></div></div><c-data id=\"i2\" jsdata=\" CjGeoc;aa|124+ui|124+97e5c89c-bca0-4f25-8cff-331887764f2d,;2\"></c-data></c-wiz></main>]"
      ]
     },
     "execution_count": 218,
     "metadata": {},
     "output_type": "execute_result"
    }
   ],
   "source": [
    "url = urls[0]\n",
    "soup = getHTML(url)\n",
    "main = soup.findAll('main')\n",
    "# articles = soup.find('div', id='jslog')\n",
    "main"
   ]
  }
 ],
 "metadata": {
  "interpreter": {
   "hash": "953dcbbcda697a7411822c4a3e6fce342850cb4e21d1ef3e2d71fa3ba11fc2f4"
  },
  "kernelspec": {
   "display_name": "Python 3.9.1 64-bit",
   "language": "python",
   "name": "python3"
  },
  "language_info": {
   "codemirror_mode": {
    "name": "ipython",
    "version": 3
   },
   "file_extension": ".py",
   "mimetype": "text/x-python",
   "name": "python",
   "nbconvert_exporter": "python",
   "pygments_lexer": "ipython3",
   "version": "3.9.1"
  },
  "orig_nbformat": 4
 },
 "nbformat": 4,
 "nbformat_minor": 2
}
