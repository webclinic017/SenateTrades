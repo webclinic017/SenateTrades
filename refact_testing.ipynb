{
 "cells": [
  {
   "cell_type": "code",
   "execution_count": 137,
   "metadata": {},
   "outputs": [],
   "source": [
    "from requests_html import HTMLSession\n",
    "from lxml import html \n",
    "from datetime import date,datetime\n",
    "import smtplib, ssl\n",
    "from email.mime.text import MIMEText\n",
    "from email.mime.multipart import MIMEMultipart\n",
    "import sys\n",
    "import re \n",
    "from bs4 import BeautifulSoup\n",
    "import nums_from_string"
   ]
  },
  {
   "cell_type": "markdown",
   "metadata": {},
   "source": [
    "## Helper Methods"
   ]
  },
  {
   "cell_type": "code",
   "execution_count": 138,
   "metadata": {},
   "outputs": [],
   "source": [
    "def fetchSession(url):\n",
    "    session = HTMLSession()\n",
    "    r = session.get(url)\n",
    "    return r\n",
    "\n",
    "def getTrades(r):\n",
    "    table = r.html.find('table')[0]\n",
    "    rows = table.find('tr')\n",
    "    return rows[1:]\n",
    "\n",
    "def value_to_ints(value):\n",
    "    bad_chars = [\n",
    "        ',','$','-'\n",
    "    ]\n",
    "    for c in bad_chars:\n",
    "        value = value.replace(c,'')\n",
    "    low, high = [\n",
    "        int(x) for x in (value.split('  ', 1))\n",
    "    ]\n",
    "    return [low,high]"
   ]
  },
  {
   "cell_type": "code",
   "execution_count": 139,
   "metadata": {},
   "outputs": [],
   "source": [
    "def getHTML(url):\n",
    "    r = fetchSession(url)\n",
    "    h = r.text\n",
    "    doc = BeautifulSoup(h, 'html.parser')\n",
    "    return doc\n",
    "\n",
    "def getTicker(trade_):\n",
    "    try:\n",
    "        return re.findall('\\[(.*?)\\]', trade_)[0]\n",
    "    except IndexError:\n",
    "        return ''"
   ]
  },
  {
   "cell_type": "code",
   "execution_count": 140,
   "metadata": {},
   "outputs": [],
   "source": [
    "def getFirstRowEntry(ticker):\n",
    "    url = 'https://finance.yahoo.com/quote/{}/'.format(ticker)\n",
    "    soup = getHTML(url)\n",
    "    quote_summary = soup.find(id='quote-summary')\n",
    "    if quote_summary is None:\n",
    "        return ''\n",
    "    tables = quote_summary.find_all('table')\n",
    "    if len(tables) == 0:\n",
    "        return ''\n",
    "    # right side table\n",
    "    mc_table = tables[1]\n",
    "    # get all rows\n",
    "    mc_rows = mc_table.find_all('td')\n",
    "    # entire row \n",
    "    mc_string = str(mc_rows[1])\n",
    "    return mc_string\n",
    "\n",
    "def isStock(row_one):\n",
    "    flag = 'data-test=\"(.*)-value'\n",
    "    seach = re.search(\n",
    "        flag, row_one\n",
    "    )\n",
    "    if seach is None:\n",
    "        return -1\n",
    "    marker = seach.group(1)\n",
    "    if marker == 'MARKET_CAP':\n",
    "        return 1\n",
    "    elif marker == 'NET_ASSETS':\n",
    "        return 0\n",
    "    # N/A\n",
    "    else:\n",
    "        return -1\n",
    "\n",
    "def parseToMillions(value_string):\n",
    "    unit = value_string[-1:]\n",
    "    number = nums_from_string.get_nums(value_string)[0]\n",
    "    #keep in units of millions\n",
    "    if unit == 'B':\n",
    "        number = number * 1000\n",
    "    elif unit == 'T':\n",
    "        number = number * 1000000\n",
    "    return number\n",
    "\n",
    "def getNAVCAP(row_one):\n",
    "    value = re.search('>(.*)<', row_one).group(1)\n",
    "    if value == 'N/A':\n",
    "        return -1\n",
    "    return round(parseToMillions(value),2)\n",
    "\n",
    "def isSmallCapStock(row_one):\n",
    "    if isStock(row_one) == 1:\n",
    "            mkt_cap = getNAVCAP(row_one)\n",
    "            if mkt_cap < 2000 and mkt_cap > 0:\n",
    "                return True\n",
    "    return False"
   ]
  },
  {
   "cell_type": "code",
   "execution_count": 166,
   "metadata": {},
   "outputs": [],
   "source": [
    "def writeToFile(trades):\n",
    "    with open('data/daily_trades.txt', 'w') as f:\n",
    "        for t in trades:\n",
    "            for (key,item) in t.items():\n",
    "                if key == 'Yahoo!':\n",
    "                    f.write(\n",
    "                        '%s\\n' % (\n",
    "                        item\n",
    "                        )\n",
    "                    )\n",
    "                else:\n",
    "                    f.write(\n",
    "                        '%s : %s\\n' % (\n",
    "                        key,item\n",
    "                        )\n",
    "                    )\n",
    "            f.write('\\n')\n",
    "\n",
    "def sendEmail():\n",
    "    port = 465\n",
    "    send_email = 'ders.mailbot@gmail.com'\n",
    "    receive_email = 'andersseline15@gmail.com'\n",
    "    # encrypt \n",
    "    password = 'Mailbot15'\n",
    "\n",
    "    with open('data/daily_trades.txt', 'r') as f:\n",
    "        data = f.read()\n",
    "\n",
    "    # if the length of the string from the file is not 0, then there was a \n",
    "    # (major) trade executed today\n",
    "    if len(data) != 0:\n",
    "        print('major trade found.')\n",
    "        message = MIMEMultipart('alternative')\n",
    "        message['Subject'] = 'Trade Alert'\n",
    "        message['From'] = 'SenateStockWatch'\n",
    "        message['To'] = send_email # change post testing\n",
    "        message['Bcc'] = receive_email\n",
    "        body = MIMEText(data, 'plain')\n",
    "        message.attach(body)\n",
    "\n",
    "        context = ssl.create_default_context()\n",
    "        with smtplib.SMTP_SSL('smtp.gmail.com', port, context=context) as server:\n",
    "            server.login(send_email, password)\n",
    "            server.sendmail(\n",
    "                send_email, send_email, message.as_string()\n",
    "            )\n",
    "            print('mail sent.')\n",
    "    else:\n",
    "        print('no major trades.')"
   ]
  },
  {
   "cell_type": "markdown",
   "metadata": {},
   "source": [
    "## Testing"
   ]
  },
  {
   "cell_type": "markdown",
   "metadata": {},
   "source": [
    "### Method to scrape trades with mkt cap and purchase logic all together"
   ]
  },
  {
   "cell_type": "code",
   "execution_count": 142,
   "metadata": {},
   "outputs": [],
   "source": [
    "def scrapeImportantTrades(today=datetime.today().date(), onlyToday=False):\n",
    "    r = fetchSession('https://sec.report/Senate-Stock-Disclosures')\n",
    "    # if website is down\n",
    "    try:\n",
    "        trades = getTrades(r)\n",
    "    except IndexError:\n",
    "        print('website may be down. quitting.')\n",
    "        sys.exit(1)\n",
    "\n",
    "    n = len(trades)\n",
    "    all_trades = []\n",
    "\n",
    "    for i in range(0,n,2):\n",
    "        imp_trade = False\n",
    "        l1_elements = trades[i].find('td')\n",
    "        l2_elements = trades[i+1].find('td')[:-1]\n",
    "\n",
    "        # ensure trade is a purchase, otherwise contniue to next trade\n",
    "        trade_type = l2_elements[0].text.split('\\n', 1)[0]\n",
    "        if trade_type != 'Purchase':\n",
    "            continue\n",
    "\n",
    "        file_date, trade_date = l1_elements[0].text.split('\\n')\n",
    "        if file_date != today and onlyToday:\n",
    "            break\n",
    "        trade = l1_elements[1].text\n",
    "        senator = l1_elements[2].text\n",
    "        value = value_to_ints(l2_elements[1].text)\n",
    "        \n",
    "        ticker = getTicker(trade)\n",
    "        if ticker != '':\n",
    "            row_one = getFirstRowEntry(ticker)\n",
    "            mkt_cap = getNAVCAP(row_one)\n",
    "            small_mktCap = mkt_cap < 2000 and mkt_cap > 0\n",
    "            medium_mktCap = mkt_cap >= 2000 and mkt_cap <= 10000\n",
    "            large_mktCap = mkt_cap > 10000\n",
    "            # any small caps, medium purchase medium caps, large purchase large cap\n",
    "            if isStock(row_one) and small_mktCap:\n",
    "                imp_trade = True\n",
    "                cap_string = 'small'\n",
    "            elif isStock(row_one) and medium_mktCap and value[0] >= 50000:\n",
    "                imp_trade = True\n",
    "                cap_string = 'medium'\n",
    "            elif isStock(row_one) and large_mktCap and value[0] >= 100000:\n",
    "                imp_trade = True\n",
    "                cap_string = 'large'\n",
    "\n",
    "            if imp_trade:\n",
    "                url = 'https://finance.yahoo.com/quote/{}/'.format(ticker)\n",
    "                trade_dict = {\n",
    "                    'trade date' : trade_date,\n",
    "                    'file date' : file_date,\n",
    "                    'senator' : senator,\n",
    "                    'trade' : trade,\n",
    "                    'trade type' : trade_type,\n",
    "                    'value' : value,\n",
    "                    'mkt cap' : cap_string,\n",
    "                    'yahoo finance' : url\n",
    "                }\n",
    "                all_trades.append(trade_dict)\n",
    "    return all_trades"
   ]
  },
  {
   "cell_type": "code",
   "execution_count": 143,
   "metadata": {},
   "outputs": [],
   "source": [
    "important_trades_all = scrapeImportantTrades()"
   ]
  },
  {
   "cell_type": "code",
   "execution_count": 148,
   "metadata": {},
   "outputs": [
    {
     "name": "stdout",
     "output_type": "stream",
     "text": [
      "trade date : 2022-03-30\n",
      "file date : 2022-04-08\n",
      "senator : Thomas H Tuberville [Tuberville, Tommy]\n",
      "trade : Limestone Bancorp, Inc. - Common Stock [LMST]\n",
      "trade type : Purchase\n",
      "value : [1001, 15000]\n",
      "mkt cap : small\n",
      "yahoo finance : https://finance.yahoo.com/quote/LMST/\n",
      "\n",
      "\n",
      "trade date : 2022-03-30\n",
      "file date : 2022-04-08\n",
      "senator : Thomas H Tuberville [Tuberville, Tommy]\n",
      "trade : First Guaranty Bancshares, Inc. - Common Stock [FGBI]\n",
      "trade type : Purchase\n",
      "value : [1001, 15000]\n",
      "mkt cap : small\n",
      "yahoo finance : https://finance.yahoo.com/quote/FGBI/\n",
      "\n",
      "\n"
     ]
    }
   ],
   "source": [
    "for t in important_trades_all[0:2]:\n",
    "    for key,value in t.items():\n",
    "        print(key, ':', value)\n",
    "    print('\\n')"
   ]
  },
  {
   "cell_type": "code",
   "execution_count": 149,
   "metadata": {},
   "outputs": [
    {
     "name": "stdout",
     "output_type": "stream",
     "text": [
      "no important trades today.\n"
     ]
    }
   ],
   "source": [
    "important_trades_today = scrapeImportantTrades(onlyToday=True)\n",
    "if len(important_trades_today) != 0:\n",
    "    print(important_trades_today)\n",
    "else:\n",
    "    print('no important trades today.')"
   ]
  },
  {
   "cell_type": "markdown",
   "metadata": {},
   "source": [
    "## Email Appearance"
   ]
  },
  {
   "cell_type": "code",
   "execution_count": 175,
   "metadata": {},
   "outputs": [],
   "source": [
    "def cleanText(trades_list):\n",
    "    trades_for_txt = []\n",
    "    for t in trades_list:\n",
    "        trade_date = str(t['trade date']) + ' (' + str((\n",
    "                datetime.today().date() - datetime.strptime(\n",
    "                    t['trade date'], '%Y-%m-%d'\n",
    "                ).date()\n",
    "            )).split(',')[0] + ' ago)'\n",
    "\n",
    "        value_string = '$' + (\n",
    "            \"{:,}\".format(t['value'][0])\n",
    "        ) + ' to $' + (\n",
    "            \"{:,}\".format(t['value'][1])\n",
    "        )\n",
    "\n",
    "        if t['mkt cap'] == 'small':\n",
    "            mkt_cap_string = 'Small Cap (Under $2B)'\n",
    "        elif t['mkt cap'] == 'medium':\n",
    "            mkt_cap_string = 'Medium Cap ($2B to $10B)'\n",
    "        else:\n",
    "            mkt_cap_string = 'Large Cap (Over $10B)'\n",
    "\n",
    "        trades_for_txt.append(\n",
    "            {\n",
    "                'Trade Date' : trade_date,\n",
    "                'File Date' : t['file date'],\n",
    "                'Senator' : t['senator'],\n",
    "                'Equity' : t['trade'],\n",
    "                'Trade Value' : value_string,\n",
    "                'Market Cap' : mkt_cap_string,\n",
    "                'Yahoo!' : t['yahoo finance']\n",
    "            }\n",
    "        )\n",
    "    return trades_for_txt"
   ]
  },
  {
   "cell_type": "code",
   "execution_count": 176,
   "metadata": {},
   "outputs": [
    {
     "name": "stdout",
     "output_type": "stream",
     "text": [
      "Trade Date : 2022-03-30 (22 days ago)\n",
      "File Date : 2022-04-08\n",
      "Senator : Thomas H Tuberville [Tuberville, Tommy]\n",
      "Equity : Limestone Bancorp, Inc. - Common Stock [LMST]\n",
      "Trade Value : $1,001 to $15,000\n",
      "Market Cap : Small Cap (Under $2B)\n",
      "https://finance.yahoo.com/quote/LMST/\n"
     ]
    }
   ],
   "source": [
    "cleaned_trades = cleanText(important_trades_all)\n",
    "for key,value in cleaned_trades[0].items():\n",
    "    if key == 'Yahoo!':\n",
    "        print(value)\n",
    "        continue\n",
    "    print(key, ':', value)"
   ]
  },
  {
   "cell_type": "code",
   "execution_count": 177,
   "metadata": {},
   "outputs": [],
   "source": [
    "writeToFile(cleaned_trades)"
   ]
  },
  {
   "cell_type": "code",
   "execution_count": 178,
   "metadata": {},
   "outputs": [
    {
     "name": "stdout",
     "output_type": "stream",
     "text": [
      "major trade found.\n",
      "mail sent.\n"
     ]
    }
   ],
   "source": [
    "sendEmail()"
   ]
  }
 ],
 "metadata": {
  "interpreter": {
   "hash": "953dcbbcda697a7411822c4a3e6fce342850cb4e21d1ef3e2d71fa3ba11fc2f4"
  },
  "kernelspec": {
   "display_name": "Python 3.9.1 64-bit",
   "language": "python",
   "name": "python3"
  },
  "language_info": {
   "codemirror_mode": {
    "name": "ipython",
    "version": 3
   },
   "file_extension": ".py",
   "mimetype": "text/x-python",
   "name": "python",
   "nbconvert_exporter": "python",
   "pygments_lexer": "ipython3",
   "version": "3.9.1"
  },
  "orig_nbformat": 4
 },
 "nbformat": 4,
 "nbformat_minor": 2
}
