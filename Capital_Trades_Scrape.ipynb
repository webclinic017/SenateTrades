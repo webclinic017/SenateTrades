{
 "cells": [
  {
   "cell_type": "markdown",
   "metadata": {},
   "source": [
    "\n",
    "# Capital Trades Buy/Sell Data Scrape"
   ]
  },
  {
   "cell_type": "code",
   "execution_count": 13,
   "metadata": {},
   "outputs": [],
   "source": [
    "import pandas as pd \n",
    "from requests_html import HTMLSession\n",
    "import os\n",
    "import requests\n",
    "from lxml import html "
   ]
  },
  {
   "cell_type": "code",
   "execution_count": 14,
   "metadata": {},
   "outputs": [
    {
     "name": "stdout",
     "output_type": "stream",
     "text": [
      "<Response [200]>\n"
     ]
    }
   ],
   "source": [
    "session = HTMLSession()\n",
    "num_poli = 20\n",
    "url = 'https://app.capitoltrades.com/trades?page=1&pageSize=' + str(num_poli)\n",
    "r = session.get(url)\n",
    "print(r)"
   ]
  },
  {
   "cell_type": "code",
   "execution_count": 15,
   "metadata": {},
   "outputs": [],
   "source": [
    "table = r.html.find('table')[0]\n",
    "rows = table.find('tr')[1:num_poli + 1] # first 'num_poli' items in table, top is header\n",
    "full_output = ''\n",
    "# sum all rows to create one block of text from HTML\n",
    "for i in rows:\n",
    "    full_output = full_output + i.text\n",
    "full_output = full_output.replace('\\n', '')"
   ]
  },
  {
   "cell_type": "code",
   "execution_count": 16,
   "metadata": {},
   "outputs": [
    {
     "name": "stdout",
     "output_type": "stream",
     "text": [
      "{'name': 'Allen, Richard Wayne (Rick) ', 'pos': 'Rep (R - GA)', 'ticker': 'DIS', 'trans': 'Sell (Stock) *', 'value': '$1,001 - $15,000'}\n",
      "{'name': 'Allen, Richard Wayne (Rick) ', 'pos': 'Rep (R - GA)', 'ticker': 'PSDTX', 'trans': 'Sell (Mutual Fund) *', 'value': '$50,001 - $100,000'}\n",
      "{'name': 'Allen, Richard Wayne (Rick) ', 'pos': 'Rep (R - GA)', 'ticker': 'SBUX', 'trans': 'Sell (Stock) *', 'value': '$15,001 - $50,000'}\n",
      "{'name': 'Kustoff, David Frank ', 'pos': 'Rep (R - TN)', 'ticker': 'AMD', 'trans': 'Buy (Stock)', 'value': '$1,001 - $15,000'}\n",
      "{'name': 'Kustoff, David Frank ', 'pos': 'Rep (R - TN)', 'ticker': 'AMZN', 'trans': 'Buy (Stock)', 'value': '$15,001 - $50,000'}\n",
      "{'name': 'Kustoff, David Frank ', 'pos': 'Rep (R - TN)', 'ticker': 'MSFT', 'trans': 'Buy (Stock)', 'value': '$1,001 - $15,000'}\n",
      "{'name': 'Burgess, Michael Clifton ', 'pos': 'Rep (R - TX)', 'ticker': 'SYK', 'trans': 'Sell (Stock Options) *', 'value': '$1,001 - $15,000'}\n",
      "{'name': 'Lowenthal, Alan Stuart ', 'pos': 'Rep (D - CA)', 'ticker': 'WFC', 'trans': 'Sell (Corporate Bond) *', 'value': '$15,001 - $50,000'}\n",
      "{'name': 'Burgess, Michael Clifton ', 'pos': 'Rep (R - TX)', 'ticker': 'DIS', 'trans': 'Sell (Stock) *', 'value': '$15,194'}\n",
      "{'name': 'Boozman, John Nichols ', 'pos': 'Sen (R - AR)', 'ticker': 'GBIL', 'trans': 'Sell (ETF)', 'value': '$1,001 - $15,000'}\n",
      "{'name': 'Boozman, John Nichols ', 'pos': 'Sen (R - AR)', 'ticker': 'IEF', 'trans': 'Buy (ETF)', 'value': '$1,001 - $15,000'}\n",
      "{'name': 'Boozman, John Nichols ', 'pos': 'Sen (R - AR)', 'ticker': 'EMLP', 'trans': 'Sell (ETF)', 'value': '$1,001 - $15,000'}\n",
      "{'name': 'Boozman, John Nichols ', 'pos': 'Sen (R - AR)', 'ticker': 'NFRA', 'trans': 'Buy (ETF)', 'value': '$1,001 - $15,000'}\n",
      "{'name': 'Boozman, John Nichols ', 'pos': 'Sen (R - AR)', 'ticker': 'SLV', 'trans': 'Buy (ETF)', 'value': '$1,001 - $15,000'}\n",
      "{'name': 'Boozman, John Nichols ', 'pos': 'Sen (R - AR)', 'ticker': 'TPYP', 'trans': 'Buy (ETF)', 'value': '$1,001 - $15,000'}\n",
      "{'name': 'Boozman, John Nichols ', 'pos': 'Sen (R - AR)', 'ticker': 'VNQ', 'trans': 'Sell (ETF)', 'value': '$15,001 - $50,000'}\n",
      "{'name': 'Khanna, Rohit (Ro) ', 'pos': 'Rep (D - CA)', 'ticker': 'GOOGL', 'trans': 'Buy (Stock)', 'value': '$1,001 - $15,000'}\n",
      "{'name': 'Khanna, Rohit (Ro) ', 'pos': 'Rep (D - CA)', 'ticker': 'GOOGL', 'trans': 'Buy (Stock)', 'value': '$1,001 - $15,000'}\n",
      "{'name': 'Khanna, Rohit (Ro) ', 'pos': 'Rep (D - CA)', 'ticker': 'CTSH', 'trans': 'Sell (Stock)', 'value': '$1,001 - $15,000'}\n",
      "{'name': 'Khanna, Rohit (Ro) ', 'pos': 'Rep (D - CA)', 'ticker': 'CTSH', 'trans': 'Sell (Stock)', 'value': '$1,001 - $15,000'}\n"
     ]
    }
   ],
   "source": [
    "# divide chunk of text in table into slices, each corresponding to a single trade\n",
    "def makeSlices(fullString, endKey):\n",
    "    start = 0\n",
    "    end = 0\n",
    "    slices = []\n",
    "    while len(fullString) != 0:\n",
    "        end = fullString.find(endKey) + len(endKey)\n",
    "        slices.append(\n",
    "            fullString[start:end]\n",
    "        )\n",
    "        fullString = fullString[end:]\n",
    "    return slices\n",
    "\n",
    "# extract important trade information given one of the slices made above \n",
    "def getTradeInformation(data):\n",
    "    # determine if representative or senator \n",
    "    if 'Rep' in data:\n",
    "        name = data[\n",
    "            data.find('Name') + len('Name'):\n",
    "            data.find('Rep')\n",
    "        ]\n",
    "        office = data[\n",
    "            data.find('Rep'):\n",
    "            data.find('Owner')\n",
    "        ]\n",
    "    elif 'Sen' in data:\n",
    "        name = data[\n",
    "            data.find('Name') + len('Name'):\n",
    "            data.find('Sen')\n",
    "        ]\n",
    "        office = data[\n",
    "            data.find('Sen'):\n",
    "            data.find('Owner')\n",
    "        ]\n",
    "    ticker = data[\n",
    "        data.find('Ticker') + len('Ticker'):\n",
    "        data.find('Transaction')\n",
    "    ]\n",
    "    transaction = data[\n",
    "        data.rfind('Transaction') + len('Transaction'):\n",
    "        data.rfind('Shares')\n",
    "    ]\n",
    "    value = data[\n",
    "        data.find('Value Range') + len('Value Range'):\n",
    "        data.find('Url')\n",
    "    ]\n",
    "    trade_data = {\n",
    "        'name' : name,\n",
    "        'pos' : office,\n",
    "        'ticker' : ticker,\n",
    "        'trans' : transaction,\n",
    "        'value' : value\n",
    "    }\n",
    "    return trade_data\n",
    "    \n",
    "slices = makeSlices(full_output, 'Url')\n",
    "tradeSlips = []\n",
    "for s in slices:\n",
    "    trade = getTradeInformation(s)\n",
    "    tradeSlips.append(trade)\n",
    "    print(trade)"
   ]
  },
  {
   "cell_type": "code",
   "execution_count": 17,
   "metadata": {},
   "outputs": [],
   "source": [
    "# turn value range from string to list of one to two integers, formatted $XX - $XX or $XX\n",
    "def parseValue(valueStr):\n",
    "    if '-' in valueStr:\n",
    "        lower, upper = valueStr.split(' - ')\n",
    "        lower = int(\n",
    "            ''.join(\n",
    "                filter(\n",
    "                    lambda x: x.isdigit(), lower\n",
    "                )\n",
    "            )\n",
    "        )\n",
    "        upper = int(\n",
    "            ''.join(\n",
    "                filter(\n",
    "                    lambda x: x.isdigit(), upper\n",
    "                )\n",
    "            )\n",
    "        )\n",
    "        return upper\n",
    "    else:\n",
    "        valueStr = int(\n",
    "            ''.join(\n",
    "                filter(\n",
    "                    lambda x: x.isdigit(), valueStr\n",
    "                )\n",
    "            )\n",
    "        )\n",
    "        return valueStr\n",
    "\n",
    "# define significant buys as anything a senator buys, or any purchase value of $15,000\n",
    "def getSignificantBuys(tradeSlips):\n",
    "    sigBuys = []\n",
    "    for t in tradeSlips:\n",
    "        if 'Buy' in t['trans'] and (parseValue(t['value']) > 15000 or 'Sen' in t['pos']):\n",
    "            sigBuys.append(t)\n",
    "    return sigBuys\n",
    "\n",
    "sigBuys = getSignificantBuys(tradeSlips)"
   ]
  },
  {
   "cell_type": "code",
   "execution_count": 18,
   "metadata": {},
   "outputs": [
    {
     "name": "stdout",
     "output_type": "stream",
     "text": [
      "{'name': 'Kustoff, David Frank ', 'pos': 'Rep (R - TN)', 'ticker': 'AMZN', 'trans': 'Buy (Stock)', 'value': '$15,001 - $50,000'}\n",
      "{'name': 'Boozman, John Nichols ', 'pos': 'Sen (R - AR)', 'ticker': 'IEF', 'trans': 'Buy (ETF)', 'value': '$1,001 - $15,000'}\n",
      "{'name': 'Boozman, John Nichols ', 'pos': 'Sen (R - AR)', 'ticker': 'NFRA', 'trans': 'Buy (ETF)', 'value': '$1,001 - $15,000'}\n",
      "{'name': 'Boozman, John Nichols ', 'pos': 'Sen (R - AR)', 'ticker': 'SLV', 'trans': 'Buy (ETF)', 'value': '$1,001 - $15,000'}\n",
      "{'name': 'Boozman, John Nichols ', 'pos': 'Sen (R - AR)', 'ticker': 'TPYP', 'trans': 'Buy (ETF)', 'value': '$1,001 - $15,000'}\n"
     ]
    }
   ],
   "source": [
    "for b in sigBuys:\n",
    "    print(b)"
   ]
  }
 ],
 "metadata": {
  "interpreter": {
   "hash": "953dcbbcda697a7411822c4a3e6fce342850cb4e21d1ef3e2d71fa3ba11fc2f4"
  },
  "kernelspec": {
   "display_name": "Python 3.9.1 64-bit",
   "language": "python",
   "name": "python3"
  },
  "language_info": {
   "codemirror_mode": {
    "name": "ipython",
    "version": 3
   },
   "file_extension": ".py",
   "mimetype": "text/x-python",
   "name": "python",
   "nbconvert_exporter": "python",
   "pygments_lexer": "ipython3",
   "version": "3.9.1"
  },
  "orig_nbformat": 4
 },
 "nbformat": 4,
 "nbformat_minor": 2
}
