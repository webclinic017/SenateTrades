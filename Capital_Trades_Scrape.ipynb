{
 "cells": [
  {
   "cell_type": "markdown",
   "metadata": {},
   "source": [
    "\n",
    "# Capital Trades Buy/Sell Data Scrape"
   ]
  },
  {
   "cell_type": "code",
   "execution_count": 24,
   "metadata": {},
   "outputs": [],
   "source": [
    "import pandas as pd \n",
    "from requests_html import HTMLSession\n",
    "import os\n",
    "import requests\n",
    "from lxml import html \n",
    "import csv"
   ]
  },
  {
   "cell_type": "code",
   "execution_count": 25,
   "metadata": {},
   "outputs": [
    {
     "name": "stdout",
     "output_type": "stream",
     "text": [
      "<Response [200]>\n"
     ]
    }
   ],
   "source": [
    "session = HTMLSession()\n",
    "num_poli = 20\n",
    "url = 'https://app.capitoltrades.com/trades?page=1&pageSize=' + str(num_poli)\n",
    "r = session.get(url)\n",
    "print(r)"
   ]
  },
  {
   "cell_type": "code",
   "execution_count": 26,
   "metadata": {},
   "outputs": [],
   "source": [
    "table = r.html.find('table')[0]\n",
    "rows = table.find('tr')[1:num_poli + 1] # first 'num_poli' items in table, top is header\n",
    "full_output = ''\n",
    "# sum all rows to create one block of text from HTML\n",
    "for i in rows:\n",
    "    full_output = full_output + i.text\n",
    "full_output = full_output.replace('\\n', '')"
   ]
  },
  {
   "cell_type": "code",
   "execution_count": 27,
   "metadata": {},
   "outputs": [
    {
     "name": "stdout",
     "output_type": "stream",
     "text": [
      "{'name': 'Sessions, Peter Anderson (Pete) ', 'pos': 'Rep (R - TX)', 'ticker': 'QQQ', 'trans': 'Buy (ETF) *', 'value': '$7,335'}\n",
      "{'name': 'Sessions, Peter Anderson (Pete) ', 'pos': 'Rep (R - TX)', 'ticker': 'BNS', 'trans': 'Buy (Stock) *', 'value': '$7,318'}\n",
      "{'name': 'Sessions, Peter Anderson (Pete) ', 'pos': 'Rep (R - TX)', 'ticker': 'D', 'trans': 'Sell (Stock) *', 'value': '$14,116'}\n",
      "{'name': 'Wittman, Robert Joseph (Rob) ', 'pos': 'Rep (R - VA)', 'ticker': 'AAPL', 'trans': 'Buy (Stock) *', 'value': '$1,001 - $15,000'}\n",
      "{'name': 'Wittman, Robert Joseph (Rob) ', 'pos': 'Rep (R - VA)', 'ticker': 'FLGB', 'trans': 'Buy (ETF) *', 'value': '$1,001 - $15,000'}\n",
      "{'name': 'Wittman, Robert Joseph (Rob) ', 'pos': 'Rep (R - VA)', 'ticker': 'SPHB', 'trans': 'Sell (ETF) *', 'value': '$1,001 - $15,000'}\n",
      "{'name': 'Wittman, Robert Joseph (Rob) ', 'pos': 'Rep (R - VA)', 'ticker': 'IEUR', 'trans': 'Buy (ETF) *', 'value': '$1,001 - $15,000'}\n",
      "{'name': 'Wittman, Robert Joseph (Rob) ', 'pos': 'Rep (R - VA)', 'ticker': 'EFG', 'trans': 'Sell (ETF) *', 'value': '$1,001 - $15,000'}\n",
      "{'name': 'Wittman, Robert Joseph (Rob) ', 'pos': 'Rep (R - VA)', 'ticker': 'FB', 'trans': 'Buy (Stock) *', 'value': '$1,001 - $15,000'}\n",
      "{'name': 'Wittman, Robert Joseph (Rob) ', 'pos': 'Rep (R - VA)', 'ticker': 'XLE', 'trans': 'Buy (ETF) *', 'value': '$1,001 - $15,000'}\n",
      "{'name': 'Allen, Richard Wayne (Rick) ', 'pos': 'Rep (R - GA)', 'ticker': 'DIS', 'trans': 'Sell (Stock) *', 'value': '$1,001 - $15,000'}\n",
      "{'name': 'Allen, Richard Wayne (Rick) ', 'pos': 'Rep (R - GA)', 'ticker': 'PSDTX', 'trans': 'Sell (Mutual Fund) *', 'value': '$50,001 - $100,000'}\n",
      "{'name': 'Allen, Richard Wayne (Rick) ', 'pos': 'Rep (R - GA)', 'ticker': 'SBUX', 'trans': 'Sell (Stock) *', 'value': '$15,001 - $50,000'}\n",
      "{'name': 'Sessions, Peter Anderson (Pete) ', 'pos': 'Rep (R - TX)', 'ticker': 'CARR', 'trans': 'Sell (Stock) *', 'value': '$6,099'}\n",
      "{'name': 'Sessions, Peter Anderson (Pete) ', 'pos': 'Rep (R - TX)', 'ticker': 'DTE', 'trans': 'Sell (Stock) *', 'value': '$7,595'}\n",
      "{'name': 'Sessions, Peter Anderson (Pete) ', 'pos': 'Rep (R - TX)', 'ticker': 'NEE', 'trans': 'Sell (Stock) *', 'value': '$24,777'}\n",
      "{'name': 'Sessions, Peter Anderson (Pete) ', 'pos': 'Rep (R - TX)', 'ticker': 'PG', 'trans': 'Sell (Stock) *', 'value': '$16,200'}\n",
      "{'name': 'Sessions, Peter Anderson (Pete) ', 'pos': 'Rep (R - TX)', 'ticker': 'AEE', 'trans': 'Sell (Stock) *', 'value': '$4,293'}\n",
      "{'name': 'Sessions, Peter Anderson (Pete) ', 'pos': 'Rep (R - TX)', 'ticker': 'BNS', 'trans': 'Sell (Stock) *', 'value': '$9,219'}\n",
      "{'name': 'Sessions, Peter Anderson (Pete) ', 'pos': 'Rep (R - TX)', 'ticker': 'CMCSA', 'trans': 'Sell (Stock) *', 'value': '$7,477'}\n"
     ]
    }
   ],
   "source": [
    "# divide chunk of text in table into slices, each corresponding to a single trade\n",
    "def makeSlices(fullString, endKey):\n",
    "    start = 0\n",
    "    end = 0\n",
    "    slices = []\n",
    "    while len(fullString) != 0:\n",
    "        end = fullString.find(endKey) + len(endKey)\n",
    "        slices.append(\n",
    "            fullString[start:end]\n",
    "        )\n",
    "        fullString = fullString[end:]\n",
    "    return slices\n",
    "\n",
    "# extract important trade information given one of the slices made above \n",
    "def getTradeInformation(data):\n",
    "    # determine if representative or senator \n",
    "    if 'Rep' in data:\n",
    "        name = data[\n",
    "            data.find('Name') + len('Name'):\n",
    "            data.find('Rep')\n",
    "        ]\n",
    "        office = data[\n",
    "            data.find('Rep'):\n",
    "            data.find('Owner')\n",
    "        ]\n",
    "    elif 'Sen' in data:\n",
    "        name = data[\n",
    "            data.find('Name') + len('Name'):\n",
    "            data.find('Sen')\n",
    "        ]\n",
    "        office = data[\n",
    "            data.find('Sen'):\n",
    "            data.find('Owner')\n",
    "        ]\n",
    "    ticker = data[\n",
    "        data.find('Ticker') + len('Ticker'):\n",
    "        data.find('Transaction')\n",
    "    ]\n",
    "    transaction = data[\n",
    "        data.rfind('Transaction') + len('Transaction'):\n",
    "        data.rfind('Shares')\n",
    "    ]\n",
    "    value = data[\n",
    "        data.find('Value Range') + len('Value Range'):\n",
    "        data.find('Url')\n",
    "    ]\n",
    "    trade_data = {\n",
    "        'name' : name,\n",
    "        'pos' : office,\n",
    "        'ticker' : ticker,\n",
    "        'trans' : transaction,\n",
    "        'value' : value\n",
    "    }\n",
    "    return trade_data\n",
    "    \n",
    "slices = makeSlices(full_output, 'Url')\n",
    "tradeSlips = []\n",
    "for s in slices:\n",
    "    trade = getTradeInformation(s)\n",
    "    tradeSlips.append(trade)\n",
    "    print(trade)"
   ]
  },
  {
   "cell_type": "code",
   "execution_count": 28,
   "metadata": {},
   "outputs": [],
   "source": [
    "# turn value range from string to list of one to two integers, formatted $XX - $XX or $XX\n",
    "def parseValue(valueStr):\n",
    "    if '-' in valueStr:\n",
    "        lower, upper = valueStr.split(' - ')\n",
    "        lower = int(\n",
    "            ''.join(\n",
    "                filter(\n",
    "                    lambda x: x.isdigit(), lower\n",
    "                )\n",
    "            )\n",
    "        )\n",
    "        upper = int(\n",
    "            ''.join(\n",
    "                filter(\n",
    "                    lambda x: x.isdigit(), upper\n",
    "                )\n",
    "            )\n",
    "        )\n",
    "        return upper\n",
    "    else:\n",
    "        valueStr = int(\n",
    "            ''.join(\n",
    "                filter(\n",
    "                    lambda x: x.isdigit(), valueStr\n",
    "                )\n",
    "            )\n",
    "        )\n",
    "        return valueStr\n",
    "\n",
    "# define significant buys as anything a senator buys, or any purchase value of $15,000\n",
    "def getSignificantBuys(tradeSlips):\n",
    "    sigBuys = []\n",
    "    for t in tradeSlips:\n",
    "        if 'Buy' in t['trans'] and (parseValue(t['value']) > 15000 or 'Sen' in t['pos']):\n",
    "            sigBuys.append(t)\n",
    "    return sigBuys\n",
    "\n",
    "sigBuys = getSignificantBuys(tradeSlips)"
   ]
  },
  {
   "cell_type": "code",
   "execution_count": 29,
   "metadata": {},
   "outputs": [],
   "source": [
    "# open file which stores significant buy data, clear it, and write with new data if any \n",
    "with open('buy_data.csv','w') as csvfile:\n",
    "    csvfile.truncate(0)\n",
    "    writer = csv.DictWriter(\n",
    "        csvfile, fieldnames = [\n",
    "            'name', 'pos', 'ticker', 'trans', 'value'\n",
    "        ]\n",
    "    )\n",
    "    writer.writeheader()\n",
    "    writer.writerows(sigBuys)"
   ]
  },
  {
   "cell_type": "code",
   "execution_count": 32,
   "metadata": {},
   "outputs": [
    {
     "name": "stdout",
     "output_type": "stream",
     "text": [
      "No Significant Buys.\n"
     ]
    }
   ],
   "source": [
    "sig_buys = pd.read_csv('buy_data.csv')\n",
    "if len(sig_buys) > 0:\n",
    "    sig_buys.head()\n",
    "else:\n",
    "    print('No Significant Buys.')"
   ]
  }
 ],
 "metadata": {
  "interpreter": {
   "hash": "953dcbbcda697a7411822c4a3e6fce342850cb4e21d1ef3e2d71fa3ba11fc2f4"
  },
  "kernelspec": {
   "display_name": "Python 3.9.1 64-bit",
   "language": "python",
   "name": "python3"
  },
  "language_info": {
   "codemirror_mode": {
    "name": "ipython",
    "version": 3
   },
   "file_extension": ".py",
   "mimetype": "text/x-python",
   "name": "python",
   "nbconvert_exporter": "python",
   "pygments_lexer": "ipython3",
   "version": "3.9.1"
  },
  "orig_nbformat": 4
 },
 "nbformat": 4,
 "nbformat_minor": 2
}
