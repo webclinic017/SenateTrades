{
 "cells": [
  {
   "cell_type": "markdown",
   "metadata": {},
   "source": [
    "\n",
    "# Capital Trades Buy/Sell Data Scrape"
   ]
  },
  {
   "cell_type": "code",
   "execution_count": 1,
   "metadata": {},
   "outputs": [],
   "source": [
    "import pandas as pd \n",
    "from requests_html import HTMLSession\n",
    "import os\n",
    "import requests\n",
    "from lxml import html "
   ]
  },
  {
   "cell_type": "code",
   "execution_count": 2,
   "metadata": {},
   "outputs": [
    {
     "name": "stdout",
     "output_type": "stream",
     "text": [
      "<Response [200]>\n"
     ]
    }
   ],
   "source": [
    "session = HTMLSession()\n",
    "url = 'https://app.capitoltrades.com/trades?page=1&pageSize=20'\n",
    "r = session.get(url)\n",
    "print(r)"
   ]
  },
  {
   "cell_type": "code",
   "execution_count": 3,
   "metadata": {},
   "outputs": [],
   "source": [
    "table = r.html.find('table')[0]\n",
    "num_poli = 10\n",
    "rows = table.find('tr')[1:num_poli + 1] # first 'num_poli' items in table, top is header\n",
    "full_output = ''\n",
    "# sum all rows to create one block of text from HTML\n",
    "for i in rows:\n",
    "    full_output = full_output + i.text\n",
    "full_output = full_output.replace('\\n', '')"
   ]
  },
  {
   "cell_type": "code",
   "execution_count": 4,
   "metadata": {},
   "outputs": [
    {
     "name": "stdout",
     "output_type": "stream",
     "text": [
      "{'name': 'Khanna, Rohit (Ro) ', 'ticker': 'GOOGL', 'transaction type': 'Buy (Stock)', 'est. value': '$1,001 - $15,000'}\n",
      "{'name': 'Khanna, Rohit (Ro) ', 'ticker': 'GOOGL', 'transaction type': 'Buy (Stock)', 'est. value': '$1,001 - $15,000'}\n",
      "{'name': 'Khanna, Rohit (Ro) ', 'ticker': 'CTSH', 'transaction type': 'Sell (Stock)', 'est. value': '$1,001 - $15,000'}\n",
      "{'name': 'Khanna, Rohit (Ro) ', 'ticker': 'CTSH', 'transaction type': 'Sell (Stock)', 'est. value': '$1,001 - $15,000'}\n",
      "{'name': 'Khanna, Rohit (Ro) ', 'ticker': 'HIG', 'transaction type': 'Sell (Stock)', 'est. value': '$1,001 - $15,000'}\n",
      "{'name': 'Khanna, Rohit (Ro) ', 'ticker': 'HIG', 'transaction type': 'Sell (Stock)', 'est. value': '$1,001 - $15,000'}\n",
      "{'name': 'Khanna, Rohit (Ro) ', 'ticker': 'GOOGL', 'transaction type': 'Buy (Stock)', 'est. value': '$1,001 - $15,000'}\n",
      "{'name': 'Khanna, Rohit (Ro) ', 'ticker': 'GOOGL', 'transaction type': 'Buy (Stock)', 'est. value': '$1,001 - $15,000'}\n",
      "{'name': 'Khanna, Rohit (Ro) ', 'ticker': 'C.PJ', 'transaction type': 'Sell (Preferred Shares)', 'est. value': '$1,001 - $15,000'}\n",
      "{'name': 'Khanna, Rohit (Ro) ', 'ticker': 'C.PJ', 'transaction type': 'Sell (Preferred Shares)', 'est. value': '$1,001 - $15,000'}\n"
     ]
    }
   ],
   "source": [
    "# divide chunk of text in table into slices, each corresponding to a single trade\n",
    "def makeSlices(fullString, endKey):\n",
    "    start = 0\n",
    "    end = 0\n",
    "    slices = []\n",
    "    while len(fullString) != 0:\n",
    "        end = fullString.find(endKey) + len(endKey)\n",
    "        slices.append(\n",
    "            fullString[start:end]\n",
    "        )\n",
    "        fullString = fullString[end:]\n",
    "    return slices\n",
    "\n",
    "# exract important trade information given one of the slices made above \n",
    "def getTradeInformation(data):\n",
    "    name = data[\n",
    "        data.find('Name') + len('Name'):\n",
    "        data.find('Rep')\n",
    "    ]\n",
    "    ticker = data[\n",
    "        data.find('Ticker') + len('Ticker'):\n",
    "        data.find('Transaction')\n",
    "    ]\n",
    "    transaction = data[\n",
    "        data.rfind('Transaction') + len('Transaction'):\n",
    "        data.rfind('Shares')\n",
    "    ]\n",
    "    value = data[\n",
    "        data.find('Value Range') + len('Value Range'):\n",
    "        data.find('Url')\n",
    "    ]\n",
    "    trade_data = {\n",
    "        'name' : name,\n",
    "        'ticker' : ticker,\n",
    "        'transaction type' : transaction,\n",
    "        'est. value' : value\n",
    "    }\n",
    "    return trade_data\n",
    "    \n",
    "slices = makeSlices(full_output, 'Url')\n",
    "for s in slices:\n",
    "    print(getTradeInformation(s))"
   ]
  },
  {
   "cell_type": "code",
   "execution_count": 5,
   "metadata": {},
   "outputs": [],
   "source": [
    "# turn value range from string to list of two integers \n",
    "def parseValue(valueStr):\n",
    "    lower, upper = valueStr.split(' - ')\n",
    "    lower = int(\n",
    "        ''.join(\n",
    "            filter(\n",
    "                lambda x: x.isdigit(), lower\n",
    "            )\n",
    "        )\n",
    "    )\n",
    "    upper = int(\n",
    "        ''.join(\n",
    "            filter(\n",
    "                lambda x: x.isdigit(), upper\n",
    "            )\n",
    "        )\n",
    "    )\n",
    "    return [lower, upper]"
   ]
  },
  {
   "cell_type": "code",
   "execution_count": 6,
   "metadata": {},
   "outputs": [
    {
     "name": "stdout",
     "output_type": "stream",
     "text": [
      "[1001, 15000]\n"
     ]
    }
   ],
   "source": [
    "# value parse example\n",
    "print(\n",
    "    parseValue(\n",
    "    getTradeInformation(\n",
    "        slices[0]\n",
    "        )['est. value']\n",
    "    )\n",
    ")"
   ]
  }
 ],
 "metadata": {
  "interpreter": {
   "hash": "953dcbbcda697a7411822c4a3e6fce342850cb4e21d1ef3e2d71fa3ba11fc2f4"
  },
  "kernelspec": {
   "display_name": "Python 3.9.1 64-bit",
   "language": "python",
   "name": "python3"
  },
  "language_info": {
   "codemirror_mode": {
    "name": "ipython",
    "version": 3
   },
   "file_extension": ".py",
   "mimetype": "text/x-python",
   "name": "python",
   "nbconvert_exporter": "python",
   "pygments_lexer": "ipython3",
   "version": "3.9.1"
  },
  "orig_nbformat": 4
 },
 "nbformat": 4,
 "nbformat_minor": 2
}
