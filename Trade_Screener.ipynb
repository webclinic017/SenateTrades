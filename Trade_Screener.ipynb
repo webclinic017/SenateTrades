{
 "cells": [
  {
   "cell_type": "markdown",
   "metadata": {},
   "source": [
    "## Screen through all trades to find most important "
   ]
  },
  {
   "cell_type": "code",
   "execution_count": 138,
   "metadata": {},
   "outputs": [],
   "source": [
    "import pandas as pd \n",
    "from requests_html import HTMLSession\n",
    "import os\n",
    "import requests\n",
    "from lxml import html \n",
    "import csv\n",
    "from datetime import date,datetime\n",
    "import re "
   ]
  },
  {
   "cell_type": "code",
   "execution_count": 139,
   "metadata": {},
   "outputs": [],
   "source": [
    "def fetchSession(url):\n",
    "    session = HTMLSession()\n",
    "    r = session.get(url)\n",
    "    return r\n",
    "\n",
    "def getTrades(r):\n",
    "    table = r.html.find('table')[0]\n",
    "    rows = table.find('tr')\n",
    "    return rows[1:]"
   ]
  },
  {
   "cell_type": "code",
   "execution_count": 140,
   "metadata": {},
   "outputs": [],
   "source": [
    "def arr_to_dict(lst):\n",
    "    it = iter(lst)\n",
    "    res_dict = dict(zip(it,it))\n",
    "    return res_dict \n",
    "def value_to_ints(value):\n",
    "    bad_chars = [\n",
    "        ',','$','-'\n",
    "    ]\n",
    "    for c in bad_chars:\n",
    "        value = value.replace(c,'')\n",
    "    low, high = [\n",
    "        int(x) for x in (value.split('  ', 1))\n",
    "    ]\n",
    "    return [low,high]"
   ]
  },
  {
   "cell_type": "markdown",
   "metadata": {},
   "source": [
    "## Base list of trades"
   ]
  },
  {
   "cell_type": "code",
   "execution_count": 141,
   "metadata": {},
   "outputs": [],
   "source": [
    "def scrapeAllTrades():\n",
    "    r = fetchSession('https://sec.report/Senate-Stock-Disclosures')\n",
    "    trades = getTrades(r)\n",
    "    n = len(trades)\n",
    "    all_trades = []\n",
    "    l1_head = [\n",
    "        'trade date', 'file date', 'trade', 'senator'\n",
    "    ]\n",
    "    l2_head = [\n",
    "        'trade type', 'value'\n",
    "    ]\n",
    "    for i in range(0,n,2):\n",
    "        trade = []\n",
    "        l1_elements = trades[i].find('td')\n",
    "        l2_elements = trades[i+1].find('td')[:-1]\n",
    "        file_date, trade_date = l1_elements[0].text.split('\\n')\n",
    "        trade_snip = l1_elements[1].text\n",
    "        senator = l1_elements[2].text\n",
    "        l1_cleaned = [\n",
    "            trade_date,file_date,trade_snip,senator\n",
    "        ]\n",
    "        for h,e in zip(l1_head, l1_cleaned):\n",
    "            trade.append(h)\n",
    "            trade.append(e)\n",
    "        for h,e in zip(l2_head, l2_elements):\n",
    "            trade.append(h)\n",
    "            trade.append(e.text)\n",
    "        trade[9] = trade[9].split('\\n', 1)[0]\n",
    "        trade[11] = value_to_ints(trade[11])\n",
    "        trade = arr_to_dict(trade)\n",
    "        all_trades.append(trade)\n",
    "    return all_trades\n",
    "all_trades = scrapeAllTrades()"
   ]
  },
  {
   "cell_type": "code",
   "execution_count": 142,
   "metadata": {},
   "outputs": [
    {
     "data": {
      "text/plain": [
       "[{'trade date': '2022-03-09',\n",
       "  'file date': '2022-04-13',\n",
       "  'trade': 'Del Taco Restaurants, Inc. - Common Stock [TACO]',\n",
       "  'senator': 'William F Hagerty, IV [Hagerty, Bill]',\n",
       "  'trade type': 'Sale (Partial)',\n",
       "  'value': [15001, 50000]},\n",
       " {'trade date': '2022-03-29',\n",
       "  'file date': '2022-04-08',\n",
       "  'trade': 'Nov 22 CBT Soybeans',\n",
       "  'senator': 'Thomas H Tuberville [Tuberville, Tommy]',\n",
       "  'trade type': 'Purchase',\n",
       "  'value': [1001, 15000]}]"
      ]
     },
     "execution_count": 142,
     "metadata": {},
     "output_type": "execute_result"
    }
   ],
   "source": [
    "all_trades[0:2]"
   ]
  },
  {
   "cell_type": "markdown",
   "metadata": {},
   "source": [
    "## On certain day (today)"
   ]
  },
  {
   "cell_type": "code",
   "execution_count": 143,
   "metadata": {},
   "outputs": [
    {
     "name": "stdout",
     "output_type": "stream",
     "text": [
      "no major trades\n"
     ]
    }
   ],
   "source": [
    "today = '2022-04-13'\n",
    "today_dt = datetime.strptime(\n",
    "    today, '%Y-%m-%d'\n",
    ").date()\n",
    "def scrapeAllTradesDate(date):\n",
    "    r = fetchSession('https://sec.report/Senate-Stock-Disclosures')\n",
    "    trades = getTrades(r)\n",
    "    n = len(trades)\n",
    "    all_trades = []\n",
    "    l1_head = [\n",
    "        'trade date', 'file date', 'trade', 'senator'\n",
    "    ]\n",
    "    l2_head = [\n",
    "        'trade type', 'value'\n",
    "    ]\n",
    "    current = True\n",
    "    while current:\n",
    "        for i in range(0,n,2):\n",
    "            trade = []\n",
    "            l1_elements = trades[i].find('td')\n",
    "            l2_elements = trades[i+1].find('td')[:-1]\n",
    "            file_date, trade_date = l1_elements[0].text.split('\\n')\n",
    "            trade_snip = l1_elements[1].text\n",
    "            senator = l1_elements[2].text\n",
    "            l1_cleaned = [\n",
    "                trade_date,file_date,trade_snip,senator\n",
    "            ]\n",
    "            for h,e in zip(l1_head, l1_cleaned):\n",
    "                trade.append(h)\n",
    "                trade.append(e)\n",
    "            for h,e in zip(l2_head, l2_elements):\n",
    "                trade.append(h)\n",
    "                trade.append(e.text)\n",
    "            if trade[3] != date:\n",
    "                current = False\n",
    "                break \n",
    "            trade[9] = trade[9].split('\\n', 1)[0]\n",
    "            trade[11] = value_to_ints(trade[11])\n",
    "            trade = arr_to_dict(trade)\n",
    "            all_trades.append(trade)\n",
    "    return all_trades\n",
    "all_trades_today = scrapeAllTradesDate(today)"
   ]
  },
  {
   "cell_type": "code",
   "execution_count": 144,
   "metadata": {},
   "outputs": [
    {
     "data": {
      "text/plain": [
       "[{'trade date': '2022-03-09',\n",
       "  'file date': '2022-04-13',\n",
       "  'trade': 'Del Taco Restaurants, Inc. - Common Stock [TACO]',\n",
       "  'senator': 'William F Hagerty, IV [Hagerty, Bill]',\n",
       "  'trade type': 'Sale (Partial)',\n",
       "  'value': [15001, 50000]}]"
      ]
     },
     "execution_count": 144,
     "metadata": {},
     "output_type": "execute_result"
    }
   ],
   "source": [
    "all_trades_today"
   ]
  },
  {
   "cell_type": "markdown",
   "metadata": {},
   "source": [
    "## 1. Screen by value of purchase (using full list of trades)"
   ]
  },
  {
   "cell_type": "code",
   "execution_count": 145,
   "metadata": {},
   "outputs": [],
   "source": [
    "def getLargePurchases(all_trades):\n",
    "    large_trades = []\n",
    "    for t in all_trades:\n",
    "        if t['value'][1] > 50001 and t['trade type'] == 'Purchase':\n",
    "            # clean up data for presenation\n",
    "            # removed part to find how many days ago for simplicity for testing\n",
    "            trade_date = t['trade date']\n",
    "            value_string = '$' + (\n",
    "                \"{:,}\".format(t['value'][0])\n",
    "            ) + ' to $' + (\n",
    "                \"{:,}\".format(t['value'][1])\n",
    "            )\n",
    "            large_trades.append(\n",
    "                 {\n",
    "                'Trade' : t['trade'],\n",
    "                'Trade Type' : t['trade type'],\n",
    "                'Value' : value_string,\n",
    "                'Trade Date' : trade_date,\n",
    "                'Senator' : t['senator']\n",
    "                }\n",
    "            )\n",
    "    return large_trades"
   ]
  },
  {
   "cell_type": "code",
   "execution_count": 146,
   "metadata": {},
   "outputs": [
    {
     "data": {
      "text/plain": [
       "[{'Trade': 'ChannelAdvisor Corporation Common Stock [ECOM]',\n",
       "  'Trade Type': 'Purchase',\n",
       "  'Value': '$50,001 to $100,000',\n",
       "  'Trade Date': '2022-03-08',\n",
       "  'Senator': 'Thomas H Tuberville [Tuberville, Tommy]'},\n",
       " {'Trade': 'Nashville Soccer Holdings, LLC Company: Nashville Soccer Holdings, LLC \\xa0(Nashville, TN) Description:\\xa0Holds sports and entertainment interests.',\n",
       "  'Trade Type': 'Purchase',\n",
       "  'Value': '$1,000,001 to $5,000,000',\n",
       "  'Trade Date': '2022-02-28',\n",
       "  'Senator': 'William F Hagerty, IV [Hagerty, Bill]'}]"
      ]
     },
     "execution_count": 146,
     "metadata": {},
     "output_type": "execute_result"
    }
   ],
   "source": [
    "getLargePurchases(all_trades)[0:2]"
   ]
  },
  {
   "cell_type": "markdown",
   "metadata": {},
   "source": [
    "## 2. Screen by large equity purchase"
   ]
  },
  {
   "cell_type": "code",
   "execution_count": 147,
   "metadata": {},
   "outputs": [],
   "source": [
    "# input is the string result of t['trade'] = trade_\n",
    "def isEquity(trade_):\n",
    "    regex = re.findall('\\[(.*?)\\]', trade_)\n",
    "    return len(regex) != 0\n",
    "def isPurchase(trade_type_):\n",
    "    return trade_type_ == 'Purchase'\n",
    "def isLarge(value_):\n",
    "    return value_[1] > 50001"
   ]
  },
  {
   "cell_type": "code",
   "execution_count": 148,
   "metadata": {},
   "outputs": [],
   "source": [
    "def getLargeEquity(all_trades):\n",
    "    large_trades = []\n",
    "    for t in all_trades:\n",
    "        if isLarge(t['value']) and isPurchase(t['trade type']) and isEquity(t['trade']):\n",
    "            # clean up data for presenation\n",
    "            # removed part to find how many days ago for simplicity for testing\n",
    "            trade_date = t['trade date']\n",
    "            value_string = '$' + (\n",
    "                \"{:,}\".format(t['value'][0])\n",
    "            ) + ' to $' + (\n",
    "                \"{:,}\".format(t['value'][1])\n",
    "            )\n",
    "            large_trades.append(\n",
    "                 {\n",
    "                'Trade' : t['trade'],\n",
    "                'Trade Type' : t['trade type'],\n",
    "                'Value' : value_string,\n",
    "                'Trade Date' : trade_date,\n",
    "                'Senator' : t['senator']\n",
    "                }\n",
    "            )\n",
    "    return large_trades"
   ]
  },
  {
   "cell_type": "code",
   "execution_count": 157,
   "metadata": {},
   "outputs": [
    {
     "data": {
      "text/plain": [
       "[{'Trade': 'ChannelAdvisor Corporation Common Stock [ECOM]',\n",
       "  'Trade Type': 'Purchase',\n",
       "  'Value': '$50,001 to $100,000',\n",
       "  'Trade Date': '2022-03-08',\n",
       "  'Senator': 'Thomas H Tuberville [Tuberville, Tommy]'},\n",
       " {'Trade': 'Apple Inc. - Common Stock [AAPL]',\n",
       "  'Trade Type': 'Purchase',\n",
       "  'Value': '$50,001 to $100,000',\n",
       "  'Trade Date': '2022-02-24',\n",
       "  'Senator': 'Ron L Wyden [Wyden, Ron]'}]"
      ]
     },
     "execution_count": 157,
     "metadata": {},
     "output_type": "execute_result"
    }
   ],
   "source": [
    "getLargeEquity(all_trades)[0:2]"
   ]
  },
  {
   "cell_type": "markdown",
   "metadata": {},
   "source": [
    "## 3. Small Cap Equity Stocks"
   ]
  },
  {
   "cell_type": "code",
   "execution_count": 149,
   "metadata": {},
   "outputs": [],
   "source": [
    "def getTicker(trade_):\n",
    "    return re.findall('\\[(.*?)\\]', trade_)[0]"
   ]
  },
  {
   "cell_type": "code",
   "execution_count": 150,
   "metadata": {},
   "outputs": [],
   "source": [
    "def list_tickers(equity_trades):\n",
    "    tickers = []\n",
    "    for e in equity_trades:\n",
    "        tickers.append(\n",
    "            getTicker(e['Trade'])\n",
    "        )\n",
    "    return tickers"
   ]
  },
  {
   "cell_type": "code",
   "execution_count": 151,
   "metadata": {},
   "outputs": [
    {
     "name": "stdout",
     "output_type": "stream",
     "text": [
      "ECOM\n",
      "AAPL\n",
      "X\n",
      "PYPL\n",
      "GOLD\n",
      "BABA\n",
      "BABA\n",
      "BABA\n",
      "CLF\n",
      "SCCO\n",
      "INTC\n",
      "X\n"
     ]
    }
   ],
   "source": [
    "tickers = list_tickers(getLargeEquity(all_trades))\n",
    "for t in tickers:\n",
    "    print(t)"
   ]
  },
  {
   "cell_type": "markdown",
   "metadata": {},
   "source": [
    "### Determines if a ticker is a small cap stock"
   ]
  },
  {
   "cell_type": "code",
   "execution_count": 152,
   "metadata": {},
   "outputs": [],
   "source": [
    "from bs4 import BeautifulSoup"
   ]
  },
  {
   "cell_type": "code",
   "execution_count": 153,
   "metadata": {},
   "outputs": [],
   "source": [
    "def getHTML(url):\n",
    "    r = fetchSession(url)\n",
    "    h = r.text\n",
    "    doc = BeautifulSoup(h, 'html.parser')\n",
    "    return doc\n",
    "\n",
    "def parseToMillions(value_string):\n",
    "    unit = value_string[-1:]\n",
    "    number = float(value_string[:-1])\n",
    "    #keep in units of millions\n",
    "    if unit == 'B':\n",
    "        number = number * 1000\n",
    "    elif unit == 'T':\n",
    "        number = number * 1000000\n",
    "    return number"
   ]
  },
  {
   "cell_type": "code",
   "execution_count": 154,
   "metadata": {},
   "outputs": [],
   "source": [
    "def getMktCap(ticker):\n",
    "    url = 'https://finance.yahoo.com/quote/{}/'.format(ticker)\n",
    "    soup = getHTML(url)\n",
    "    quote_summary = soup.find(id='quote-summary')\n",
    "    tables = quote_summary.find_all('table')\n",
    "    mc_table = tables[1]\n",
    "    mc_rows = mc_table.find_all('td')\n",
    "    mc_string = str(mc_rows[1])\n",
    "    value = re.search('>(.*)<', mc_string).group(1)\n",
    "    return round(parseToMillions(value),2)"
   ]
  },
  {
   "cell_type": "code",
   "execution_count": 155,
   "metadata": {},
   "outputs": [
    {
     "name": "stdout",
     "output_type": "stream",
     "text": [
      "ECOM 463.05\n",
      "AAPL 2733000.0\n",
      "X 9798.0\n",
      "PYPL 123567.0\n",
      "GOLD 45514.0\n",
      "BABA 272001.0\n",
      "BABA 260093.0\n",
      "BABA 272001.0\n",
      "CLF 16013.0\n",
      "SCCO 57672.0\n",
      "INTC 191190.0\n",
      "X 9963.0\n"
     ]
    }
   ],
   "source": [
    "for t in tickers:\n",
    "    print(t, getMktCap(t))"
   ]
  }
 ],
 "metadata": {
  "interpreter": {
   "hash": "953dcbbcda697a7411822c4a3e6fce342850cb4e21d1ef3e2d71fa3ba11fc2f4"
  },
  "kernelspec": {
   "display_name": "Python 3.9.1 64-bit",
   "language": "python",
   "name": "python3"
  },
  "language_info": {
   "codemirror_mode": {
    "name": "ipython",
    "version": 3
   },
   "file_extension": ".py",
   "mimetype": "text/x-python",
   "name": "python",
   "nbconvert_exporter": "python",
   "pygments_lexer": "ipython3",
   "version": "3.9.1"
  },
  "orig_nbformat": 4
 },
 "nbformat": 4,
 "nbformat_minor": 2
}
