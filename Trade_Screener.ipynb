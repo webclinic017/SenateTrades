{
 "cells": [
  {
   "cell_type": "markdown",
   "metadata": {},
   "source": [
    "## Screen through all trades to find most important "
   ]
  },
  {
   "cell_type": "code",
   "execution_count": 295,
   "metadata": {},
   "outputs": [],
   "source": [
    "import pandas as pd \n",
    "from requests_html import HTMLSession\n",
    "import os\n",
    "import requests\n",
    "from lxml import html \n",
    "import csv\n",
    "from datetime import date,datetime\n",
    "import re "
   ]
  },
  {
   "cell_type": "code",
   "execution_count": 296,
   "metadata": {},
   "outputs": [],
   "source": [
    "def fetchSession(url):\n",
    "    session = HTMLSession()\n",
    "    r = session.get(url)\n",
    "    return r\n",
    "\n",
    "def getTrades(r):\n",
    "    table = r.html.find('table')[0]\n",
    "    rows = table.find('tr')\n",
    "    return rows[1:]"
   ]
  },
  {
   "cell_type": "code",
   "execution_count": 297,
   "metadata": {},
   "outputs": [],
   "source": [
    "def arr_to_dict(lst):\n",
    "    it = iter(lst)\n",
    "    res_dict = dict(zip(it,it))\n",
    "    return res_dict \n",
    "def value_to_ints(value):\n",
    "    bad_chars = [\n",
    "        ',','$','-'\n",
    "    ]\n",
    "    for c in bad_chars:\n",
    "        value = value.replace(c,'')\n",
    "    low, high = [\n",
    "        int(x) for x in (value.split('  ', 1))\n",
    "    ]\n",
    "    return [low,high]"
   ]
  },
  {
   "cell_type": "markdown",
   "metadata": {},
   "source": [
    "## Base list of trades"
   ]
  },
  {
   "cell_type": "code",
   "execution_count": 298,
   "metadata": {},
   "outputs": [],
   "source": [
    "def scrapeAllTrades():\n",
    "    r = fetchSession('https://sec.report/Senate-Stock-Disclosures')\n",
    "    trades = getTrades(r)\n",
    "    n = len(trades)\n",
    "    all_trades = []\n",
    "    l1_head = [\n",
    "        'trade date', 'file date', 'trade', 'senator'\n",
    "    ]\n",
    "    l2_head = [\n",
    "        'trade type', 'value'\n",
    "    ]\n",
    "    for i in range(0,n,2):\n",
    "        trade = []\n",
    "        l1_elements = trades[i].find('td')\n",
    "        l2_elements = trades[i+1].find('td')[:-1]\n",
    "        file_date, trade_date = l1_elements[0].text.split('\\n')\n",
    "        trade_snip = l1_elements[1].text\n",
    "        senator = l1_elements[2].text\n",
    "        l1_cleaned = [\n",
    "            trade_date,file_date,trade_snip,senator\n",
    "        ]\n",
    "        for h,e in zip(l1_head, l1_cleaned):\n",
    "            trade.append(h)\n",
    "            trade.append(e)\n",
    "        for h,e in zip(l2_head, l2_elements):\n",
    "            trade.append(h)\n",
    "            trade.append(e.text)\n",
    "        trade[9] = trade[9].split('\\n', 1)[0]\n",
    "        trade[11] = value_to_ints(trade[11])\n",
    "        trade = arr_to_dict(trade)\n",
    "        all_trades.append(trade)\n",
    "    return all_trades\n",
    "all_trades = scrapeAllTrades()"
   ]
  },
  {
   "cell_type": "code",
   "execution_count": 299,
   "metadata": {},
   "outputs": [
    {
     "data": {
      "text/plain": [
       "[{'trade date': '2022-03-09',\n",
       "  'file date': '2022-04-13',\n",
       "  'trade': 'Del Taco Restaurants, Inc. - Common Stock [TACO]',\n",
       "  'senator': 'William F Hagerty, IV [Hagerty, Bill]',\n",
       "  'trade type': 'Sale (Partial)',\n",
       "  'value': [15001, 50000]},\n",
       " {'trade date': '2022-03-29',\n",
       "  'file date': '2022-04-08',\n",
       "  'trade': 'Nov 22 CBT Soybeans',\n",
       "  'senator': 'Thomas H Tuberville [Tuberville, Tommy]',\n",
       "  'trade type': 'Purchase',\n",
       "  'value': [1001, 15000]}]"
      ]
     },
     "execution_count": 299,
     "metadata": {},
     "output_type": "execute_result"
    }
   ],
   "source": [
    "all_trades[0:2]"
   ]
  },
  {
   "cell_type": "markdown",
   "metadata": {},
   "source": [
    "## On certain day (today)"
   ]
  },
  {
   "cell_type": "code",
   "execution_count": 300,
   "metadata": {},
   "outputs": [],
   "source": [
    "today = '2022-04-13'\n",
    "today_dt = datetime.strptime(\n",
    "    today, '%Y-%m-%d'\n",
    ").date()\n",
    "def scrapeAllTradesDate(date):\n",
    "    r = fetchSession('https://sec.report/Senate-Stock-Disclosures')\n",
    "    trades = getTrades(r)\n",
    "    n = len(trades)\n",
    "    all_trades = []\n",
    "    l1_head = [\n",
    "        'trade date', 'file date', 'trade', 'senator'\n",
    "    ]\n",
    "    l2_head = [\n",
    "        'trade type', 'value'\n",
    "    ]\n",
    "    current = True\n",
    "    while current:\n",
    "        for i in range(0,n,2):\n",
    "            trade = []\n",
    "            l1_elements = trades[i].find('td')\n",
    "            l2_elements = trades[i+1].find('td')[:-1]\n",
    "            file_date, trade_date = l1_elements[0].text.split('\\n')\n",
    "            trade_snip = l1_elements[1].text\n",
    "            senator = l1_elements[2].text\n",
    "            l1_cleaned = [\n",
    "                trade_date,file_date,trade_snip,senator\n",
    "            ]\n",
    "            for h,e in zip(l1_head, l1_cleaned):\n",
    "                trade.append(h)\n",
    "                trade.append(e)\n",
    "            for h,e in zip(l2_head, l2_elements):\n",
    "                trade.append(h)\n",
    "                trade.append(e.text)\n",
    "            if trade[3] != date:\n",
    "                current = False\n",
    "                break \n",
    "            trade[9] = trade[9].split('\\n', 1)[0]\n",
    "            trade[11] = value_to_ints(trade[11])\n",
    "            trade = arr_to_dict(trade)\n",
    "            all_trades.append(trade)\n",
    "    return all_trades\n",
    "all_trades_today = scrapeAllTradesDate(today)"
   ]
  },
  {
   "cell_type": "code",
   "execution_count": 301,
   "metadata": {},
   "outputs": [
    {
     "data": {
      "text/plain": [
       "[{'trade date': '2022-03-09',\n",
       "  'file date': '2022-04-13',\n",
       "  'trade': 'Del Taco Restaurants, Inc. - Common Stock [TACO]',\n",
       "  'senator': 'William F Hagerty, IV [Hagerty, Bill]',\n",
       "  'trade type': 'Sale (Partial)',\n",
       "  'value': [15001, 50000]}]"
      ]
     },
     "execution_count": 301,
     "metadata": {},
     "output_type": "execute_result"
    }
   ],
   "source": [
    "all_trades_today"
   ]
  },
  {
   "cell_type": "markdown",
   "metadata": {},
   "source": [
    "## 1. Screen by value of purchase (using full list of trades)"
   ]
  },
  {
   "cell_type": "code",
   "execution_count": 302,
   "metadata": {},
   "outputs": [],
   "source": [
    "def getLargePurchases(all_trades):\n",
    "    large_trades = []\n",
    "    for t in all_trades:\n",
    "        if t['value'][1] > 50001 and t['trade type'] == 'Purchase':\n",
    "            # clean up data for presenation\n",
    "            # removed part to find how many days ago for simplicity for testing\n",
    "            trade_date = t['trade date']\n",
    "            value_string = '$' + (\n",
    "                \"{:,}\".format(t['value'][0])\n",
    "            ) + ' to $' + (\n",
    "                \"{:,}\".format(t['value'][1])\n",
    "            )\n",
    "            large_trades.append(\n",
    "                 {\n",
    "                'Trade' : t['trade'],\n",
    "                'Trade Type' : t['trade type'],\n",
    "                'Value' : value_string,\n",
    "                'Trade Date' : trade_date,\n",
    "                'Senator' : t['senator']\n",
    "                }\n",
    "            )\n",
    "    return large_trades"
   ]
  },
  {
   "cell_type": "code",
   "execution_count": 303,
   "metadata": {},
   "outputs": [
    {
     "data": {
      "text/plain": [
       "[{'Trade': 'ChannelAdvisor Corporation Common Stock [ECOM]',\n",
       "  'Trade Type': 'Purchase',\n",
       "  'Value': '$50,001 to $100,000',\n",
       "  'Trade Date': '2022-03-08',\n",
       "  'Senator': 'Thomas H Tuberville [Tuberville, Tommy]'},\n",
       " {'Trade': 'Nashville Soccer Holdings, LLC Company: Nashville Soccer Holdings, LLC \\xa0(Nashville, TN) Description:\\xa0Holds sports and entertainment interests.',\n",
       "  'Trade Type': 'Purchase',\n",
       "  'Value': '$1,000,001 to $5,000,000',\n",
       "  'Trade Date': '2022-02-28',\n",
       "  'Senator': 'William F Hagerty, IV [Hagerty, Bill]'}]"
      ]
     },
     "execution_count": 303,
     "metadata": {},
     "output_type": "execute_result"
    }
   ],
   "source": [
    "getLargePurchases(all_trades)[0:2]"
   ]
  },
  {
   "cell_type": "markdown",
   "metadata": {},
   "source": [
    "## 2. Screen by large equity purchase"
   ]
  },
  {
   "cell_type": "code",
   "execution_count": 304,
   "metadata": {},
   "outputs": [],
   "source": [
    "# input is the string result of t['trade'] = trade_\n",
    "def isLarge(value_):\n",
    "    return value_[1] > 50001\n",
    "# ignores ETFs\n",
    "def isEquity(trade_):\n",
    "    regex = re.findall('\\[(.*?)\\]', trade_)\n",
    "    return (\n",
    "        len(regex) != 0 and 'Common Stock' in trade_\n",
    "    )\n",
    "def isPurchase(trade_type_):\n",
    "    return trade_type_ == 'Purchase'\n",
    "\n",
    "def isLEP(t):\n",
    "    return (\n",
    "        isLarge(t['value']) and isPurchase(t['trade type']) and isEquity(t['trade'])\n",
    "    )"
   ]
  },
  {
   "cell_type": "code",
   "execution_count": 305,
   "metadata": {},
   "outputs": [],
   "source": [
    "def getLargeEquity(all_trades):\n",
    "    large_trades = []\n",
    "    for t in all_trades:\n",
    "        if isLEP(t):\n",
    "            # clean up data for presenation\n",
    "            # removed part to find how many days ago for simplicity for testing\n",
    "            trade_date = t['trade date']\n",
    "            value_string = '$' + (\n",
    "                \"{:,}\".format(t['value'][0])\n",
    "            ) + ' to $' + (\n",
    "                \"{:,}\".format(t['value'][1])\n",
    "            )\n",
    "            large_trades.append(\n",
    "                 {\n",
    "                'Trade' : t['trade'],\n",
    "                'Trade Type' : t['trade type'],\n",
    "                'Value' : value_string,\n",
    "                'Trade Date' : trade_date,\n",
    "                'Senator' : t['senator']\n",
    "                }\n",
    "            )\n",
    "    return large_trades"
   ]
  },
  {
   "cell_type": "code",
   "execution_count": 306,
   "metadata": {},
   "outputs": [
    {
     "data": {
      "text/plain": [
       "[{'Trade': 'ChannelAdvisor Corporation Common Stock [ECOM]',\n",
       "  'Trade Type': 'Purchase',\n",
       "  'Value': '$50,001 to $100,000',\n",
       "  'Trade Date': '2022-03-08',\n",
       "  'Senator': 'Thomas H Tuberville [Tuberville, Tommy]'},\n",
       " {'Trade': 'Apple Inc. - Common Stock [AAPL]',\n",
       "  'Trade Type': 'Purchase',\n",
       "  'Value': '$50,001 to $100,000',\n",
       "  'Trade Date': '2022-02-24',\n",
       "  'Senator': 'Ron L Wyden [Wyden, Ron]'}]"
      ]
     },
     "execution_count": 306,
     "metadata": {},
     "output_type": "execute_result"
    }
   ],
   "source": [
    "getLargeEquity(all_trades)[0:2]"
   ]
  },
  {
   "cell_type": "markdown",
   "metadata": {},
   "source": [
    "## 3. Small Cap Equity Stocks"
   ]
  },
  {
   "cell_type": "code",
   "execution_count": 307,
   "metadata": {},
   "outputs": [],
   "source": [
    "def getTicker(trade_):\n",
    "    return re.findall('\\[(.*?)\\]', trade_)[0]"
   ]
  },
  {
   "cell_type": "code",
   "execution_count": 308,
   "metadata": {},
   "outputs": [],
   "source": [
    "def list_tickers(equity_trades):\n",
    "    tickers = []\n",
    "    for e in equity_trades:\n",
    "        tickers.append(\n",
    "            getTicker(e['Trade'])\n",
    "        )\n",
    "    return tickers"
   ]
  },
  {
   "cell_type": "code",
   "execution_count": 309,
   "metadata": {},
   "outputs": [
    {
     "name": "stdout",
     "output_type": "stream",
     "text": [
      "ECOM\n",
      "AAPL\n",
      "X\n",
      "PYPL\n",
      "GOLD\n",
      "CLF\n",
      "SCCO\n",
      "INTC\n",
      "X\n"
     ]
    }
   ],
   "source": [
    "tickers = list_tickers(getLargeEquity(all_trades))\n",
    "for t in tickers:\n",
    "    print(t)"
   ]
  },
  {
   "cell_type": "markdown",
   "metadata": {},
   "source": [
    "### Determines if a ticker is a small cap stock"
   ]
  },
  {
   "cell_type": "code",
   "execution_count": 310,
   "metadata": {},
   "outputs": [],
   "source": [
    "from bs4 import BeautifulSoup\n",
    "import nums_from_string"
   ]
  },
  {
   "cell_type": "code",
   "execution_count": 311,
   "metadata": {},
   "outputs": [],
   "source": [
    "def getHTML(url):\n",
    "    r = fetchSession(url)\n",
    "    h = r.text\n",
    "    doc = BeautifulSoup(h, 'html.parser')\n",
    "    return doc\n",
    "\n",
    "def parseToMillions(value_string):\n",
    "    unit = value_string[-1:]\n",
    "    number = nums_from_string.get_nums(value_string)[0]\n",
    "    #keep in units of millions\n",
    "    if unit == 'B':\n",
    "        number = number * 1000\n",
    "    elif unit == 'T':\n",
    "        number = number * 1000000\n",
    "    return number"
   ]
  },
  {
   "cell_type": "code",
   "execution_count": 312,
   "metadata": {},
   "outputs": [],
   "source": [
    "def getMktCap(ticker):\n",
    "    url = 'https://finance.yahoo.com/quote/{}/'.format(ticker)\n",
    "    soup = getHTML(url)\n",
    "    quote_summary = soup.find(id='quote-summary')\n",
    "    if quote_summary is None:\n",
    "        return -1\n",
    "    tables = quote_summary.find_all('table')\n",
    "    if len(tables) == 0:\n",
    "        return -1\n",
    "    mc_table = tables[1]\n",
    "    mc_rows = mc_table.find_all('td')\n",
    "    mc_string = str(mc_rows[1])\n",
    "    value = re.search('>(.*)<', mc_string).group(1)\n",
    "    if value == 'N/A':\n",
    "        return -1\n",
    "    return round(parseToMillions(value),2)"
   ]
  },
  {
   "cell_type": "code",
   "execution_count": 313,
   "metadata": {},
   "outputs": [
    {
     "name": "stdout",
     "output_type": "stream",
     "text": [
      "ECOM 451.03\n",
      "AAPL 2712000.0\n",
      "X 10009.0\n",
      "PYPL 120207.0\n",
      "GOLD 44838.0\n",
      "CLF 15423.0\n",
      "SCCO 56273.0\n",
      "INTC 185740.0\n",
      "X 10009.0\n"
     ]
    }
   ],
   "source": [
    "for t in tickers:\n",
    "    print(t, getMktCap(t))"
   ]
  },
  {
   "cell_type": "code",
   "execution_count": 314,
   "metadata": {},
   "outputs": [],
   "source": [
    "def isSmallCap(ticker):\n",
    "    return getMktCap(ticker) < 2000"
   ]
  },
  {
   "cell_type": "code",
   "execution_count": 315,
   "metadata": {},
   "outputs": [],
   "source": [
    "def isSCEP(t):\n",
    "    if isEquity(t['trade']):\n",
    "        return (\n",
    "            isSmallCap(getTicker(t['trade'])) and isPurchase(t['trade type'])\n",
    "        )"
   ]
  },
  {
   "cell_type": "code",
   "execution_count": 322,
   "metadata": {},
   "outputs": [],
   "source": [
    "def getSmallCaps(all_trades):\n",
    "    large_trades = []\n",
    "    for t in all_trades:\n",
    "        if isSCEP(t):\n",
    "            # clean up data for presenation\n",
    "            # removed part to find how many days ago for simplicity for testing\n",
    "            trade_date = t['trade date']\n",
    "            value_string = '$' + (\n",
    "                \"{:,}\".format(t['value'][0])\n",
    "            ) + ' to $' + (\n",
    "                \"{:,}\".format(t['value'][1])\n",
    "            )\n",
    "            large_trades.append(\n",
    "                 {\n",
    "                'Trade' : t['trade'],\n",
    "                'Trade Type' : t['trade type'],\n",
    "                'Value' : value_string,\n",
    "                'Trade Date' : trade_date,\n",
    "                'Senator' : t['senator']\n",
    "                }\n",
    "            )\n",
    "    return large_trades"
   ]
  },
  {
   "cell_type": "code",
   "execution_count": 323,
   "metadata": {},
   "outputs": [
    {
     "name": "stdout",
     "output_type": "stream",
     "text": [
      "[{'Trade': 'Limestone Bancorp, Inc. - Common Stock [LMST]', 'Trade Type': 'Purchase', 'Value': '$1,001 to $15,000', 'Trade Date': '2022-03-30', 'Senator': 'Thomas H Tuberville [Tuberville, Tommy]'}, {'Trade': 'First Guaranty Bancshares, Inc. - Common Stock [FGBI]', 'Trade Type': 'Purchase', 'Value': '$1,001 to $15,000', 'Trade Date': '2022-03-30', 'Senator': 'Thomas H Tuberville [Tuberville, Tommy]'}, {'Trade': 'Humacyte, Inc. - Common Stock [HUMA]', 'Trade Type': 'Purchase', 'Value': '$15,001 to $50,000', 'Trade Date': '2022-03-30', 'Senator': 'Thomas H Tuberville [Tuberville, Tommy]'}, {'Trade': 'ChannelAdvisor Corporation Common Stock [ECOM]', 'Trade Type': 'Purchase', 'Value': '$15,001 to $50,000', 'Trade Date': '2022-03-21', 'Senator': 'Thomas H Tuberville [Tuberville, Tommy]'}, {'Trade': 'ChannelAdvisor Corporation Common Stock [ECOM]', 'Trade Type': 'Purchase', 'Value': '$50,001 to $100,000', 'Trade Date': '2022-03-08', 'Senator': 'Thomas H Tuberville [Tuberville, Tommy]'}, {'Trade': 'Global Medical REIT Inc. Common Stock [GMRE]', 'Trade Type': 'Purchase', 'Value': '$1,001 to $15,000', 'Trade Date': '2022-01-18', 'Senator': 'Thomas R Carper [Carper, Thomas R.]'}, {'Trade': 'Stratasys, Ltd. - Common Stock [SSYS]', 'Trade Type': 'Purchase', 'Value': '$15,001 to $50,000', 'Trade Date': '2021-12-13', 'Senator': 'Thomas H Tuberville [Tuberville, Tommy]'}, {'Trade': 'ChannelAdvisor Corporation Common Stock Option Type: Short Sale Strike price: $25.00 Expires: 06/17/2022 [ECOM]', 'Trade Type': 'Purchase', 'Value': '$1,001 to $15,000', 'Trade Date': '2021-11-22', 'Senator': 'Thomas H Tuberville [Tuberville, Tommy]'}]\n",
      "[{'Trade': 'Limestone Bancorp, Inc. - Common Stock [LMST]', 'Trade Type': 'Purchase', 'Value': '$1,001 to $15,000', 'Trade Date': '2022-03-30', 'Senator': 'Thomas H Tuberville [Tuberville, Tommy]'}, {'Trade': 'First Guaranty Bancshares, Inc. - Common Stock [FGBI]', 'Trade Type': 'Purchase', 'Value': '$1,001 to $15,000', 'Trade Date': '2022-03-30', 'Senator': 'Thomas H Tuberville [Tuberville, Tommy]'}, {'Trade': 'Humacyte, Inc. - Common Stock [HUMA]', 'Trade Type': 'Purchase', 'Value': '$15,001 to $50,000', 'Trade Date': '2022-03-30', 'Senator': 'Thomas H Tuberville [Tuberville, Tommy]'}, {'Trade': 'ChannelAdvisor Corporation Common Stock [ECOM]', 'Trade Type': 'Purchase', 'Value': '$15,001 to $50,000', 'Trade Date': '2022-03-21', 'Senator': 'Thomas H Tuberville [Tuberville, Tommy]'}, {'Trade': 'ChannelAdvisor Corporation Common Stock [ECOM]', 'Trade Type': 'Purchase', 'Value': '$50,001 to $100,000', 'Trade Date': '2022-03-08', 'Senator': 'Thomas H Tuberville [Tuberville, Tommy]'}, {'Trade': 'Global Medical REIT Inc. Common Stock [GMRE]', 'Trade Type': 'Purchase', 'Value': '$1,001 to $15,000', 'Trade Date': '2022-01-18', 'Senator': 'Thomas R Carper [Carper, Thomas R.]'}, {'Trade': 'Stratasys, Ltd. - Common Stock [SSYS]', 'Trade Type': 'Purchase', 'Value': '$15,001 to $50,000', 'Trade Date': '2021-12-13', 'Senator': 'Thomas H Tuberville [Tuberville, Tommy]'}, {'Trade': 'ChannelAdvisor Corporation Common Stock Option Type: Short Sale Strike price: $25.00 Expires: 06/17/2022 [ECOM]', 'Trade Type': 'Purchase', 'Value': '$1,001 to $15,000', 'Trade Date': '2021-11-22', 'Senator': 'Thomas H Tuberville [Tuberville, Tommy]'}]\n",
      "[{'Trade': 'Limestone Bancorp, Inc. - Common Stock [LMST]', 'Trade Type': 'Purchase', 'Value': '$1,001 to $15,000', 'Trade Date': '2022-03-30', 'Senator': 'Thomas H Tuberville [Tuberville, Tommy]'}, {'Trade': 'First Guaranty Bancshares, Inc. - Common Stock [FGBI]', 'Trade Type': 'Purchase', 'Value': '$1,001 to $15,000', 'Trade Date': '2022-03-30', 'Senator': 'Thomas H Tuberville [Tuberville, Tommy]'}, {'Trade': 'Humacyte, Inc. - Common Stock [HUMA]', 'Trade Type': 'Purchase', 'Value': '$15,001 to $50,000', 'Trade Date': '2022-03-30', 'Senator': 'Thomas H Tuberville [Tuberville, Tommy]'}, {'Trade': 'ChannelAdvisor Corporation Common Stock [ECOM]', 'Trade Type': 'Purchase', 'Value': '$15,001 to $50,000', 'Trade Date': '2022-03-21', 'Senator': 'Thomas H Tuberville [Tuberville, Tommy]'}, {'Trade': 'ChannelAdvisor Corporation Common Stock [ECOM]', 'Trade Type': 'Purchase', 'Value': '$50,001 to $100,000', 'Trade Date': '2022-03-08', 'Senator': 'Thomas H Tuberville [Tuberville, Tommy]'}, {'Trade': 'Global Medical REIT Inc. Common Stock [GMRE]', 'Trade Type': 'Purchase', 'Value': '$1,001 to $15,000', 'Trade Date': '2022-01-18', 'Senator': 'Thomas R Carper [Carper, Thomas R.]'}, {'Trade': 'Stratasys, Ltd. - Common Stock [SSYS]', 'Trade Type': 'Purchase', 'Value': '$15,001 to $50,000', 'Trade Date': '2021-12-13', 'Senator': 'Thomas H Tuberville [Tuberville, Tommy]'}, {'Trade': 'ChannelAdvisor Corporation Common Stock Option Type: Short Sale Strike price: $25.00 Expires: 06/17/2022 [ECOM]', 'Trade Type': 'Purchase', 'Value': '$1,001 to $15,000', 'Trade Date': '2021-11-22', 'Senator': 'Thomas H Tuberville [Tuberville, Tommy]'}]\n",
      "[{'Trade': 'Limestone Bancorp, Inc. - Common Stock [LMST]', 'Trade Type': 'Purchase', 'Value': '$1,001 to $15,000', 'Trade Date': '2022-03-30', 'Senator': 'Thomas H Tuberville [Tuberville, Tommy]'}, {'Trade': 'First Guaranty Bancshares, Inc. - Common Stock [FGBI]', 'Trade Type': 'Purchase', 'Value': '$1,001 to $15,000', 'Trade Date': '2022-03-30', 'Senator': 'Thomas H Tuberville [Tuberville, Tommy]'}, {'Trade': 'Humacyte, Inc. - Common Stock [HUMA]', 'Trade Type': 'Purchase', 'Value': '$15,001 to $50,000', 'Trade Date': '2022-03-30', 'Senator': 'Thomas H Tuberville [Tuberville, Tommy]'}, {'Trade': 'ChannelAdvisor Corporation Common Stock [ECOM]', 'Trade Type': 'Purchase', 'Value': '$15,001 to $50,000', 'Trade Date': '2022-03-21', 'Senator': 'Thomas H Tuberville [Tuberville, Tommy]'}, {'Trade': 'ChannelAdvisor Corporation Common Stock [ECOM]', 'Trade Type': 'Purchase', 'Value': '$50,001 to $100,000', 'Trade Date': '2022-03-08', 'Senator': 'Thomas H Tuberville [Tuberville, Tommy]'}, {'Trade': 'Global Medical REIT Inc. Common Stock [GMRE]', 'Trade Type': 'Purchase', 'Value': '$1,001 to $15,000', 'Trade Date': '2022-01-18', 'Senator': 'Thomas R Carper [Carper, Thomas R.]'}, {'Trade': 'Stratasys, Ltd. - Common Stock [SSYS]', 'Trade Type': 'Purchase', 'Value': '$15,001 to $50,000', 'Trade Date': '2021-12-13', 'Senator': 'Thomas H Tuberville [Tuberville, Tommy]'}, {'Trade': 'ChannelAdvisor Corporation Common Stock Option Type: Short Sale Strike price: $25.00 Expires: 06/17/2022 [ECOM]', 'Trade Type': 'Purchase', 'Value': '$1,001 to $15,000', 'Trade Date': '2021-11-22', 'Senator': 'Thomas H Tuberville [Tuberville, Tommy]'}]\n",
      "[{'Trade': 'Limestone Bancorp, Inc. - Common Stock [LMST]', 'Trade Type': 'Purchase', 'Value': '$1,001 to $15,000', 'Trade Date': '2022-03-30', 'Senator': 'Thomas H Tuberville [Tuberville, Tommy]'}, {'Trade': 'First Guaranty Bancshares, Inc. - Common Stock [FGBI]', 'Trade Type': 'Purchase', 'Value': '$1,001 to $15,000', 'Trade Date': '2022-03-30', 'Senator': 'Thomas H Tuberville [Tuberville, Tommy]'}, {'Trade': 'Humacyte, Inc. - Common Stock [HUMA]', 'Trade Type': 'Purchase', 'Value': '$15,001 to $50,000', 'Trade Date': '2022-03-30', 'Senator': 'Thomas H Tuberville [Tuberville, Tommy]'}, {'Trade': 'ChannelAdvisor Corporation Common Stock [ECOM]', 'Trade Type': 'Purchase', 'Value': '$15,001 to $50,000', 'Trade Date': '2022-03-21', 'Senator': 'Thomas H Tuberville [Tuberville, Tommy]'}, {'Trade': 'ChannelAdvisor Corporation Common Stock [ECOM]', 'Trade Type': 'Purchase', 'Value': '$50,001 to $100,000', 'Trade Date': '2022-03-08', 'Senator': 'Thomas H Tuberville [Tuberville, Tommy]'}, {'Trade': 'Global Medical REIT Inc. Common Stock [GMRE]', 'Trade Type': 'Purchase', 'Value': '$1,001 to $15,000', 'Trade Date': '2022-01-18', 'Senator': 'Thomas R Carper [Carper, Thomas R.]'}, {'Trade': 'Stratasys, Ltd. - Common Stock [SSYS]', 'Trade Type': 'Purchase', 'Value': '$15,001 to $50,000', 'Trade Date': '2021-12-13', 'Senator': 'Thomas H Tuberville [Tuberville, Tommy]'}, {'Trade': 'ChannelAdvisor Corporation Common Stock Option Type: Short Sale Strike price: $25.00 Expires: 06/17/2022 [ECOM]', 'Trade Type': 'Purchase', 'Value': '$1,001 to $15,000', 'Trade Date': '2021-11-22', 'Senator': 'Thomas H Tuberville [Tuberville, Tommy]'}]\n",
      "[{'Trade': 'Limestone Bancorp, Inc. - Common Stock [LMST]', 'Trade Type': 'Purchase', 'Value': '$1,001 to $15,000', 'Trade Date': '2022-03-30', 'Senator': 'Thomas H Tuberville [Tuberville, Tommy]'}, {'Trade': 'First Guaranty Bancshares, Inc. - Common Stock [FGBI]', 'Trade Type': 'Purchase', 'Value': '$1,001 to $15,000', 'Trade Date': '2022-03-30', 'Senator': 'Thomas H Tuberville [Tuberville, Tommy]'}, {'Trade': 'Humacyte, Inc. - Common Stock [HUMA]', 'Trade Type': 'Purchase', 'Value': '$15,001 to $50,000', 'Trade Date': '2022-03-30', 'Senator': 'Thomas H Tuberville [Tuberville, Tommy]'}, {'Trade': 'ChannelAdvisor Corporation Common Stock [ECOM]', 'Trade Type': 'Purchase', 'Value': '$15,001 to $50,000', 'Trade Date': '2022-03-21', 'Senator': 'Thomas H Tuberville [Tuberville, Tommy]'}, {'Trade': 'ChannelAdvisor Corporation Common Stock [ECOM]', 'Trade Type': 'Purchase', 'Value': '$50,001 to $100,000', 'Trade Date': '2022-03-08', 'Senator': 'Thomas H Tuberville [Tuberville, Tommy]'}, {'Trade': 'Global Medical REIT Inc. Common Stock [GMRE]', 'Trade Type': 'Purchase', 'Value': '$1,001 to $15,000', 'Trade Date': '2022-01-18', 'Senator': 'Thomas R Carper [Carper, Thomas R.]'}, {'Trade': 'Stratasys, Ltd. - Common Stock [SSYS]', 'Trade Type': 'Purchase', 'Value': '$15,001 to $50,000', 'Trade Date': '2021-12-13', 'Senator': 'Thomas H Tuberville [Tuberville, Tommy]'}, {'Trade': 'ChannelAdvisor Corporation Common Stock Option Type: Short Sale Strike price: $25.00 Expires: 06/17/2022 [ECOM]', 'Trade Type': 'Purchase', 'Value': '$1,001 to $15,000', 'Trade Date': '2021-11-22', 'Senator': 'Thomas H Tuberville [Tuberville, Tommy]'}]\n",
      "[{'Trade': 'Limestone Bancorp, Inc. - Common Stock [LMST]', 'Trade Type': 'Purchase', 'Value': '$1,001 to $15,000', 'Trade Date': '2022-03-30', 'Senator': 'Thomas H Tuberville [Tuberville, Tommy]'}, {'Trade': 'First Guaranty Bancshares, Inc. - Common Stock [FGBI]', 'Trade Type': 'Purchase', 'Value': '$1,001 to $15,000', 'Trade Date': '2022-03-30', 'Senator': 'Thomas H Tuberville [Tuberville, Tommy]'}, {'Trade': 'Humacyte, Inc. - Common Stock [HUMA]', 'Trade Type': 'Purchase', 'Value': '$15,001 to $50,000', 'Trade Date': '2022-03-30', 'Senator': 'Thomas H Tuberville [Tuberville, Tommy]'}, {'Trade': 'ChannelAdvisor Corporation Common Stock [ECOM]', 'Trade Type': 'Purchase', 'Value': '$15,001 to $50,000', 'Trade Date': '2022-03-21', 'Senator': 'Thomas H Tuberville [Tuberville, Tommy]'}, {'Trade': 'ChannelAdvisor Corporation Common Stock [ECOM]', 'Trade Type': 'Purchase', 'Value': '$50,001 to $100,000', 'Trade Date': '2022-03-08', 'Senator': 'Thomas H Tuberville [Tuberville, Tommy]'}, {'Trade': 'Global Medical REIT Inc. Common Stock [GMRE]', 'Trade Type': 'Purchase', 'Value': '$1,001 to $15,000', 'Trade Date': '2022-01-18', 'Senator': 'Thomas R Carper [Carper, Thomas R.]'}, {'Trade': 'Stratasys, Ltd. - Common Stock [SSYS]', 'Trade Type': 'Purchase', 'Value': '$15,001 to $50,000', 'Trade Date': '2021-12-13', 'Senator': 'Thomas H Tuberville [Tuberville, Tommy]'}, {'Trade': 'ChannelAdvisor Corporation Common Stock Option Type: Short Sale Strike price: $25.00 Expires: 06/17/2022 [ECOM]', 'Trade Type': 'Purchase', 'Value': '$1,001 to $15,000', 'Trade Date': '2021-11-22', 'Senator': 'Thomas H Tuberville [Tuberville, Tommy]'}]\n",
      "[{'Trade': 'Limestone Bancorp, Inc. - Common Stock [LMST]', 'Trade Type': 'Purchase', 'Value': '$1,001 to $15,000', 'Trade Date': '2022-03-30', 'Senator': 'Thomas H Tuberville [Tuberville, Tommy]'}, {'Trade': 'First Guaranty Bancshares, Inc. - Common Stock [FGBI]', 'Trade Type': 'Purchase', 'Value': '$1,001 to $15,000', 'Trade Date': '2022-03-30', 'Senator': 'Thomas H Tuberville [Tuberville, Tommy]'}, {'Trade': 'Humacyte, Inc. - Common Stock [HUMA]', 'Trade Type': 'Purchase', 'Value': '$15,001 to $50,000', 'Trade Date': '2022-03-30', 'Senator': 'Thomas H Tuberville [Tuberville, Tommy]'}, {'Trade': 'ChannelAdvisor Corporation Common Stock [ECOM]', 'Trade Type': 'Purchase', 'Value': '$15,001 to $50,000', 'Trade Date': '2022-03-21', 'Senator': 'Thomas H Tuberville [Tuberville, Tommy]'}, {'Trade': 'ChannelAdvisor Corporation Common Stock [ECOM]', 'Trade Type': 'Purchase', 'Value': '$50,001 to $100,000', 'Trade Date': '2022-03-08', 'Senator': 'Thomas H Tuberville [Tuberville, Tommy]'}, {'Trade': 'Global Medical REIT Inc. Common Stock [GMRE]', 'Trade Type': 'Purchase', 'Value': '$1,001 to $15,000', 'Trade Date': '2022-01-18', 'Senator': 'Thomas R Carper [Carper, Thomas R.]'}, {'Trade': 'Stratasys, Ltd. - Common Stock [SSYS]', 'Trade Type': 'Purchase', 'Value': '$15,001 to $50,000', 'Trade Date': '2021-12-13', 'Senator': 'Thomas H Tuberville [Tuberville, Tommy]'}, {'Trade': 'ChannelAdvisor Corporation Common Stock Option Type: Short Sale Strike price: $25.00 Expires: 06/17/2022 [ECOM]', 'Trade Type': 'Purchase', 'Value': '$1,001 to $15,000', 'Trade Date': '2021-11-22', 'Senator': 'Thomas H Tuberville [Tuberville, Tommy]'}]\n"
     ]
    }
   ],
   "source": [
    "smallCaps = getSmallCaps(all_trades)\n",
    "for s in smallCaps:\n",
    "    print(s)"
   ]
  }
 ],
 "metadata": {
  "interpreter": {
   "hash": "953dcbbcda697a7411822c4a3e6fce342850cb4e21d1ef3e2d71fa3ba11fc2f4"
  },
  "kernelspec": {
   "display_name": "Python 3.9.1 64-bit",
   "language": "python",
   "name": "python3"
  },
  "language_info": {
   "codemirror_mode": {
    "name": "ipython",
    "version": 3
   },
   "file_extension": ".py",
   "mimetype": "text/x-python",
   "name": "python",
   "nbconvert_exporter": "python",
   "pygments_lexer": "ipython3",
   "version": "3.9.1"
  },
  "orig_nbformat": 4
 },
 "nbformat": 4,
 "nbformat_minor": 2
}
